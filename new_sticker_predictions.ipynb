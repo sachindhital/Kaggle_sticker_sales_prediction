{
 "cells": [
  {
   "cell_type": "code",
   "execution_count": 17,
   "metadata": {},
   "outputs": [],
   "source": [
    "# importing required library\n",
    "import numpy as np\n",
    "import pandas as pd\n",
    "import matplotlib.pyplot as plt\n",
    "import seaborn as sns"
   ]
  },
  {
   "cell_type": "code",
   "execution_count": 82,
   "metadata": {},
   "outputs": [],
   "source": [
    "\n",
    "import pandas as pd\n",
    "\n",
    "# Load the data\n",
    "df_train = pd.read_csv('C:\\\\Projects\\\\Kaggle\\\\playground-series-s5e1\\\\train.csv')\n",
    "df_test = pd.read_csv('C:\\\\Projects\\\\Kaggle\\\\playground-series-s5e1\\\\test.csv')\n",
    "\n"
   ]
  },
  {
   "cell_type": "code",
   "execution_count": 4,
   "metadata": {},
   "outputs": [
    {
     "data": {
      "text/html": [
       "<div>\n",
       "<style scoped>\n",
       "    .dataframe tbody tr th:only-of-type {\n",
       "        vertical-align: middle;\n",
       "    }\n",
       "\n",
       "    .dataframe tbody tr th {\n",
       "        vertical-align: top;\n",
       "    }\n",
       "\n",
       "    .dataframe thead th {\n",
       "        text-align: right;\n",
       "    }\n",
       "</style>\n",
       "<table border=\"1\" class=\"dataframe\">\n",
       "  <thead>\n",
       "    <tr style=\"text-align: right;\">\n",
       "      <th></th>\n",
       "      <th>id</th>\n",
       "      <th>date</th>\n",
       "      <th>country</th>\n",
       "      <th>store</th>\n",
       "      <th>product</th>\n",
       "      <th>num_sold</th>\n",
       "    </tr>\n",
       "  </thead>\n",
       "  <tbody>\n",
       "    <tr>\n",
       "      <th>0</th>\n",
       "      <td>0</td>\n",
       "      <td>2010-01-01</td>\n",
       "      <td>Canada</td>\n",
       "      <td>Discount Stickers</td>\n",
       "      <td>Holographic Goose</td>\n",
       "      <td>NaN</td>\n",
       "    </tr>\n",
       "    <tr>\n",
       "      <th>1</th>\n",
       "      <td>1</td>\n",
       "      <td>2010-01-01</td>\n",
       "      <td>Canada</td>\n",
       "      <td>Discount Stickers</td>\n",
       "      <td>Kaggle</td>\n",
       "      <td>973.0</td>\n",
       "    </tr>\n",
       "    <tr>\n",
       "      <th>2</th>\n",
       "      <td>2</td>\n",
       "      <td>2010-01-01</td>\n",
       "      <td>Canada</td>\n",
       "      <td>Discount Stickers</td>\n",
       "      <td>Kaggle Tiers</td>\n",
       "      <td>906.0</td>\n",
       "    </tr>\n",
       "    <tr>\n",
       "      <th>3</th>\n",
       "      <td>3</td>\n",
       "      <td>2010-01-01</td>\n",
       "      <td>Canada</td>\n",
       "      <td>Discount Stickers</td>\n",
       "      <td>Kerneler</td>\n",
       "      <td>423.0</td>\n",
       "    </tr>\n",
       "    <tr>\n",
       "      <th>4</th>\n",
       "      <td>4</td>\n",
       "      <td>2010-01-01</td>\n",
       "      <td>Canada</td>\n",
       "      <td>Discount Stickers</td>\n",
       "      <td>Kerneler Dark Mode</td>\n",
       "      <td>491.0</td>\n",
       "    </tr>\n",
       "  </tbody>\n",
       "</table>\n",
       "</div>"
      ],
      "text/plain": [
       "   id        date country              store             product  num_sold\n",
       "0   0  2010-01-01  Canada  Discount Stickers   Holographic Goose       NaN\n",
       "1   1  2010-01-01  Canada  Discount Stickers              Kaggle     973.0\n",
       "2   2  2010-01-01  Canada  Discount Stickers        Kaggle Tiers     906.0\n",
       "3   3  2010-01-01  Canada  Discount Stickers            Kerneler     423.0\n",
       "4   4  2010-01-01  Canada  Discount Stickers  Kerneler Dark Mode     491.0"
      ]
     },
     "execution_count": 4,
     "metadata": {},
     "output_type": "execute_result"
    }
   ],
   "source": [
    "df_train.head()\n"
   ]
  },
  {
   "cell_type": "code",
   "execution_count": 5,
   "metadata": {},
   "outputs": [
    {
     "data": {
      "text/plain": [
       "(230130, 6)"
      ]
     },
     "execution_count": 5,
     "metadata": {},
     "output_type": "execute_result"
    }
   ],
   "source": [
    "df_train.shape\n"
   ]
  },
  {
   "cell_type": "code",
   "execution_count": 6,
   "metadata": {},
   "outputs": [
    {
     "data": {
      "text/plain": [
       "id             0\n",
       "date           0\n",
       "country        0\n",
       "store          0\n",
       "product        0\n",
       "num_sold    8871\n",
       "dtype: int64"
      ]
     },
     "execution_count": 6,
     "metadata": {},
     "output_type": "execute_result"
    }
   ],
   "source": [
    "df_train.isnull().sum()\n"
   ]
  },
  {
   "cell_type": "markdown",
   "metadata": {},
   "source": [
    "It can be seen df_train column that is the target has null value in it, around 8871 out of total 2 lakh row¶\n",
    "It need to be imputed further so that it doesnot impact the forecasting of target\n",
    "Simple way is to replace with mean, median"
   ]
  },
  {
   "cell_type": "code",
   "execution_count": 7,
   "metadata": {},
   "outputs": [
    {
     "data": {
      "text/plain": [
       "id         0\n",
       "date       0\n",
       "country    0\n",
       "store      0\n",
       "product    0\n",
       "dtype: int64"
      ]
     },
     "execution_count": 7,
     "metadata": {},
     "output_type": "execute_result"
    }
   ],
   "source": [
    "df_test.isnull().sum()\n"
   ]
  },
  {
   "cell_type": "code",
   "execution_count": 8,
   "metadata": {},
   "outputs": [
    {
     "data": {
      "text/plain": [
       "752.5273819370059"
      ]
     },
     "execution_count": 8,
     "metadata": {},
     "output_type": "execute_result"
    }
   ],
   "source": [
    "df_train['num_sold'] = df_train['num_sold'].fillna(df_train['num_sold'].mean())\n",
    "df_train['num_sold'].mean()\n"
   ]
  },
  {
   "cell_type": "code",
   "execution_count": 9,
   "metadata": {},
   "outputs": [
    {
     "data": {
      "text/plain": [
       "array(['Discount Stickers', 'Stickers for Less', 'Premium Sticker Mart'],\n",
       "      dtype=object)"
      ]
     },
     "execution_count": 9,
     "metadata": {},
     "output_type": "execute_result"
    }
   ],
   "source": [
    "df_train['store'].unique()\n"
   ]
  },
  {
   "cell_type": "code",
   "execution_count": 10,
   "metadata": {},
   "outputs": [
    {
     "data": {
      "text/plain": [
       "array(['Canada', 'Finland', 'Italy', 'Kenya', 'Norway', 'Singapore'],\n",
       "      dtype=object)"
      ]
     },
     "execution_count": 10,
     "metadata": {},
     "output_type": "execute_result"
    }
   ],
   "source": [
    "df_train['country'].unique()\n"
   ]
  },
  {
   "cell_type": "code",
   "execution_count": 11,
   "metadata": {},
   "outputs": [
    {
     "data": {
      "text/plain": [
       "Index(['id', 'date', 'country', 'store', 'product', 'num_sold'], dtype='object')"
      ]
     },
     "execution_count": 11,
     "metadata": {},
     "output_type": "execute_result"
    }
   ],
   "source": [
    "df_train.columns\n"
   ]
  },
  {
   "cell_type": "code",
   "execution_count": 12,
   "metadata": {},
   "outputs": [
    {
     "data": {
      "text/plain": [
       "array(['Holographic Goose', 'Kaggle', 'Kaggle Tiers', 'Kerneler',\n",
       "       'Kerneler Dark Mode'], dtype=object)"
      ]
     },
     "execution_count": 12,
     "metadata": {},
     "output_type": "execute_result"
    }
   ],
   "source": [
    "df_train['product'].unique()\n"
   ]
  },
  {
   "cell_type": "markdown",
   "metadata": {},
   "source": [
    " Here we have overall 5 product \n",
    " so in all we have in dataframe 5 products, 6 country and 3 stickers to play around with it \n",
    " where these information is gathered from 2010 till 2016"
   ]
  },
  {
   "cell_type": "code",
   "execution_count": 13,
   "metadata": {},
   "outputs": [
    {
     "data": {
      "text/plain": [
       "array(['2010-01-01', '2010-01-02', '2010-01-03', ..., '2016-12-29',\n",
       "       '2016-12-30', '2016-12-31'], dtype=object)"
      ]
     },
     "execution_count": 13,
     "metadata": {},
     "output_type": "execute_result"
    }
   ],
   "source": [
    "df_train['date'].unique()\n"
   ]
  },
  {
   "cell_type": "code",
   "execution_count": 14,
   "metadata": {},
   "outputs": [
    {
     "data": {
      "text/plain": [
       "('2010-01-01', '2016-12-31')"
      ]
     },
     "execution_count": 14,
     "metadata": {},
     "output_type": "execute_result"
    }
   ],
   "source": [
    "df_train['date'].min(),df_train['date'].max()\n"
   ]
  },
  {
   "cell_type": "code",
   "execution_count": 15,
   "metadata": {},
   "outputs": [
    {
     "data": {
      "text/plain": [
       "product\n",
       "Holographic Goose     1.397712e+07\n",
       "Kaggle                5.672173e+07\n",
       "Kaggle Tiers          4.687031e+07\n",
       "Kerneler              2.564500e+07\n",
       "Kerneler Dark Mode    2.996496e+07\n",
       "Name: num_sold, dtype: float64"
      ]
     },
     "execution_count": 15,
     "metadata": {},
     "output_type": "execute_result"
    }
   ],
   "source": [
    "# Lets break down further into data side ,product,store,country,date,num_sold\n",
    "\n",
    "dproduct = df_train.groupby(['product'])['num_sold'].sum()\n",
    "dproduct"
   ]
  },
  {
   "cell_type": "code",
   "execution_count": 18,
   "metadata": {},
   "outputs": [
    {
     "data": {
      "text/plain": [
       "<Axes: xlabel='product', ylabel='num_sold'>"
      ]
     },
     "execution_count": 18,
     "metadata": {},
     "output_type": "execute_result"
    },
    {
     "data": {
      "image/png": "[encoded data removed]",
      "text/plain": [
       "<Figure size 640x480 with 1 Axes>"
      ]
     },
     "metadata": {},
     "output_type": "display_data"
    }
   ],
   "source": [
    "sns.lineplot(dproduct)\n"
   ]
  },
  {
   "cell_type": "code",
   "execution_count": 19,
   "metadata": {},
   "outputs": [
    {
     "data": {
      "text/plain": [
       "country\n",
       "Canada       3.184833e+07\n",
       "Finland      2.869887e+07\n",
       "Italy        2.079767e+07\n",
       "Kenya        4.169580e+06\n",
       "Norway       5.456230e+07\n",
       "Singapore    3.310237e+07\n",
       "Name: num_sold, dtype: float64"
      ]
     },
     "execution_count": 19,
     "metadata": {},
     "output_type": "execute_result"
    }
   ],
   "source": [
    "dcountry = df_train.groupby(['country'])['num_sold'].sum()\n",
    "dcountry"
   ]
  },
  {
   "cell_type": "code",
   "execution_count": 20,
   "metadata": {},
   "outputs": [
    {
     "data": {
      "text/plain": [
       "<Axes: xlabel='country', ylabel='num_sold'>"
      ]
     },
     "execution_count": 20,
     "metadata": {},
     "output_type": "execute_result"
    },
    {
     "data": {
      "image/png": "[encoded data removed]",
      "text/plain": [
       "<Figure size 640x480 with 1 Axes>"
      ]
     },
     "metadata": {},
     "output_type": "display_data"
    }
   ],
   "source": [
    "sns.lineplot(dcountry)\n"
   ]
  },
  {
   "cell_type": "code",
   "execution_count": 21,
   "metadata": {},
   "outputs": [
    {
     "data": {
      "text/plain": [
       "store\n",
       "Discount Stickers       3.449658e+07\n",
       "Premium Sticker Mart    7.447592e+07\n",
       "Stickers for Less       6.420664e+07\n",
       "Name: num_sold, dtype: float64"
      ]
     },
     "execution_count": 21,
     "metadata": {},
     "output_type": "execute_result"
    }
   ],
   "source": [
    "dstore = df_train.groupby(['store'])['num_sold'].sum()\n",
    "dstore"
   ]
  },
  {
   "cell_type": "code",
   "execution_count": 22,
   "metadata": {},
   "outputs": [
    {
     "data": {
      "text/plain": [
       "<Axes: xlabel='store', ylabel='num_sold'>"
      ]
     },
     "execution_count": 22,
     "metadata": {},
     "output_type": "execute_result"
    },
    {
     "data": {
      "image/png": "[encoded data removed]",
      "text/plain": [
       "<Figure size 640x480 with 1 Axes>"
      ]
     },
     "metadata": {},
     "output_type": "display_data"
    }
   ],
   "source": [
    "sns.lineplot(dstore)\n"
   ]
  },
  {
   "cell_type": "code",
   "execution_count": 23,
   "metadata": {},
   "outputs": [
    {
     "data": {
      "text/plain": [
       "product             store              country  \n",
       "Holographic Goose   Discount Stickers  Canada       752.527382\n",
       "                                       Finland       65.000000\n",
       "                                       Italy         44.000000\n",
       "                                       Kenya        752.527382\n",
       "                                       Norway       105.000000\n",
       "                                                       ...    \n",
       "Kerneler Dark Mode  Stickers for Less  Finland      468.000000\n",
       "                                       Italy        327.000000\n",
       "                                       Kenya         10.000000\n",
       "                                       Norway       749.000000\n",
       "                                       Singapore    486.000000\n",
       "Name: num_sold, Length: 90, dtype: float64"
      ]
     },
     "execution_count": 23,
     "metadata": {},
     "output_type": "execute_result"
    }
   ],
   "source": [
    "dfsold_min = df_train.groupby(['product','store','country'])['num_sold'].min()\n",
    "dfsold_min"
   ]
  },
  {
   "cell_type": "code",
   "execution_count": 24,
   "metadata": {},
   "outputs": [
    {
     "data": {
      "text/html": [
       "<div>\n",
       "<style scoped>\n",
       "    .dataframe tbody tr th:only-of-type {\n",
       "        vertical-align: middle;\n",
       "    }\n",
       "\n",
       "    .dataframe tbody tr th {\n",
       "        vertical-align: top;\n",
       "    }\n",
       "\n",
       "    .dataframe thead th {\n",
       "        text-align: right;\n",
       "    }\n",
       "</style>\n",
       "<table border=\"1\" class=\"dataframe\">\n",
       "  <thead>\n",
       "    <tr style=\"text-align: right;\">\n",
       "      <th></th>\n",
       "      <th></th>\n",
       "      <th></th>\n",
       "      <th>id</th>\n",
       "      <th>date</th>\n",
       "      <th>num_sold</th>\n",
       "    </tr>\n",
       "    <tr>\n",
       "      <th>product</th>\n",
       "      <th>store</th>\n",
       "      <th>country</th>\n",
       "      <th></th>\n",
       "      <th></th>\n",
       "      <th></th>\n",
       "    </tr>\n",
       "  </thead>\n",
       "  <tbody>\n",
       "    <tr>\n",
       "      <th rowspan=\"5\" valign=\"top\">Holographic Goose</th>\n",
       "      <th rowspan=\"5\" valign=\"top\">Discount Stickers</th>\n",
       "      <th>Canada</th>\n",
       "      <td>230040</td>\n",
       "      <td>2016-12-31</td>\n",
       "      <td>752.527382</td>\n",
       "    </tr>\n",
       "    <tr>\n",
       "      <th>Finland</th>\n",
       "      <td>230055</td>\n",
       "      <td>2016-12-31</td>\n",
       "      <td>195.000000</td>\n",
       "    </tr>\n",
       "    <tr>\n",
       "      <th>Italy</th>\n",
       "      <td>230070</td>\n",
       "      <td>2016-12-31</td>\n",
       "      <td>135.000000</td>\n",
       "    </tr>\n",
       "    <tr>\n",
       "      <th>Kenya</th>\n",
       "      <td>230085</td>\n",
       "      <td>2016-12-31</td>\n",
       "      <td>752.527382</td>\n",
       "    </tr>\n",
       "    <tr>\n",
       "      <th>Norway</th>\n",
       "      <td>230100</td>\n",
       "      <td>2016-12-31</td>\n",
       "      <td>352.000000</td>\n",
       "    </tr>\n",
       "    <tr>\n",
       "      <th>...</th>\n",
       "      <th>...</th>\n",
       "      <th>...</th>\n",
       "      <td>...</td>\n",
       "      <td>...</td>\n",
       "      <td>...</td>\n",
       "    </tr>\n",
       "    <tr>\n",
       "      <th rowspan=\"5\" valign=\"top\">Kerneler Dark Mode</th>\n",
       "      <th rowspan=\"5\" valign=\"top\">Stickers for Less</th>\n",
       "      <th>Finland</th>\n",
       "      <td>230064</td>\n",
       "      <td>2016-12-31</td>\n",
       "      <td>1272.000000</td>\n",
       "    </tr>\n",
       "    <tr>\n",
       "      <th>Italy</th>\n",
       "      <td>230079</td>\n",
       "      <td>2016-12-31</td>\n",
       "      <td>898.000000</td>\n",
       "    </tr>\n",
       "    <tr>\n",
       "      <th>Kenya</th>\n",
       "      <td>230094</td>\n",
       "      <td>2016-12-31</td>\n",
       "      <td>34.000000</td>\n",
       "    </tr>\n",
       "    <tr>\n",
       "      <th>Norway</th>\n",
       "      <td>230109</td>\n",
       "      <td>2016-12-31</td>\n",
       "      <td>2740.000000</td>\n",
       "    </tr>\n",
       "    <tr>\n",
       "      <th>Singapore</th>\n",
       "      <td>230124</td>\n",
       "      <td>2016-12-31</td>\n",
       "      <td>1421.000000</td>\n",
       "    </tr>\n",
       "  </tbody>\n",
       "</table>\n",
       "<p>90 rows × 3 columns</p>\n",
       "</div>"
      ],
      "text/plain": [
       "                                                    id        date  \\\n",
       "product            store             country                         \n",
       "Holographic Goose  Discount Stickers Canada     230040  2016-12-31   \n",
       "                                     Finland    230055  2016-12-31   \n",
       "                                     Italy      230070  2016-12-31   \n",
       "                                     Kenya      230085  2016-12-31   \n",
       "                                     Norway     230100  2016-12-31   \n",
       "...                                                ...         ...   \n",
       "Kerneler Dark Mode Stickers for Less Finland    230064  2016-12-31   \n",
       "                                     Italy      230079  2016-12-31   \n",
       "                                     Kenya      230094  2016-12-31   \n",
       "                                     Norway     230109  2016-12-31   \n",
       "                                     Singapore  230124  2016-12-31   \n",
       "\n",
       "                                                   num_sold  \n",
       "product            store             country                 \n",
       "Holographic Goose  Discount Stickers Canada      752.527382  \n",
       "                                     Finland     195.000000  \n",
       "                                     Italy       135.000000  \n",
       "                                     Kenya       752.527382  \n",
       "                                     Norway      352.000000  \n",
       "...                                                     ...  \n",
       "Kerneler Dark Mode Stickers for Less Finland    1272.000000  \n",
       "                                     Italy       898.000000  \n",
       "                                     Kenya        34.000000  \n",
       "                                     Norway     2740.000000  \n",
       "                                     Singapore  1421.000000  \n",
       "\n",
       "[90 rows x 3 columns]"
      ]
     },
     "execution_count": 24,
     "metadata": {},
     "output_type": "execute_result"
    }
   ],
   "source": [
    "df_sold_max = df_train.groupby(['product','store','country']).max()\n",
    "df_sold_max\n"
   ]
  },
  {
   "cell_type": "code",
   "execution_count": 25,
   "metadata": {},
   "outputs": [],
   "source": [
    "df_m = df_train.loc[df_train.groupby(['store','product'])['num_sold'].idxmax()].reset_index(drop=True)\n"
   ]
  },
  {
   "cell_type": "code",
   "execution_count": 26,
   "metadata": {},
   "outputs": [
    {
     "data": {
      "text/html": [
       "<div>\n",
       "<style scoped>\n",
       "    .dataframe tbody tr th:only-of-type {\n",
       "        vertical-align: middle;\n",
       "    }\n",
       "\n",
       "    .dataframe tbody tr th {\n",
       "        vertical-align: top;\n",
       "    }\n",
       "\n",
       "    .dataframe thead th {\n",
       "        text-align: right;\n",
       "    }\n",
       "</style>\n",
       "<table border=\"1\" class=\"dataframe\">\n",
       "  <thead>\n",
       "    <tr style=\"text-align: right;\">\n",
       "      <th></th>\n",
       "      <th>id</th>\n",
       "      <th>date</th>\n",
       "      <th>country</th>\n",
       "      <th>store</th>\n",
       "      <th>product</th>\n",
       "      <th>num_sold</th>\n",
       "    </tr>\n",
       "  </thead>\n",
       "  <tbody>\n",
       "    <tr>\n",
       "      <th>0</th>\n",
       "      <td>0</td>\n",
       "      <td>2010-01-01</td>\n",
       "      <td>Canada</td>\n",
       "      <td>Discount Stickers</td>\n",
       "      <td>Holographic Goose</td>\n",
       "      <td>752.527382</td>\n",
       "    </tr>\n",
       "    <tr>\n",
       "      <th>1</th>\n",
       "      <td>131281</td>\n",
       "      <td>2013-12-29</td>\n",
       "      <td>Norway</td>\n",
       "      <td>Discount Stickers</td>\n",
       "      <td>Kaggle</td>\n",
       "      <td>2488.000000</td>\n",
       "    </tr>\n",
       "    <tr>\n",
       "      <th>2</th>\n",
       "      <td>131282</td>\n",
       "      <td>2013-12-29</td>\n",
       "      <td>Norway</td>\n",
       "      <td>Discount Stickers</td>\n",
       "      <td>Kaggle Tiers</td>\n",
       "      <td>2084.000000</td>\n",
       "    </tr>\n",
       "    <tr>\n",
       "      <th>3</th>\n",
       "      <td>131283</td>\n",
       "      <td>2013-12-29</td>\n",
       "      <td>Norway</td>\n",
       "      <td>Discount Stickers</td>\n",
       "      <td>Kerneler</td>\n",
       "      <td>1164.000000</td>\n",
       "    </tr>\n",
       "    <tr>\n",
       "      <th>4</th>\n",
       "      <td>75214</td>\n",
       "      <td>2012-04-15</td>\n",
       "      <td>Norway</td>\n",
       "      <td>Discount Stickers</td>\n",
       "      <td>Kerneler Dark Mode</td>\n",
       "      <td>1298.000000</td>\n",
       "    </tr>\n",
       "    <tr>\n",
       "      <th>5</th>\n",
       "      <td>131290</td>\n",
       "      <td>2013-12-29</td>\n",
       "      <td>Norway</td>\n",
       "      <td>Premium Sticker Mart</td>\n",
       "      <td>Holographic Goose</td>\n",
       "      <td>908.000000</td>\n",
       "    </tr>\n",
       "    <tr>\n",
       "      <th>6</th>\n",
       "      <td>98531</td>\n",
       "      <td>2012-12-30</td>\n",
       "      <td>Norway</td>\n",
       "      <td>Premium Sticker Mart</td>\n",
       "      <td>Kaggle</td>\n",
       "      <td>5939.000000</td>\n",
       "    </tr>\n",
       "    <tr>\n",
       "      <th>7</th>\n",
       "      <td>131292</td>\n",
       "      <td>2013-12-29</td>\n",
       "      <td>Norway</td>\n",
       "      <td>Premium Sticker Mart</td>\n",
       "      <td>Kaggle Tiers</td>\n",
       "      <td>4958.000000</td>\n",
       "    </tr>\n",
       "    <tr>\n",
       "      <th>8</th>\n",
       "      <td>131293</td>\n",
       "      <td>2013-12-29</td>\n",
       "      <td>Norway</td>\n",
       "      <td>Premium Sticker Mart</td>\n",
       "      <td>Kerneler</td>\n",
       "      <td>2496.000000</td>\n",
       "    </tr>\n",
       "    <tr>\n",
       "      <th>9</th>\n",
       "      <td>43094</td>\n",
       "      <td>2011-04-24</td>\n",
       "      <td>Norway</td>\n",
       "      <td>Premium Sticker Mart</td>\n",
       "      <td>Kerneler Dark Mode</td>\n",
       "      <td>3127.000000</td>\n",
       "    </tr>\n",
       "    <tr>\n",
       "      <th>10</th>\n",
       "      <td>320</td>\n",
       "      <td>2010-01-04</td>\n",
       "      <td>Kenya</td>\n",
       "      <td>Stickers for Less</td>\n",
       "      <td>Holographic Goose</td>\n",
       "      <td>752.527382</td>\n",
       "    </tr>\n",
       "    <tr>\n",
       "      <th>11</th>\n",
       "      <td>164046</td>\n",
       "      <td>2014-12-28</td>\n",
       "      <td>Norway</td>\n",
       "      <td>Stickers for Less</td>\n",
       "      <td>Kaggle</td>\n",
       "      <td>4444.000000</td>\n",
       "    </tr>\n",
       "    <tr>\n",
       "      <th>12</th>\n",
       "      <td>131287</td>\n",
       "      <td>2013-12-29</td>\n",
       "      <td>Norway</td>\n",
       "      <td>Stickers for Less</td>\n",
       "      <td>Kaggle Tiers</td>\n",
       "      <td>4308.000000</td>\n",
       "    </tr>\n",
       "    <tr>\n",
       "      <th>13</th>\n",
       "      <td>131288</td>\n",
       "      <td>2013-12-29</td>\n",
       "      <td>Norway</td>\n",
       "      <td>Stickers for Less</td>\n",
       "      <td>Kerneler</td>\n",
       "      <td>2302.000000</td>\n",
       "    </tr>\n",
       "    <tr>\n",
       "      <th>14</th>\n",
       "      <td>131289</td>\n",
       "      <td>2013-12-29</td>\n",
       "      <td>Norway</td>\n",
       "      <td>Stickers for Less</td>\n",
       "      <td>Kerneler Dark Mode</td>\n",
       "      <td>2740.000000</td>\n",
       "    </tr>\n",
       "  </tbody>\n",
       "</table>\n",
       "</div>"
      ],
      "text/plain": [
       "        id        date country                 store             product  \\\n",
       "0        0  2010-01-01  Canada     Discount Stickers   Holographic Goose   \n",
       "1   131281  2013-12-29  Norway     Discount Stickers              Kaggle   \n",
       "2   131282  2013-12-29  Norway     Discount Stickers        Kaggle Tiers   \n",
       "3   131283  2013-12-29  Norway     Discount Stickers            Kerneler   \n",
       "4    75214  2012-04-15  Norway     Discount Stickers  Kerneler Dark Mode   \n",
       "5   131290  2013-12-29  Norway  Premium Sticker Mart   Holographic Goose   \n",
       "6    98531  2012-12-30  Norway  Premium Sticker Mart              Kaggle   \n",
       "7   131292  2013-12-29  Norway  Premium Sticker Mart        Kaggle Tiers   \n",
       "8   131293  2013-12-29  Norway  Premium Sticker Mart            Kerneler   \n",
       "9    43094  2011-04-24  Norway  Premium Sticker Mart  Kerneler Dark Mode   \n",
       "10     320  2010-01-04   Kenya     Stickers for Less   Holographic Goose   \n",
       "11  164046  2014-12-28  Norway     Stickers for Less              Kaggle   \n",
       "12  131287  2013-12-29  Norway     Stickers for Less        Kaggle Tiers   \n",
       "13  131288  2013-12-29  Norway     Stickers for Less            Kerneler   \n",
       "14  131289  2013-12-29  Norway     Stickers for Less  Kerneler Dark Mode   \n",
       "\n",
       "       num_sold  \n",
       "0    752.527382  \n",
       "1   2488.000000  \n",
       "2   2084.000000  \n",
       "3   1164.000000  \n",
       "4   1298.000000  \n",
       "5    908.000000  \n",
       "6   5939.000000  \n",
       "7   4958.000000  \n",
       "8   2496.000000  \n",
       "9   3127.000000  \n",
       "10   752.527382  \n",
       "11  4444.000000  \n",
       "12  4308.000000  \n",
       "13  2302.000000  \n",
       "14  2740.000000  "
      ]
     },
     "execution_count": 26,
     "metadata": {},
     "output_type": "execute_result"
    }
   ],
   "source": [
    "df_m"
   ]
  },
  {
   "cell_type": "code",
   "execution_count": 27,
   "metadata": {},
   "outputs": [
    {
     "data": {
      "text/plain": [
       "Index(['id', 'date', 'country', 'store', 'product', 'num_sold'], dtype='object')"
      ]
     },
     "execution_count": 27,
     "metadata": {},
     "output_type": "execute_result"
    }
   ],
   "source": [
    "df_train.columns\n"
   ]
  },
  {
   "cell_type": "code",
   "execution_count": 28,
   "metadata": {},
   "outputs": [],
   "source": [
    "def extract_date_features(df):    \n",
    "    df['date'] = pd.to_datetime(df['date']) \n",
    "    df['month'] = df['date'].dt.month\n",
    "    df['weekday'] = df['date'].dt.weekday \n",
    "    df['week'] = df['date'].dt.isocalendar().week\n",
    "    #df['day_of_year'] = df['date'].dt.dayofyear\n",
    "    #df['day_of_week'] = df['date'].dt.dayofweek       \n",
    "    #df['month_sin'] = np.sin(2 * np.pi * df['month'] / 12)\n",
    "    #df['month_cos'] = np.cos(2 * np.pi * df['month'] / 12)\n",
    "    df['weekday_sin'] = np.sin(2 * np.pi * df['weekday'] / 7)\n",
    "    df['weekday_cos'] = np.cos(2 * np.pi * df['weekday'] / 7)\n",
    "    #df['day_of_year_sin'] = np.sin(2 * np.pi * df['day_of_year'] / 365)\n",
    "    #df['day_of_year_cos'] = np.cos(2 * np.pi * df['day_of_year'] / 365)\n",
    "    df['week_sin'] = np.sin(2 * np.pi * df['week'] / 52)\n",
    "    df['week_cos'] = np.cos(2 * np.pi * df['week'] / 52)\n",
    "    return df"
   ]
  },
  {
   "cell_type": "code",
   "execution_count": 29,
   "metadata": {},
   "outputs": [],
   "source": [
    "def create_features(df):    \n",
    "    df['country_store'] = df['country'] + \"_\" + df['store']   \n",
    "    df['store_product'] = df['store'] + \"_\" + df['product']   \n",
    "    df['country_product'] = df['country'] + \"_\" + df['product']\n",
    "    #df['product_category'] = df['product'].apply(lambda x: 'Sticker' if 'Sticker' in x else 'Merchandise')\n",
    "    #df = pd.get_dummies(df, columns=['country'], prefix='region')\n",
    "    #store_mapping = {'Discount Stickers': 0, 'Premium Stickers': 1}  \n",
    "    #df['store_type'] = df['store'].map(store_mapping)\n",
    "    return df\n",
    "\n",
    "df_train = create_features(df_train)\n",
    "df_test = create_features(df_test)"
   ]
  },
  {
   "cell_type": "code",
   "execution_count": 30,
   "metadata": {},
   "outputs": [],
   "source": [
    "df_train = extract_date_features(df_train)\n",
    "df_test = extract_date_features(df_test)"
   ]
  },
  {
   "cell_type": "code",
   "execution_count": 31,
   "metadata": {},
   "outputs": [],
   "source": [
    "start_date = df_train['date'].min()\n"
   ]
  },
  {
   "cell_type": "code",
   "execution_count": 32,
   "metadata": {},
   "outputs": [],
   "source": [
    "df_train = df_train.drop(['id','date'],axis=1)\n"
   ]
  },
  {
   "cell_type": "code",
   "execution_count": 33,
   "metadata": {},
   "outputs": [
    {
     "data": {
      "text/plain": [
       "(5939.0, 5.0)"
      ]
     },
     "execution_count": 33,
     "metadata": {},
     "output_type": "execute_result"
    }
   ],
   "source": [
    "df_train['num_sold'].max(),df_train['num_sold'].min()\n"
   ]
  },
  {
   "cell_type": "code",
   "execution_count": 34,
   "metadata": {},
   "outputs": [],
   "source": [
    "df_train['num_sold'] = (df_train['num_sold']-df_train['num_sold'].min())/df_train['num_sold'].max()"
   ]
  },
  {
   "cell_type": "code",
   "execution_count": 35,
   "metadata": {},
   "outputs": [
    {
     "data": {
      "text/plain": [
       "array([0.12586755, 0.1629904 , 0.15170904, ..., 0.57939047, 0.38070382,\n",
       "       0.67199865])"
      ]
     },
     "execution_count": 35,
     "metadata": {},
     "output_type": "execute_result"
    }
   ],
   "source": [
    "df_train['num_sold'].unique()\n"
   ]
  },
  {
   "cell_type": "code",
   "execution_count": 36,
   "metadata": {},
   "outputs": [],
   "source": [
    "from scipy.stats import skew\n"
   ]
  },
  {
   "cell_type": "markdown",
   "metadata": {},
   "source": [
    " lets check the skwness of the num_sold \n",
    " if 0 it is symmetric\n",
    " if >0 then it is right skewed\n",
    " if <0 then it is left skewed"
   ]
  },
  {
   "cell_type": "code",
   "execution_count": 37,
   "metadata": {},
   "outputs": [
    {
     "name": "stdout",
     "output_type": "stream",
     "text": [
      "skewness of num_sold:1.4434583174677849\n"
     ]
    }
   ],
   "source": [
    "from scipy.stats import skew\n",
    "skewness = skew(df_train['num_sold'],nan_policy='omit')\n",
    "print(f'skewness of num_sold:{skewness}')"
   ]
  },
  {
   "cell_type": "markdown",
   "metadata": {},
   "source": [
    "df_train['num_sold'] is higly skewed¶\n"
   ]
  },
  {
   "cell_type": "code",
   "execution_count": 39,
   "metadata": {},
   "outputs": [
    {
     "data": {
      "text/plain": [
       "0         0.118554\n",
       "1         0.150995\n",
       "2         0.141247\n",
       "3         0.068016\n",
       "4         0.078656\n",
       "            ...   \n",
       "230125    0.074757\n",
       "230126    0.397859\n",
       "230127    0.326610\n",
       "230128    0.189201\n",
       "230129    0.240801\n",
       "Name: num_sold, Length: 230130, dtype: float64"
      ]
     },
     "execution_count": 39,
     "metadata": {},
     "output_type": "execute_result"
    }
   ],
   "source": [
    "df_train['num_sold'] = np.log1p(df_train['num_sold'])\n",
    "df_train['num_sold']"
   ]
  },
  {
   "cell_type": "code",
   "execution_count": 40,
   "metadata": {},
   "outputs": [
    {
     "name": "stdout",
     "output_type": "stream",
     "text": [
      "skewness of num_sold: 1.1014876736424721\n"
     ]
    }
   ],
   "source": [
    "skewness = skew(df_train['num_sold'],nan_policy='omit')\n",
    "print(f'skewness of num_sold: {skewness}')"
   ]
  },
  {
   "cell_type": "code",
   "execution_count": 41,
   "metadata": {},
   "outputs": [
    {
     "data": {
      "image/png": "[encoded data removed]",
      "text/plain": [
       "<Figure size 640x480 with 1 Axes>"
      ]
     },
     "metadata": {},
     "output_type": "display_data"
    }
   ],
   "source": [
    "sns.histplot(df_train['num_sold'],kde=True,bins=30)\n",
    "plt.title(\"Distribution of num_sold\")\n",
    "plt.show()"
   ]
  },
  {
   "cell_type": "code",
   "execution_count": 42,
   "metadata": {},
   "outputs": [
    {
     "data": {
      "image/png": "[encoded data removed]",
      "text/plain": [
       "<Figure size 640x480 with 1 Axes>"
      ]
     },
     "metadata": {},
     "output_type": "display_data"
    }
   ],
   "source": [
    "sns.boxplot(x=df_train['num_sold'])\n",
    "plt.title(\"Box plot for num_sold\")\n",
    "plt.show()"
   ]
  },
  {
   "cell_type": "code",
   "execution_count": 43,
   "metadata": {},
   "outputs": [],
   "source": [
    "# Lets detect outliers present in the num_sold target \n",
    "\n",
    "q1 = df_train['num_sold'].quantile(0.25)\n",
    "q3 = df_train['num_sold'].quantile(0.75)\n",
    "iqr = q3-q1"
   ]
  },
  {
   "cell_type": "code",
   "execution_count": 44,
   "metadata": {},
   "outputs": [],
   "source": [
    "lower_bound = q1-1.5*iqr\n",
    "upper_bound = q3+1.5*iqr"
   ]
  },
  {
   "cell_type": "code",
   "execution_count": 45,
   "metadata": {},
   "outputs": [],
   "source": [
    "outliers = df_train[(df_train['num_sold']<lower_bound) | (df_train['num_sold']>upper_bound)]\n"
   ]
  },
  {
   "cell_type": "code",
   "execution_count": 46,
   "metadata": {},
   "outputs": [
    {
     "data": {
      "text/html": [
       "<div>\n",
       "<style scoped>\n",
       "    .dataframe tbody tr th:only-of-type {\n",
       "        vertical-align: middle;\n",
       "    }\n",
       "\n",
       "    .dataframe tbody tr th {\n",
       "        vertical-align: top;\n",
       "    }\n",
       "\n",
       "    .dataframe thead th {\n",
       "        text-align: right;\n",
       "    }\n",
       "</style>\n",
       "<table border=\"1\" class=\"dataframe\">\n",
       "  <thead>\n",
       "    <tr style=\"text-align: right;\">\n",
       "      <th></th>\n",
       "      <th>country</th>\n",
       "      <th>store</th>\n",
       "      <th>product</th>\n",
       "      <th>num_sold</th>\n",
       "      <th>country_store</th>\n",
       "      <th>store_product</th>\n",
       "      <th>country_product</th>\n",
       "      <th>month</th>\n",
       "      <th>weekday</th>\n",
       "      <th>week</th>\n",
       "      <th>weekday_sin</th>\n",
       "      <th>weekday_cos</th>\n",
       "      <th>week_sin</th>\n",
       "      <th>week_cos</th>\n",
       "    </tr>\n",
       "  </thead>\n",
       "  <tbody>\n",
       "    <tr>\n",
       "      <th>66</th>\n",
       "      <td>Norway</td>\n",
       "      <td>Stickers for Less</td>\n",
       "      <td>Kaggle</td>\n",
       "      <td>0.448796</td>\n",
       "      <td>Norway_Stickers for Less</td>\n",
       "      <td>Stickers for Less_Kaggle</td>\n",
       "      <td>Norway_Kaggle</td>\n",
       "      <td>1</td>\n",
       "      <td>4</td>\n",
       "      <td>53</td>\n",
       "      <td>-0.433884</td>\n",
       "      <td>-0.900969</td>\n",
       "      <td>0.120537</td>\n",
       "      <td>0.992709</td>\n",
       "    </tr>\n",
       "    <tr>\n",
       "      <th>67</th>\n",
       "      <td>Norway</td>\n",
       "      <td>Stickers for Less</td>\n",
       "      <td>Kaggle Tiers</td>\n",
       "      <td>0.429915</td>\n",
       "      <td>Norway_Stickers for Less</td>\n",
       "      <td>Stickers for Less_Kaggle Tiers</td>\n",
       "      <td>Norway_Kaggle Tiers</td>\n",
       "      <td>1</td>\n",
       "      <td>4</td>\n",
       "      <td>53</td>\n",
       "      <td>-0.433884</td>\n",
       "      <td>-0.900969</td>\n",
       "      <td>0.120537</td>\n",
       "      <td>0.992709</td>\n",
       "    </tr>\n",
       "    <tr>\n",
       "      <th>71</th>\n",
       "      <td>Norway</td>\n",
       "      <td>Premium Sticker Mart</td>\n",
       "      <td>Kaggle</td>\n",
       "      <td>0.508364</td>\n",
       "      <td>Norway_Premium Sticker Mart</td>\n",
       "      <td>Premium Sticker Mart_Kaggle</td>\n",
       "      <td>Norway_Kaggle</td>\n",
       "      <td>1</td>\n",
       "      <td>4</td>\n",
       "      <td>53</td>\n",
       "      <td>-0.433884</td>\n",
       "      <td>-0.900969</td>\n",
       "      <td>0.120537</td>\n",
       "      <td>0.992709</td>\n",
       "    </tr>\n",
       "    <tr>\n",
       "      <th>72</th>\n",
       "      <td>Norway</td>\n",
       "      <td>Premium Sticker Mart</td>\n",
       "      <td>Kaggle Tiers</td>\n",
       "      <td>0.455332</td>\n",
       "      <td>Norway_Premium Sticker Mart</td>\n",
       "      <td>Premium Sticker Mart_Kaggle Tiers</td>\n",
       "      <td>Norway_Kaggle Tiers</td>\n",
       "      <td>1</td>\n",
       "      <td>4</td>\n",
       "      <td>53</td>\n",
       "      <td>-0.433884</td>\n",
       "      <td>-0.900969</td>\n",
       "      <td>0.120537</td>\n",
       "      <td>0.992709</td>\n",
       "    </tr>\n",
       "    <tr>\n",
       "      <th>156</th>\n",
       "      <td>Norway</td>\n",
       "      <td>Stickers for Less</td>\n",
       "      <td>Kaggle</td>\n",
       "      <td>0.467538</td>\n",
       "      <td>Norway_Stickers for Less</td>\n",
       "      <td>Stickers for Less_Kaggle</td>\n",
       "      <td>Norway_Kaggle</td>\n",
       "      <td>1</td>\n",
       "      <td>5</td>\n",
       "      <td>53</td>\n",
       "      <td>-0.974928</td>\n",
       "      <td>-0.222521</td>\n",
       "      <td>0.120537</td>\n",
       "      <td>0.992709</td>\n",
       "    </tr>\n",
       "  </tbody>\n",
       "</table>\n",
       "</div>"
      ],
      "text/plain": [
       "    country                 store       product  num_sold  \\\n",
       "66   Norway     Stickers for Less        Kaggle  0.448796   \n",
       "67   Norway     Stickers for Less  Kaggle Tiers  0.429915   \n",
       "71   Norway  Premium Sticker Mart        Kaggle  0.508364   \n",
       "72   Norway  Premium Sticker Mart  Kaggle Tiers  0.455332   \n",
       "156  Norway     Stickers for Less        Kaggle  0.467538   \n",
       "\n",
       "                   country_store                      store_product  \\\n",
       "66      Norway_Stickers for Less           Stickers for Less_Kaggle   \n",
       "67      Norway_Stickers for Less     Stickers for Less_Kaggle Tiers   \n",
       "71   Norway_Premium Sticker Mart        Premium Sticker Mart_Kaggle   \n",
       "72   Norway_Premium Sticker Mart  Premium Sticker Mart_Kaggle Tiers   \n",
       "156     Norway_Stickers for Less           Stickers for Less_Kaggle   \n",
       "\n",
       "         country_product  month  weekday  week  weekday_sin  weekday_cos  \\\n",
       "66         Norway_Kaggle      1        4    53    -0.433884    -0.900969   \n",
       "67   Norway_Kaggle Tiers      1        4    53    -0.433884    -0.900969   \n",
       "71         Norway_Kaggle      1        4    53    -0.433884    -0.900969   \n",
       "72   Norway_Kaggle Tiers      1        4    53    -0.433884    -0.900969   \n",
       "156        Norway_Kaggle      1        5    53    -0.974928    -0.222521   \n",
       "\n",
       "     week_sin  week_cos  \n",
       "66   0.120537  0.992709  \n",
       "67   0.120537  0.992709  \n",
       "71   0.120537  0.992709  \n",
       "72   0.120537  0.992709  \n",
       "156  0.120537  0.992709  "
      ]
     },
     "execution_count": 46,
     "metadata": {},
     "output_type": "execute_result"
    }
   ],
   "source": [
    "outliers.head()\n"
   ]
  },
  {
   "cell_type": "code",
   "execution_count": 47,
   "metadata": {},
   "outputs": [
    {
     "data": {
      "text/plain": [
       "(5575, 14)"
      ]
     },
     "execution_count": 47,
     "metadata": {},
     "output_type": "execute_result"
    }
   ],
   "source": [
    "outliers.shape\n"
   ]
  },
  {
   "cell_type": "code",
   "execution_count": 48,
   "metadata": {},
   "outputs": [
    {
     "data": {
      "text/plain": [
       "0         0.118554\n",
       "1         0.150995\n",
       "2         0.141247\n",
       "3         0.068016\n",
       "4         0.078656\n",
       "            ...   \n",
       "230125    0.074757\n",
       "230126    0.361566\n",
       "230127    0.326610\n",
       "230128    0.189201\n",
       "230129    0.240801\n",
       "Name: num_sold, Length: 230130, dtype: float64"
      ]
     },
     "execution_count": 48,
     "metadata": {},
     "output_type": "execute_result"
    }
   ],
   "source": [
    "df_train['num_sold'] = df_train['num_sold'].clip(lower=lower_bound,upper=upper_bound)\n",
    "df_train['num_sold']"
   ]
  },
  {
   "cell_type": "code",
   "execution_count": 49,
   "metadata": {},
   "outputs": [
    {
     "data": {
      "text/html": [
       "<div>\n",
       "<style scoped>\n",
       "    .dataframe tbody tr th:only-of-type {\n",
       "        vertical-align: middle;\n",
       "    }\n",
       "\n",
       "    .dataframe tbody tr th {\n",
       "        vertical-align: top;\n",
       "    }\n",
       "\n",
       "    .dataframe thead th {\n",
       "        text-align: right;\n",
       "    }\n",
       "</style>\n",
       "<table border=\"1\" class=\"dataframe\">\n",
       "  <thead>\n",
       "    <tr style=\"text-align: right;\">\n",
       "      <th></th>\n",
       "      <th>country</th>\n",
       "      <th>store</th>\n",
       "      <th>product</th>\n",
       "      <th>num_sold</th>\n",
       "      <th>country_store</th>\n",
       "      <th>store_product</th>\n",
       "      <th>country_product</th>\n",
       "      <th>month</th>\n",
       "      <th>weekday</th>\n",
       "      <th>week</th>\n",
       "      <th>weekday_sin</th>\n",
       "      <th>weekday_cos</th>\n",
       "      <th>week_sin</th>\n",
       "      <th>week_cos</th>\n",
       "    </tr>\n",
       "  </thead>\n",
       "  <tbody>\n",
       "  </tbody>\n",
       "</table>\n",
       "</div>"
      ],
      "text/plain": [
       "Empty DataFrame\n",
       "Columns: [country, store, product, num_sold, country_store, store_product, country_product, month, weekday, week, weekday_sin, weekday_cos, week_sin, week_cos]\n",
       "Index: []"
      ]
     },
     "execution_count": 49,
     "metadata": {},
     "output_type": "execute_result"
    }
   ],
   "source": [
    "outliers1 = df_train[(df_train['num_sold']<lower_bound) | (df_train['num_sold']>upper_bound)]\n",
    "outliers1"
   ]
  },
  {
   "cell_type": "code",
   "execution_count": 50,
   "metadata": {},
   "outputs": [
    {
     "data": {
      "text/plain": [
       "Index(['country', 'store', 'product', 'num_sold', 'country_store',\n",
       "       'store_product', 'country_product', 'month', 'weekday', 'week',\n",
       "       'weekday_sin', 'weekday_cos', 'week_sin', 'week_cos'],\n",
       "      dtype='object')"
      ]
     },
     "execution_count": 50,
     "metadata": {},
     "output_type": "execute_result"
    }
   ],
   "source": [
    "df_train.columns\n"
   ]
  },
  {
   "cell_type": "code",
   "execution_count": 51,
   "metadata": {},
   "outputs": [],
   "source": [
    "import pandas as pd\n",
    "\n",
    "def target_encode(train_df, test_df, target_col, cat_cols):\n",
    "    \"\"\"\n",
    "    Lets apply target encoding to categorical columns what actually happens.\n",
    "    simply summary as we hv already seen wht each of this df contain.    \n",
    "    Parameters:\n",
    "    - df_train (pd.DataFrame): Training dataset containing target variable.\n",
    "    - df_test (pd.DataFrame): Test dataset without the target variable.\n",
    "    - target_col (str): Name of the target column in the training dataset.\n",
    "    - cat_cols (list): List of categorical columns to encode.\n",
    "    Finally what we get :\n",
    "    Returns:\n",
    "    - train_df_encoded (pd.DataFrame): Training dataset with encoded categorical columns.\n",
    "    - test_df_encoded (pd.DataFrame): Test dataset with encoded categorical columns.\n",
    "    \"\"\"\n",
    "    train_df_encoded = train_df.copy()\n",
    "    test_df_encoded = test_df.copy()\n",
    "\n",
    "    for col in cat_cols:\n",
    "        # Calculating mean of target for each category in the training data\n",
    "        target_means = train_df.groupby(col)[target_col].mean().to_dict()\n",
    "        \n",
    "        # Mapping means to both training and test datasets\n",
    "        train_df_encoded[f\"{col}_encoded\"] = train_df[col].map(target_means)\n",
    "        test_df_encoded[f\"{col}_encoded\"] = test_df[col].map(target_means)\n",
    "        \n",
    "        # Finally Filling  any missing values in the test dataset with the overall mean of the target\n",
    "        overall_mean = train_df[target_col].mean()\n",
    "        test_df_encoded[f\"{col}_encoded\"].fillna(overall_mean, inplace=True)\n",
    "    # tada...............tada\n",
    "    return train_df_encoded, test_df_encoded"
   ]
  },
  {
   "cell_type": "code",
   "execution_count": 52,
   "metadata": {},
   "outputs": [
    {
     "name": "stderr",
     "output_type": "stream",
     "text": [
      "C:\\Users\\sachi\\AppData\\Local\\Temp\\ipykernel_6764\\2243879719.py:30: FutureWarning: A value is trying to be set on a copy of a DataFrame or Series through chained assignment using an inplace method.\n",
      "The behavior will change in pandas 3.0. This inplace method will never work because the intermediate object on which we are setting values always behaves as a copy.\n",
      "\n",
      "For example, when doing 'df[col].method(value, inplace=True)', try using 'df.method({col: value}, inplace=True)' or df[col] = df[col].method(value) instead, to perform the operation inplace on the original object.\n",
      "\n",
      "\n",
      "  test_df_encoded[f\"{col}_encoded\"].fillna(overall_mean, inplace=True)\n",
      "C:\\Users\\sachi\\AppData\\Local\\Temp\\ipykernel_6764\\2243879719.py:30: FutureWarning: A value is trying to be set on a copy of a DataFrame or Series through chained assignment using an inplace method.\n",
      "The behavior will change in pandas 3.0. This inplace method will never work because the intermediate object on which we are setting values always behaves as a copy.\n",
      "\n",
      "For example, when doing 'df[col].method(value, inplace=True)', try using 'df.method({col: value}, inplace=True)' or df[col] = df[col].method(value) instead, to perform the operation inplace on the original object.\n",
      "\n",
      "\n",
      "  test_df_encoded[f\"{col}_encoded\"].fillna(overall_mean, inplace=True)\n",
      "C:\\Users\\sachi\\AppData\\Local\\Temp\\ipykernel_6764\\2243879719.py:30: FutureWarning: A value is trying to be set on a copy of a DataFrame or Series through chained assignment using an inplace method.\n",
      "The behavior will change in pandas 3.0. This inplace method will never work because the intermediate object on which we are setting values always behaves as a copy.\n",
      "\n",
      "For example, when doing 'df[col].method(value, inplace=True)', try using 'df.method({col: value}, inplace=True)' or df[col] = df[col].method(value) instead, to perform the operation inplace on the original object.\n",
      "\n",
      "\n",
      "  test_df_encoded[f\"{col}_encoded\"].fillna(overall_mean, inplace=True)\n"
     ]
    }
   ],
   "source": [
    "cat_columns = ['country', 'store', 'product']\n",
    "target_column = 'num_sold'\n",
    "\n",
    "train_encoded, test_encoded = target_encode(df_train, df_test, target_column, cat_columns)"
   ]
  },
  {
   "cell_type": "code",
   "execution_count": 53,
   "metadata": {},
   "outputs": [],
   "source": [
    "df_train = train_encoded\n",
    "df_test = test_encoded"
   ]
  },
  {
   "cell_type": "code",
   "execution_count": 54,
   "metadata": {},
   "outputs": [
    {
     "data": {
      "text/plain": [
       "Index(['country', 'store', 'product', 'num_sold', 'country_store',\n",
       "       'store_product', 'country_product', 'month', 'weekday', 'week',\n",
       "       'weekday_sin', 'weekday_cos', 'week_sin', 'week_cos', 'country_encoded',\n",
       "       'store_encoded', 'product_encoded'],\n",
       "      dtype='object')"
      ]
     },
     "execution_count": 54,
     "metadata": {},
     "output_type": "execute_result"
    }
   ],
   "source": [
    "df_train.columns\n"
   ]
  },
  {
   "cell_type": "code",
   "execution_count": 55,
   "metadata": {},
   "outputs": [],
   "source": [
    "columns_to_encode = ['country_store', 'store_product','country_product','country','store','product']\n",
    "df_train = pd.get_dummies(df_train,columns=columns_to_encode)"
   ]
  },
  {
   "cell_type": "code",
   "execution_count": 56,
   "metadata": {},
   "outputs": [],
   "source": [
    "df_test = pd.get_dummies(df_test,columns=columns_to_encode)\n"
   ]
  },
  {
   "cell_type": "code",
   "execution_count": 57,
   "metadata": {},
   "outputs": [
    {
     "data": {
      "text/plain": [
       "((98550, 87), (230130, 88))"
      ]
     },
     "execution_count": 57,
     "metadata": {},
     "output_type": "execute_result"
    }
   ],
   "source": [
    "df_test = df_test.drop(['id','date'],axis=1)\n",
    "df_test.shape,df_train.shape"
   ]
  },
  {
   "cell_type": "code",
   "execution_count": 58,
   "metadata": {},
   "outputs": [],
   "source": [
    "if df_train['week'].dtype == 'UInt32':\n",
    "    df_train['week'] = df_train['week'].astype(int)"
   ]
  },
  {
   "cell_type": "code",
   "execution_count": 59,
   "metadata": {},
   "outputs": [],
   "source": [
    "if df_test['week'].dtype == 'UInt32':\n",
    "    df_test['week'] = df_test['week'].astype(int)"
   ]
  },
  {
   "cell_type": "code",
   "execution_count": 60,
   "metadata": {},
   "outputs": [
    {
     "name": "stdout",
     "output_type": "stream",
     "text": [
      "int32\n"
     ]
    }
   ],
   "source": [
    "print(df_train['week'].dtype)\n"
   ]
  },
  {
   "cell_type": "code",
   "execution_count": 61,
   "metadata": {},
   "outputs": [
    {
     "data": {
      "text/html": [
       "<div>\n",
       "<style scoped>\n",
       "    .dataframe tbody tr th:only-of-type {\n",
       "        vertical-align: middle;\n",
       "    }\n",
       "\n",
       "    .dataframe tbody tr th {\n",
       "        vertical-align: top;\n",
       "    }\n",
       "\n",
       "    .dataframe thead th {\n",
       "        text-align: right;\n",
       "    }\n",
       "</style>\n",
       "<table border=\"1\" class=\"dataframe\">\n",
       "  <thead>\n",
       "    <tr style=\"text-align: right;\">\n",
       "      <th></th>\n",
       "      <th>month</th>\n",
       "      <th>weekday</th>\n",
       "      <th>week</th>\n",
       "      <th>weekday_sin</th>\n",
       "      <th>weekday_cos</th>\n",
       "      <th>week_sin</th>\n",
       "      <th>week_cos</th>\n",
       "      <th>country_encoded</th>\n",
       "      <th>store_encoded</th>\n",
       "      <th>product_encoded</th>\n",
       "      <th>...</th>\n",
       "      <th>country_Norway</th>\n",
       "      <th>country_Singapore</th>\n",
       "      <th>store_Discount Stickers</th>\n",
       "      <th>store_Premium Sticker Mart</th>\n",
       "      <th>store_Stickers for Less</th>\n",
       "      <th>product_Holographic Goose</th>\n",
       "      <th>product_Kaggle</th>\n",
       "      <th>product_Kaggle Tiers</th>\n",
       "      <th>product_Kerneler</th>\n",
       "      <th>product_Kerneler Dark Mode</th>\n",
       "    </tr>\n",
       "  </thead>\n",
       "  <tbody>\n",
       "    <tr>\n",
       "      <th>0</th>\n",
       "      <td>1</td>\n",
       "      <td>4</td>\n",
       "      <td>53</td>\n",
       "      <td>-0.433884</td>\n",
       "      <td>-0.900969</td>\n",
       "      <td>0.120537</td>\n",
       "      <td>0.992709</td>\n",
       "      <td>0.128028</td>\n",
       "      <td>0.070839</td>\n",
       "      <td>0.048322</td>\n",
       "      <td>...</td>\n",
       "      <td>False</td>\n",
       "      <td>False</td>\n",
       "      <td>True</td>\n",
       "      <td>False</td>\n",
       "      <td>False</td>\n",
       "      <td>True</td>\n",
       "      <td>False</td>\n",
       "      <td>False</td>\n",
       "      <td>False</td>\n",
       "      <td>False</td>\n",
       "    </tr>\n",
       "    <tr>\n",
       "      <th>1</th>\n",
       "      <td>1</td>\n",
       "      <td>4</td>\n",
       "      <td>53</td>\n",
       "      <td>-0.433884</td>\n",
       "      <td>-0.900969</td>\n",
       "      <td>0.120537</td>\n",
       "      <td>0.992709</td>\n",
       "      <td>0.128028</td>\n",
       "      <td>0.070839</td>\n",
       "      <td>0.175174</td>\n",
       "      <td>...</td>\n",
       "      <td>False</td>\n",
       "      <td>False</td>\n",
       "      <td>True</td>\n",
       "      <td>False</td>\n",
       "      <td>False</td>\n",
       "      <td>False</td>\n",
       "      <td>True</td>\n",
       "      <td>False</td>\n",
       "      <td>False</td>\n",
       "      <td>False</td>\n",
       "    </tr>\n",
       "    <tr>\n",
       "      <th>2</th>\n",
       "      <td>1</td>\n",
       "      <td>4</td>\n",
       "      <td>53</td>\n",
       "      <td>-0.433884</td>\n",
       "      <td>-0.900969</td>\n",
       "      <td>0.120537</td>\n",
       "      <td>0.992709</td>\n",
       "      <td>0.128028</td>\n",
       "      <td>0.070839</td>\n",
       "      <td>0.150693</td>\n",
       "      <td>...</td>\n",
       "      <td>False</td>\n",
       "      <td>False</td>\n",
       "      <td>True</td>\n",
       "      <td>False</td>\n",
       "      <td>False</td>\n",
       "      <td>False</td>\n",
       "      <td>False</td>\n",
       "      <td>True</td>\n",
       "      <td>False</td>\n",
       "      <td>False</td>\n",
       "    </tr>\n",
       "    <tr>\n",
       "      <th>3</th>\n",
       "      <td>1</td>\n",
       "      <td>4</td>\n",
       "      <td>53</td>\n",
       "      <td>-0.433884</td>\n",
       "      <td>-0.900969</td>\n",
       "      <td>0.120537</td>\n",
       "      <td>0.992709</td>\n",
       "      <td>0.128028</td>\n",
       "      <td>0.070839</td>\n",
       "      <td>0.087045</td>\n",
       "      <td>...</td>\n",
       "      <td>False</td>\n",
       "      <td>False</td>\n",
       "      <td>True</td>\n",
       "      <td>False</td>\n",
       "      <td>False</td>\n",
       "      <td>False</td>\n",
       "      <td>False</td>\n",
       "      <td>False</td>\n",
       "      <td>True</td>\n",
       "      <td>False</td>\n",
       "    </tr>\n",
       "    <tr>\n",
       "      <th>4</th>\n",
       "      <td>1</td>\n",
       "      <td>4</td>\n",
       "      <td>53</td>\n",
       "      <td>-0.433884</td>\n",
       "      <td>-0.900969</td>\n",
       "      <td>0.120537</td>\n",
       "      <td>0.992709</td>\n",
       "      <td>0.128028</td>\n",
       "      <td>0.070839</td>\n",
       "      <td>0.100696</td>\n",
       "      <td>...</td>\n",
       "      <td>False</td>\n",
       "      <td>False</td>\n",
       "      <td>True</td>\n",
       "      <td>False</td>\n",
       "      <td>False</td>\n",
       "      <td>False</td>\n",
       "      <td>False</td>\n",
       "      <td>False</td>\n",
       "      <td>False</td>\n",
       "      <td>True</td>\n",
       "    </tr>\n",
       "  </tbody>\n",
       "</table>\n",
       "<p>5 rows × 87 columns</p>\n",
       "</div>"
      ],
      "text/plain": [
       "   month  weekday  week  weekday_sin  weekday_cos  week_sin  week_cos  \\\n",
       "0      1        4    53    -0.433884    -0.900969  0.120537  0.992709   \n",
       "1      1        4    53    -0.433884    -0.900969  0.120537  0.992709   \n",
       "2      1        4    53    -0.433884    -0.900969  0.120537  0.992709   \n",
       "3      1        4    53    -0.433884    -0.900969  0.120537  0.992709   \n",
       "4      1        4    53    -0.433884    -0.900969  0.120537  0.992709   \n",
       "\n",
       "   country_encoded  store_encoded  product_encoded  ...  country_Norway  \\\n",
       "0         0.128028       0.070839         0.048322  ...           False   \n",
       "1         0.128028       0.070839         0.175174  ...           False   \n",
       "2         0.128028       0.070839         0.150693  ...           False   \n",
       "3         0.128028       0.070839         0.087045  ...           False   \n",
       "4         0.128028       0.070839         0.100696  ...           False   \n",
       "\n",
       "   country_Singapore  store_Discount Stickers  store_Premium Sticker Mart  \\\n",
       "0              False                     True                       False   \n",
       "1              False                     True                       False   \n",
       "2              False                     True                       False   \n",
       "3              False                     True                       False   \n",
       "4              False                     True                       False   \n",
       "\n",
       "   store_Stickers for Less  product_Holographic Goose  product_Kaggle  \\\n",
       "0                    False                       True           False   \n",
       "1                    False                      False            True   \n",
       "2                    False                      False           False   \n",
       "3                    False                      False           False   \n",
       "4                    False                      False           False   \n",
       "\n",
       "   product_Kaggle Tiers  product_Kerneler  product_Kerneler Dark Mode  \n",
       "0                 False             False                       False  \n",
       "1                 False             False                       False  \n",
       "2                  True             False                       False  \n",
       "3                 False              True                       False  \n",
       "4                 False             False                        True  \n",
       "\n",
       "[5 rows x 87 columns]"
      ]
     },
     "execution_count": 61,
     "metadata": {},
     "output_type": "execute_result"
    }
   ],
   "source": [
    "y=df_train['num_sold']\n",
    "X=df_train.drop(['num_sold'],axis=1)\n",
    "X.head()"
   ]
  },
  {
   "cell_type": "code",
   "execution_count": 62,
   "metadata": {},
   "outputs": [],
   "source": [
    "from sklearn.model_selection import train_test_split\n",
    "X_train, X_test, y_train, y_test = train_test_split(X,y, test_size=0.25, shuffle=True, random_state=42)"
   ]
  },
  {
   "cell_type": "code",
   "execution_count": 63,
   "metadata": {},
   "outputs": [],
   "source": [
    "from sklearn.preprocessing import StandardScaler\n",
    "scaler = StandardScaler()\n",
    "X_train = scaler.fit_transform(X_train)\n",
    "X_test =scaler.transform(X_test)"
   ]
  },
  {
   "cell_type": "code",
   "execution_count": 65,
   "metadata": {},
   "outputs": [
    {
     "name": "stdout",
     "output_type": "stream",
     "text": [
      "Defaulting to user installation because normal site-packages is not writeable\n",
      "Collecting tensorflow\n",
      "  Downloading tensorflow-2.18.0-cp312-cp312-win_amd64.whl.metadata (3.3 kB)\n",
      "Collecting tensorflow-intel==2.18.0 (from tensorflow)\n",
      "  Downloading tensorflow_intel-2.18.0-cp312-cp312-win_amd64.whl.metadata (4.9 kB)\n",
      "Collecting absl-py>=1.0.0 (from tensorflow-intel==2.18.0->tensorflow)\n",
      "  Downloading absl_py-2.1.0-py3-none-any.whl.metadata (2.3 kB)\n",
      "Collecting astunparse>=1.6.0 (from tensorflow-intel==2.18.0->tensorflow)\n",
      "  Downloading astunparse-1.6.3-py2.py3-none-any.whl.metadata (4.4 kB)\n",
      "Requirement already satisfied: flatbuffers>=24.3.25 in c:\\programdata\\anaconda3\\lib\\site-packages (from tensorflow-intel==2.18.0->tensorflow) (24.3.25)\n",
      "Collecting gast!=0.5.0,!=0.5.1,!=0.5.2,>=0.2.1 (from tensorflow-intel==2.18.0->tensorflow)\n",
      "  Downloading gast-0.6.0-py3-none-any.whl.metadata (1.3 kB)\n",
      "Collecting google-pasta>=0.1.1 (from tensorflow-intel==2.18.0->tensorflow)\n",
      "  Downloading google_pasta-0.2.0-py3-none-any.whl.metadata (814 bytes)\n",
      "Collecting libclang>=13.0.0 (from tensorflow-intel==2.18.0->tensorflow)\n",
      "  Downloading libclang-18.1.1-py2.py3-none-win_amd64.whl.metadata (5.3 kB)\n",
      "Collecting opt-einsum>=2.3.2 (from tensorflow-intel==2.18.0->tensorflow)\n",
      "  Downloading opt_einsum-3.4.0-py3-none-any.whl.metadata (6.3 kB)\n",
      "Requirement already satisfied: packaging in c:\\programdata\\anaconda3\\lib\\site-packages (from tensorflow-intel==2.18.0->tensorflow) (24.1)\n",
      "Requirement already satisfied: protobuf!=4.21.0,!=4.21.1,!=4.21.2,!=4.21.3,!=4.21.4,!=4.21.5,<6.0.0dev,>=3.20.3 in c:\\programdata\\anaconda3\\lib\\site-packages (from tensorflow-intel==2.18.0->tensorflow) (4.25.3)\n",
      "Requirement already satisfied: requests<3,>=2.21.0 in c:\\programdata\\anaconda3\\lib\\site-packages (from tensorflow-intel==2.18.0->tensorflow) (2.32.3)\n",
      "Requirement already satisfied: setuptools in c:\\users\\sachi\\appdata\\roaming\\python\\python312\\site-packages (from tensorflow-intel==2.18.0->tensorflow) (75.7.0)\n",
      "Requirement already satisfied: six>=1.12.0 in c:\\programdata\\anaconda3\\lib\\site-packages (from tensorflow-intel==2.18.0->tensorflow) (1.16.0)\n",
      "Collecting termcolor>=1.1.0 (from tensorflow-intel==2.18.0->tensorflow)\n",
      "  Downloading termcolor-2.5.0-py3-none-any.whl.metadata (6.1 kB)\n",
      "Requirement already satisfied: typing-extensions>=3.6.6 in c:\\programdata\\anaconda3\\lib\\site-packages (from tensorflow-intel==2.18.0->tensorflow) (4.11.0)\n",
      "Requirement already satisfied: wrapt>=1.11.0 in c:\\programdata\\anaconda3\\lib\\site-packages (from tensorflow-intel==2.18.0->tensorflow) (1.14.1)\n",
      "Requirement already satisfied: grpcio<2.0,>=1.24.3 in c:\\programdata\\anaconda3\\lib\\site-packages (from tensorflow-intel==2.18.0->tensorflow) (1.62.2)\n",
      "Collecting tensorboard<2.19,>=2.18 (from tensorflow-intel==2.18.0->tensorflow)\n",
      "  Downloading tensorboard-2.18.0-py3-none-any.whl.metadata (1.6 kB)\n",
      "Collecting keras>=3.5.0 (from tensorflow-intel==2.18.0->tensorflow)\n",
      "  Downloading keras-3.8.0-py3-none-any.whl.metadata (5.8 kB)\n",
      "Requirement already satisfied: numpy<2.1.0,>=1.26.0 in c:\\users\\sachi\\appdata\\roaming\\python\\python312\\site-packages (from tensorflow-intel==2.18.0->tensorflow) (1.26.4)\n",
      "Requirement already satisfied: h5py>=3.11.0 in c:\\programdata\\anaconda3\\lib\\site-packages (from tensorflow-intel==2.18.0->tensorflow) (3.11.0)\n",
      "Collecting ml-dtypes<0.5.0,>=0.4.0 (from tensorflow-intel==2.18.0->tensorflow)\n",
      "  Downloading ml_dtypes-0.4.1-cp312-cp312-win_amd64.whl.metadata (20 kB)\n",
      "Requirement already satisfied: wheel<1.0,>=0.23.0 in c:\\users\\sachi\\appdata\\roaming\\python\\python312\\site-packages (from astunparse>=1.6.0->tensorflow-intel==2.18.0->tensorflow) (0.45.0)\n",
      "Requirement already satisfied: rich in c:\\programdata\\anaconda3\\lib\\site-packages (from keras>=3.5.0->tensorflow-intel==2.18.0->tensorflow) (13.7.1)\n",
      "Collecting namex (from keras>=3.5.0->tensorflow-intel==2.18.0->tensorflow)\n",
      "  Downloading namex-0.0.8-py3-none-any.whl.metadata (246 bytes)\n",
      "Collecting optree (from keras>=3.5.0->tensorflow-intel==2.18.0->tensorflow)\n",
      "  Downloading optree-0.14.0-cp312-cp312-win_amd64.whl.metadata (48 kB)\n",
      "Requirement already satisfied: charset-normalizer<4,>=2 in c:\\programdata\\anaconda3\\lib\\site-packages (from requests<3,>=2.21.0->tensorflow-intel==2.18.0->tensorflow) (3.3.2)\n",
      "Requirement already satisfied: idna<4,>=2.5 in c:\\programdata\\anaconda3\\lib\\site-packages (from requests<3,>=2.21.0->tensorflow-intel==2.18.0->tensorflow) (3.7)\n",
      "Requirement already satisfied: urllib3<3,>=1.21.1 in c:\\programdata\\anaconda3\\lib\\site-packages (from requests<3,>=2.21.0->tensorflow-intel==2.18.0->tensorflow) (2.2.3)\n",
      "Requirement already satisfied: certifi>=2017.4.17 in c:\\programdata\\anaconda3\\lib\\site-packages (from requests<3,>=2.21.0->tensorflow-intel==2.18.0->tensorflow) (2024.8.30)\n",
      "Requirement already satisfied: markdown>=2.6.8 in c:\\programdata\\anaconda3\\lib\\site-packages (from tensorboard<2.19,>=2.18->tensorflow-intel==2.18.0->tensorflow) (3.4.1)\n",
      "Collecting tensorboard-data-server<0.8.0,>=0.7.0 (from tensorboard<2.19,>=2.18->tensorflow-intel==2.18.0->tensorflow)\n",
      "  Downloading tensorboard_data_server-0.7.2-py3-none-any.whl.metadata (1.1 kB)\n",
      "Requirement already satisfied: werkzeug>=1.0.1 in c:\\programdata\\anaconda3\\lib\\site-packages (from tensorboard<2.19,>=2.18->tensorflow-intel==2.18.0->tensorflow) (3.0.3)\n",
      "Requirement already satisfied: MarkupSafe>=2.1.1 in c:\\programdata\\anaconda3\\lib\\site-packages (from werkzeug>=1.0.1->tensorboard<2.19,>=2.18->tensorflow-intel==2.18.0->tensorflow) (2.1.3)\n",
      "Requirement already satisfied: markdown-it-py>=2.2.0 in c:\\programdata\\anaconda3\\lib\\site-packages (from rich->keras>=3.5.0->tensorflow-intel==2.18.0->tensorflow) (2.2.0)\n",
      "Requirement already satisfied: pygments<3.0.0,>=2.13.0 in c:\\programdata\\anaconda3\\lib\\site-packages (from rich->keras>=3.5.0->tensorflow-intel==2.18.0->tensorflow) (2.15.1)\n",
      "Requirement already satisfied: mdurl~=0.1 in c:\\programdata\\anaconda3\\lib\\site-packages (from markdown-it-py>=2.2.0->rich->keras>=3.5.0->tensorflow-intel==2.18.0->tensorflow) (0.1.0)\n",
      "Downloading tensorflow-2.18.0-cp312-cp312-win_amd64.whl (7.5 kB)\n",
      "Downloading tensorflow_intel-2.18.0-cp312-cp312-win_amd64.whl (390.3 MB)\n",
      "   ---------------------------------------- 0.0/390.3 MB ? eta -:--:--\n",
      "   ---------------------------------------- 0.5/390.3 MB 4.2 MB/s eta 0:01:34\n",
      "   ---------------------------------------- 2.4/390.3 MB 7.9 MB/s eta 0:00:50\n",
      "    --------------------------------------- 5.2/390.3 MB 10.0 MB/s eta 0:00:39\n",
      "    --------------------------------------- 6.8/390.3 MB 9.3 MB/s eta 0:00:42\n",
      "   - -------------------------------------- 10.0/390.3 MB 10.5 MB/s eta 0:00:37\n",
      "   - -------------------------------------- 12.3/390.3 MB 10.7 MB/s eta 0:00:36\n",
      "   - -------------------------------------- 15.7/390.3 MB 11.6 MB/s eta 0:00:33\n",
      "   - -------------------------------------- 18.9/390.3 MB 12.1 MB/s eta 0:00:31\n",
      "   -- ------------------------------------- 21.8/390.3 MB 12.3 MB/s eta 0:00:31\n",
      "   -- ------------------------------------- 24.4/390.3 MB 12.5 MB/s eta 0:00:30\n",
      "   -- ------------------------------------- 27.8/390.3 MB 12.7 MB/s eta 0:00:29\n",
      "   --- ------------------------------------ 30.7/390.3 MB 12.8 MB/s eta 0:00:29\n",
      "   --- ------------------------------------ 33.8/390.3 MB 12.9 MB/s eta 0:00:28\n",
      "   --- ------------------------------------ 36.2/390.3 MB 12.8 MB/s eta 0:00:28\n",
      "   ---- ----------------------------------- 39.6/390.3 MB 13.0 MB/s eta 0:00:27\n",
      "   ---- ----------------------------------- 42.5/390.3 MB 13.2 MB/s eta 0:00:27\n",
      "   ---- ----------------------------------- 46.1/390.3 MB 13.5 MB/s eta 0:00:26\n",
      "   ---- ----------------------------------- 48.5/390.3 MB 13.5 MB/s eta 0:00:26\n",
      "   ----- ---------------------------------- 53.5/390.3 MB 13.8 MB/s eta 0:00:25\n",
      "   ----- ---------------------------------- 57.4/390.3 MB 14.0 MB/s eta 0:00:24\n",
      "   ------ --------------------------------- 61.3/390.3 MB 14.3 MB/s eta 0:00:24\n",
      "   ------ --------------------------------- 64.2/390.3 MB 14.2 MB/s eta 0:00:23\n",
      "   ------ --------------------------------- 67.1/390.3 MB 14.4 MB/s eta 0:00:23\n",
      "   ------- -------------------------------- 71.0/390.3 MB 14.4 MB/s eta 0:00:23\n",
      "   ------- -------------------------------- 74.4/390.3 MB 14.6 MB/s eta 0:00:22\n",
      "   -------- ------------------------------- 78.4/390.3 MB 14.6 MB/s eta 0:00:22\n",
      "   -------- ------------------------------- 82.1/390.3 MB 14.8 MB/s eta 0:00:21\n",
      "   -------- ------------------------------- 85.5/390.3 MB 14.8 MB/s eta 0:00:21\n",
      "   --------- ------------------------------ 88.9/390.3 MB 14.8 MB/s eta 0:00:21\n",
      "   --------- ------------------------------ 91.2/390.3 MB 14.7 MB/s eta 0:00:21\n",
      "   --------- ------------------------------ 94.9/390.3 MB 14.8 MB/s eta 0:00:20\n",
      "   ---------- ----------------------------- 98.0/390.3 MB 14.9 MB/s eta 0:00:20\n",
      "   ---------- ---------------------------- 100.7/390.3 MB 14.8 MB/s eta 0:00:20\n",
      "   ---------- ---------------------------- 100.9/390.3 MB 14.8 MB/s eta 0:00:20\n",
      "   ---------- ---------------------------- 103.5/390.3 MB 14.3 MB/s eta 0:00:21\n",
      "   ---------- ---------------------------- 106.7/390.3 MB 14.4 MB/s eta 0:00:20\n",
      "   ---------- ---------------------------- 109.1/390.3 MB 14.4 MB/s eta 0:00:20\n",
      "   ----------- --------------------------- 112.7/390.3 MB 14.3 MB/s eta 0:00:20\n",
      "   ----------- --------------------------- 114.8/390.3 MB 14.2 MB/s eta 0:00:20\n",
      "   ----------- --------------------------- 116.7/390.3 MB 14.1 MB/s eta 0:00:20\n",
      "   ----------- --------------------------- 118.0/390.3 MB 13.9 MB/s eta 0:00:20\n",
      "   ----------- --------------------------- 119.0/390.3 MB 13.6 MB/s eta 0:00:20\n",
      "   ----------- --------------------------- 120.1/390.3 MB 13.5 MB/s eta 0:00:21\n",
      "   ------------ -------------------------- 121.1/390.3 MB 13.2 MB/s eta 0:00:21\n",
      "   ------------ -------------------------- 121.9/390.3 MB 13.0 MB/s eta 0:00:21\n",
      "   ------------ -------------------------- 122.9/390.3 MB 12.8 MB/s eta 0:00:21\n",
      "   ------------ -------------------------- 124.0/390.3 MB 12.6 MB/s eta 0:00:22\n",
      "   ------------ -------------------------- 124.8/390.3 MB 12.5 MB/s eta 0:00:22\n",
      "   ------------ -------------------------- 125.8/390.3 MB 12.3 MB/s eta 0:00:22\n",
      "   ------------ -------------------------- 126.9/390.3 MB 12.1 MB/s eta 0:00:22\n",
      "   ------------ -------------------------- 127.9/390.3 MB 12.0 MB/s eta 0:00:22\n",
      "   ------------ -------------------------- 128.7/390.3 MB 11.8 MB/s eta 0:00:23\n",
      "   ------------ -------------------------- 129.5/390.3 MB 11.7 MB/s eta 0:00:23\n",
      "   ------------- ------------------------- 130.8/390.3 MB 11.5 MB/s eta 0:00:23\n",
      "   ------------- ------------------------- 132.1/390.3 MB 11.5 MB/s eta 0:00:23\n",
      "   ------------- ------------------------- 133.4/390.3 MB 11.4 MB/s eta 0:00:23\n",
      "   ------------- ------------------------- 135.0/390.3 MB 11.3 MB/s eta 0:00:23\n",
      "   ------------- ------------------------- 136.8/390.3 MB 11.2 MB/s eta 0:00:23\n",
      "   ------------- ------------------------- 138.1/390.3 MB 11.1 MB/s eta 0:00:23\n",
      "   ------------- ------------------------- 139.7/390.3 MB 11.1 MB/s eta 0:00:23\n",
      "   -------------- ------------------------ 141.8/390.3 MB 11.0 MB/s eta 0:00:23\n",
      "   -------------- ------------------------ 143.7/390.3 MB 11.0 MB/s eta 0:00:23\n",
      "   -------------- ------------------------ 145.8/390.3 MB 11.0 MB/s eta 0:00:23\n",
      "   -------------- ------------------------ 147.3/390.3 MB 11.0 MB/s eta 0:00:23\n",
      "   -------------- ------------------------ 149.2/390.3 MB 10.9 MB/s eta 0:00:23\n",
      "   --------------- ----------------------- 151.3/390.3 MB 10.9 MB/s eta 0:00:22\n",
      "   --------------- ----------------------- 153.1/390.3 MB 10.8 MB/s eta 0:00:22\n",
      "   --------------- ----------------------- 154.9/390.3 MB 10.8 MB/s eta 0:00:22\n",
      "   --------------- ----------------------- 156.2/390.3 MB 10.8 MB/s eta 0:00:22\n",
      "   --------------- ----------------------- 158.3/390.3 MB 10.8 MB/s eta 0:00:22\n",
      "   ---------------- ---------------------- 160.7/390.3 MB 10.8 MB/s eta 0:00:22\n",
      "   ---------------- ---------------------- 163.3/390.3 MB 10.8 MB/s eta 0:00:22\n",
      "   ---------------- ---------------------- 165.2/390.3 MB 10.7 MB/s eta 0:00:21\n",
      "   ---------------- ---------------------- 168.0/390.3 MB 10.8 MB/s eta 0:00:21\n",
      "   ----------------- --------------------- 170.4/390.3 MB 10.8 MB/s eta 0:00:21\n",
      "   ----------------- --------------------- 172.5/390.3 MB 10.8 MB/s eta 0:00:21\n",
      "   ----------------- --------------------- 174.9/390.3 MB 10.8 MB/s eta 0:00:21\n",
      "   ----------------- --------------------- 177.5/390.3 MB 10.8 MB/s eta 0:00:20\n",
      "   ----------------- --------------------- 179.8/390.3 MB 10.8 MB/s eta 0:00:20\n",
      "   ------------------ -------------------- 182.2/390.3 MB 10.8 MB/s eta 0:00:20\n",
      "   ------------------ -------------------- 184.5/390.3 MB 10.8 MB/s eta 0:00:20\n",
      "   ------------------ -------------------- 186.9/390.3 MB 10.8 MB/s eta 0:00:19\n",
      "   ------------------- ------------------- 190.3/390.3 MB 10.9 MB/s eta 0:00:19\n",
      "   ------------------- ------------------- 193.5/390.3 MB 10.9 MB/s eta 0:00:19\n",
      "   ------------------- ------------------- 197.1/390.3 MB 11.0 MB/s eta 0:00:18\n",
      "   ------------------- ------------------- 200.0/390.3 MB 11.0 MB/s eta 0:00:18\n",
      "   -------------------- ------------------ 203.4/390.3 MB 11.1 MB/s eta 0:00:17\n",
      "   -------------------- ------------------ 207.1/390.3 MB 11.1 MB/s eta 0:00:17\n",
      "   --------------------- ----------------- 210.8/390.3 MB 11.2 MB/s eta 0:00:17\n",
      "   --------------------- ----------------- 213.6/390.3 MB 11.2 MB/s eta 0:00:16\n",
      "   --------------------- ----------------- 215.2/390.3 MB 11.2 MB/s eta 0:00:16\n",
      "   --------------------- ----------------- 218.9/390.3 MB 11.2 MB/s eta 0:00:16\n",
      "   ---------------------- ---------------- 222.3/390.3 MB 11.3 MB/s eta 0:00:15\n",
      "   ---------------------- ---------------- 226.0/390.3 MB 11.4 MB/s eta 0:00:15\n",
      "   ---------------------- ---------------- 228.9/390.3 MB 11.4 MB/s eta 0:00:15\n",
      "   ----------------------- --------------- 232.0/390.3 MB 11.4 MB/s eta 0:00:14\n",
      "   ----------------------- --------------- 235.1/390.3 MB 11.5 MB/s eta 0:00:14\n",
      "   ----------------------- --------------- 239.1/390.3 MB 11.5 MB/s eta 0:00:14\n",
      "   ------------------------ -------------- 242.2/390.3 MB 11.6 MB/s eta 0:00:13\n",
      "   ------------------------ -------------- 245.9/390.3 MB 11.6 MB/s eta 0:00:13\n",
      "   ------------------------ -------------- 249.3/390.3 MB 11.7 MB/s eta 0:00:13\n",
      "   ------------------------- ------------- 252.7/390.3 MB 11.7 MB/s eta 0:00:12\n",
      "   ------------------------- ------------- 255.1/390.3 MB 11.7 MB/s eta 0:00:12\n",
      "   ------------------------- ------------- 257.9/390.3 MB 11.7 MB/s eta 0:00:12\n",
      "   -------------------------- ------------ 260.8/390.3 MB 11.7 MB/s eta 0:00:12\n",
      "   -------------------------- ------------ 263.5/390.3 MB 11.8 MB/s eta 0:00:11\n",
      "   -------------------------- ------------ 266.9/390.3 MB 11.8 MB/s eta 0:00:11\n",
      "   -------------------------- ------------ 269.7/390.3 MB 11.9 MB/s eta 0:00:11\n",
      "   --------------------------- ----------- 273.2/390.3 MB 11.9 MB/s eta 0:00:10\n",
      "   --------------------------- ----------- 276.3/390.3 MB 11.9 MB/s eta 0:00:10\n",
      "   --------------------------- ----------- 278.7/390.3 MB 11.9 MB/s eta 0:00:10\n",
      "   ---------------------------- ---------- 281.8/390.3 MB 11.9 MB/s eta 0:00:10\n",
      "   ---------------------------- ---------- 285.7/390.3 MB 11.9 MB/s eta 0:00:09\n",
      "   ---------------------------- ---------- 289.4/390.3 MB 12.0 MB/s eta 0:00:09\n",
      "   ----------------------------- --------- 292.8/390.3 MB 12.0 MB/s eta 0:00:09\n",
      "   ----------------------------- --------- 296.2/390.3 MB 12.0 MB/s eta 0:00:08\n",
      "   ----------------------------- --------- 300.2/390.3 MB 12.0 MB/s eta 0:00:08\n",
      "   ------------------------------ -------- 304.1/390.3 MB 12.1 MB/s eta 0:00:08\n",
      "   ------------------------------ -------- 306.7/390.3 MB 12.0 MB/s eta 0:00:07\n",
      "   ------------------------------ -------- 309.6/390.3 MB 12.0 MB/s eta 0:00:07\n",
      "   ------------------------------- ------- 313.0/390.3 MB 12.0 MB/s eta 0:00:07\n",
      "   ------------------------------- ------- 316.9/390.3 MB 12.0 MB/s eta 0:00:07\n",
      "   ------------------------------- ------- 319.8/390.3 MB 12.0 MB/s eta 0:00:06\n",
      "   -------------------------------- ------ 321.1/390.3 MB 12.0 MB/s eta 0:00:06\n",
      "   -------------------------------- ------ 325.6/390.3 MB 11.9 MB/s eta 0:00:06\n",
      "   -------------------------------- ------ 328.5/390.3 MB 11.9 MB/s eta 0:00:06\n",
      "   --------------------------------- ----- 331.1/390.3 MB 11.9 MB/s eta 0:00:05\n",
      "   --------------------------------- ----- 335.0/390.3 MB 11.9 MB/s eta 0:00:05\n",
      "   --------------------------------- ----- 338.4/390.3 MB 11.9 MB/s eta 0:00:05\n",
      "   ---------------------------------- ---- 341.8/390.3 MB 11.9 MB/s eta 0:00:05\n",
      "   ---------------------------------- ---- 345.8/390.3 MB 11.9 MB/s eta 0:00:04\n",
      "   ---------------------------------- ---- 349.4/390.3 MB 11.9 MB/s eta 0:00:04\n",
      "   ----------------------------------- --- 351.8/390.3 MB 11.9 MB/s eta 0:00:04\n",
      "   ----------------------------------- --- 351.8/390.3 MB 11.9 MB/s eta 0:00:04\n",
      "   ----------------------------------- --- 353.9/390.3 MB 11.8 MB/s eta 0:00:04\n",
      "   ----------------------------------- --- 354.2/390.3 MB 11.6 MB/s eta 0:00:04\n",
      "   ----------------------------------- --- 357.8/390.3 MB 11.7 MB/s eta 0:00:03\n",
      "   ------------------------------------ -- 361.2/390.3 MB 11.6 MB/s eta 0:00:03\n",
      "   ------------------------------------ -- 364.1/390.3 MB 11.8 MB/s eta 0:00:03\n",
      "   ------------------------------------ -- 367.3/390.3 MB 11.8 MB/s eta 0:00:02\n",
      "   ------------------------------------- - 370.7/390.3 MB 11.8 MB/s eta 0:00:02\n",
      "   ------------------------------------- - 374.9/390.3 MB 11.8 MB/s eta 0:00:02\n",
      "   ------------------------------------- - 377.7/390.3 MB 11.9 MB/s eta 0:00:02\n",
      "   --------------------------------------  381.2/390.3 MB 12.1 MB/s eta 0:00:01\n",
      "   --------------------------------------  385.4/390.3 MB 12.5 MB/s eta 0:00:01\n",
      "   --------------------------------------  388.5/390.3 MB 12.8 MB/s eta 0:00:01\n",
      "   --------------------------------------  390.1/390.3 MB 12.9 MB/s eta 0:00:01\n",
      "   --------------------------------------  390.1/390.3 MB 12.9 MB/s eta 0:00:01\n",
      "   --------------------------------------- 390.3/390.3 MB 12.8 MB/s eta 0:00:00\n",
      "Downloading absl_py-2.1.0-py3-none-any.whl (133 kB)\n",
      "Downloading astunparse-1.6.3-py2.py3-none-any.whl (12 kB)\n",
      "Downloading gast-0.6.0-py3-none-any.whl (21 kB)\n",
      "Downloading google_pasta-0.2.0-py3-none-any.whl (57 kB)\n",
      "Downloading keras-3.8.0-py3-none-any.whl (1.3 MB)\n",
      "   ---------------------------------------- 0.0/1.3 MB ? eta -:--:--\n",
      "   ---------------------------------------- 1.3/1.3 MB 16.5 MB/s eta 0:00:00\n",
      "Downloading libclang-18.1.1-py2.py3-none-win_amd64.whl (26.4 MB)\n",
      "   ---------------------------------------- 0.0/26.4 MB ? eta -:--:--\n",
      "   ------ --------------------------------- 4.2/26.4 MB 19.4 MB/s eta 0:00:02\n",
      "   ----------- ---------------------------- 7.9/26.4 MB 18.7 MB/s eta 0:00:01\n",
      "   ----------------- ---------------------- 11.8/26.4 MB 18.5 MB/s eta 0:00:01\n",
      "   ---------------------- ----------------- 14.9/26.4 MB 18.1 MB/s eta 0:00:01\n",
      "   ---------------------------- ----------- 18.9/26.4 MB 18.1 MB/s eta 0:00:01\n",
      "   ---------------------------------- ----- 22.5/26.4 MB 17.8 MB/s eta 0:00:01\n",
      "   ---------------------------------------  26.2/26.4 MB 17.7 MB/s eta 0:00:01\n",
      "   ---------------------------------------- 26.4/26.4 MB 17.1 MB/s eta 0:00:00\n",
      "Downloading ml_dtypes-0.4.1-cp312-cp312-win_amd64.whl (127 kB)\n",
      "Downloading opt_einsum-3.4.0-py3-none-any.whl (71 kB)\n",
      "Downloading tensorboard-2.18.0-py3-none-any.whl (5.5 MB)\n",
      "   ---------------------------------------- 0.0/5.5 MB ? eta -:--:--\n",
      "   -------------------- ------------------- 2.9/5.5 MB 15.3 MB/s eta 0:00:01\n",
      "   ---------------------------------------- 5.5/5.5 MB 13.4 MB/s eta 0:00:00\n",
      "Downloading termcolor-2.5.0-py3-none-any.whl (7.8 kB)\n",
      "Downloading tensorboard_data_server-0.7.2-py3-none-any.whl (2.4 kB)\n",
      "Downloading namex-0.0.8-py3-none-any.whl (5.8 kB)\n",
      "Downloading optree-0.14.0-cp312-cp312-win_amd64.whl (299 kB)\n",
      "Installing collected packages: namex, libclang, termcolor, tensorboard-data-server, optree, opt-einsum, ml-dtypes, google-pasta, gast, astunparse, absl-py, tensorboard, keras, tensorflow-intel, tensorflow\n",
      "Successfully installed absl-py-2.1.0 astunparse-1.6.3 gast-0.6.0 google-pasta-0.2.0 keras-3.8.0 libclang-18.1.1 ml-dtypes-0.4.1 namex-0.0.8 opt-einsum-3.4.0 optree-0.14.0 tensorboard-2.18.0 tensorboard-data-server-0.7.2 tensorflow-2.18.0 tensorflow-intel-2.18.0 termcolor-2.5.0\n",
      "Note: you may need to restart the kernel to use updated packages.\n"
     ]
    }
   ],
   "source": [
    "pip install tensorflow"
   ]
  },
  {
   "cell_type": "code",
   "execution_count": 66,
   "metadata": {},
   "outputs": [
    {
     "name": "stderr",
     "output_type": "stream",
     "text": [
      "C:\\Users\\sachi\\AppData\\Roaming\\Python\\Python312\\site-packages\\keras\\src\\layers\\rnn\\rnn.py:200: UserWarning: Do not pass an `input_shape`/`input_dim` argument to a layer. When using Sequential models, prefer using an `Input(shape)` object as the first layer in the model instead.\n",
      "  super().__init__(**kwargs)\n"
     ]
    }
   ],
   "source": [
    "from tensorflow.keras.models import Sequential\n",
    "from tensorflow.keras.layers import Dense, LSTM, Dropout\n",
    "model = Sequential()\n",
    "#Adding the first LSTM layer and some Dropout regularisation\n",
    "model.add(LSTM(units = 50, return_sequences = True, input_shape = (X_train.shape[1], 1)))\n",
    "model.add(Dropout(0.2))\n",
    "# Adding a second LSTM layer and some Dropout regularisation\n",
    "model.add(LSTM(units = 50, return_sequences = True))\n",
    "model.add(Dropout(0.2))\n",
    "# Adding a third LSTM layer and some Dropout regularisation\n",
    "model.add(LSTM(units = 50, return_sequences = True))\n",
    "model.add(Dropout(0.2))\n",
    "# Adding a fourth LSTM layer and some Dropout regularisation\n",
    "model.add(LSTM(units = 50))\n",
    "model.add(Dropout(0.2))\n",
    "# Adding the output layer\n",
    "model.add(Dense(units = 1))\n",
    "\n",
    "# Compiling the RNN\n",
    "model.compile(optimizer = 'adam', loss = 'mean_squared_error')"
   ]
  },
  {
   "cell_type": "code",
   "execution_count": 68,
   "metadata": {},
   "outputs": [
    {
     "name": "stdout",
     "output_type": "stream",
     "text": [
      "Epoch 1/20\n",
      "\u001b[1m5394/5394\u001b[0m \u001b[32m━━━━━━━━━━━━━━━━━━━━\u001b[0m\u001b[37m\u001b[0m \u001b[1m321s\u001b[0m 60ms/step - loss: 0.0015 - val_loss: 5.5207e-04\n",
      "Epoch 2/20\n",
      "\u001b[1m5394/5394\u001b[0m \u001b[32m━━━━━━━━━━━━━━━━━━━━\u001b[0m\u001b[37m\u001b[0m \u001b[1m316s\u001b[0m 59ms/step - loss: 6.3394e-04 - val_loss: 5.0503e-04\n",
      "Epoch 3/20\n",
      "\u001b[1m5394/5394\u001b[0m \u001b[32m━━━━━━━━━━━━━━━━━━━━\u001b[0m\u001b[37m\u001b[0m \u001b[1m311s\u001b[0m 58ms/step - loss: 5.7877e-04 - val_loss: 4.7051e-04\n",
      "Epoch 4/20\n",
      "\u001b[1m5394/5394\u001b[0m \u001b[32m━━━━━━━━━━━━━━━━━━━━\u001b[0m\u001b[37m\u001b[0m \u001b[1m311s\u001b[0m 58ms/step - loss: 5.5713e-04 - val_loss: 4.5940e-04\n",
      "Epoch 5/20\n",
      "\u001b[1m5394/5394\u001b[0m \u001b[32m━━━━━━━━━━━━━━━━━━━━\u001b[0m\u001b[37m\u001b[0m \u001b[1m311s\u001b[0m 58ms/step - loss: 5.3574e-04 - val_loss: 4.5597e-04\n",
      "Epoch 6/20\n",
      "\u001b[1m5394/5394\u001b[0m \u001b[32m━━━━━━━━━━━━━━━━━━━━\u001b[0m\u001b[37m\u001b[0m \u001b[1m329s\u001b[0m 61ms/step - loss: 5.2442e-04 - val_loss: 4.3998e-04\n",
      "Epoch 7/20\n",
      "\u001b[1m5394/5394\u001b[0m \u001b[32m━━━━━━━━━━━━━━━━━━━━\u001b[0m\u001b[37m\u001b[0m \u001b[1m355s\u001b[0m 66ms/step - loss: 5.2347e-04 - val_loss: 4.2668e-04\n",
      "Epoch 8/20\n",
      "\u001b[1m5394/5394\u001b[0m \u001b[32m━━━━━━━━━━━━━━━━━━━━\u001b[0m\u001b[37m\u001b[0m \u001b[1m320s\u001b[0m 59ms/step - loss: 5.0799e-04 - val_loss: 4.1924e-04\n",
      "Epoch 9/20\n",
      "\u001b[1m5394/5394\u001b[0m \u001b[32m━━━━━━━━━━━━━━━━━━━━\u001b[0m\u001b[37m\u001b[0m \u001b[1m296s\u001b[0m 55ms/step - loss: 4.9540e-04 - val_loss: 4.2077e-04\n",
      "Epoch 10/20\n",
      "\u001b[1m5394/5394\u001b[0m \u001b[32m━━━━━━━━━━━━━━━━━━━━\u001b[0m\u001b[37m\u001b[0m \u001b[1m292s\u001b[0m 54ms/step - loss: 4.8112e-04 - val_loss: 5.1347e-04\n",
      "Epoch 11/20\n",
      "\u001b[1m5394/5394\u001b[0m \u001b[32m━━━━━━━━━━━━━━━━━━━━\u001b[0m\u001b[37m\u001b[0m \u001b[1m289s\u001b[0m 53ms/step - loss: 4.8460e-04 - val_loss: 3.9013e-04\n",
      "Epoch 12/20\n",
      "\u001b[1m5394/5394\u001b[0m \u001b[32m━━━━━━━━━━━━━━━━━━━━\u001b[0m\u001b[37m\u001b[0m \u001b[1m289s\u001b[0m 54ms/step - loss: 4.6787e-04 - val_loss: 3.8505e-04\n",
      "Epoch 13/20\n",
      "\u001b[1m5394/5394\u001b[0m \u001b[32m━━━━━━━━━━━━━━━━━━━━\u001b[0m\u001b[37m\u001b[0m \u001b[1m283s\u001b[0m 53ms/step - loss: 4.5225e-04 - val_loss: 3.9320e-04\n",
      "Epoch 14/20\n",
      "\u001b[1m5394/5394\u001b[0m \u001b[32m━━━━━━━━━━━━━━━━━━━━\u001b[0m\u001b[37m\u001b[0m \u001b[1m290s\u001b[0m 54ms/step - loss: 4.6404e-04 - val_loss: 3.7101e-04\n",
      "Epoch 15/20\n",
      "\u001b[1m5394/5394\u001b[0m \u001b[32m━━━━━━━━━━━━━━━━━━━━\u001b[0m\u001b[37m\u001b[0m \u001b[1m327s\u001b[0m 61ms/step - loss: 4.3676e-04 - val_loss: 3.5881e-04\n",
      "Epoch 16/20\n",
      "\u001b[1m5394/5394\u001b[0m \u001b[32m━━━━━━━━━━━━━━━━━━━━\u001b[0m\u001b[37m\u001b[0m \u001b[1m339s\u001b[0m 63ms/step - loss: 4.2470e-04 - val_loss: 3.4664e-04\n",
      "Epoch 17/20\n",
      "\u001b[1m5394/5394\u001b[0m \u001b[32m━━━━━━━━━━━━━━━━━━━━\u001b[0m\u001b[37m\u001b[0m \u001b[1m316s\u001b[0m 59ms/step - loss: 4.1505e-04 - val_loss: 3.4966e-04\n",
      "Epoch 18/20\n",
      "\u001b[1m5394/5394\u001b[0m \u001b[32m━━━━━━━━━━━━━━━━━━━━\u001b[0m\u001b[37m\u001b[0m \u001b[1m314s\u001b[0m 58ms/step - loss: 4.2043e-04 - val_loss: 3.5022e-04\n",
      "Epoch 19/20\n",
      "\u001b[1m5394/5394\u001b[0m \u001b[32m━━━━━━━━━━━━━━━━━━━━\u001b[0m\u001b[37m\u001b[0m \u001b[1m318s\u001b[0m 59ms/step - loss: 4.0243e-04 - val_loss: 3.2425e-04\n",
      "Epoch 20/20\n",
      "\u001b[1m5394/5394\u001b[0m \u001b[32m━━━━━━━━━━━━━━━━━━━━\u001b[0m\u001b[37m\u001b[0m \u001b[1m318s\u001b[0m 59ms/step - loss: 3.9028e-04 - val_loss: 3.2807e-04\n"
     ]
    }
   ],
   "source": [
    "history = model.fit(X_train, y_train, validation_data=(X_test,y_test),epochs = 20, batch_size = 32)\n"
   ]
  },
  {
   "cell_type": "code",
   "execution_count": 69,
   "metadata": {},
   "outputs": [],
   "source": [
    "scaled_data1 = scaler.fit_transform(df_test)\n"
   ]
  },
  {
   "cell_type": "code",
   "execution_count": 70,
   "metadata": {},
   "outputs": [
    {
     "name": "stdout",
     "output_type": "stream",
     "text": [
      "\u001b[1m3080/3080\u001b[0m \u001b[32m━━━━━━━━━━━━━━━━━━━━\u001b[0m\u001b[37m\u001b[0m \u001b[1m55s\u001b[0m 18ms/step\n"
     ]
    }
   ],
   "source": [
    "ypred = model.predict(scaled_data1)\n"
   ]
  },
  {
   "cell_type": "code",
   "execution_count": 71,
   "metadata": {},
   "outputs": [
    {
     "data": {
      "text/plain": [
       "(98550, 1)"
      ]
     },
     "execution_count": 71,
     "metadata": {},
     "output_type": "execute_result"
    }
   ],
   "source": [
    "ypred.shape\n"
   ]
  },
  {
   "cell_type": "code",
   "execution_count": 72,
   "metadata": {},
   "outputs": [
    {
     "data": {
      "text/plain": [
       "array([[0.12281405],\n",
       "       [0.12849453],\n",
       "       [0.10124639],\n",
       "       ...,\n",
       "       [0.26409462],\n",
       "       [0.1452865 ],\n",
       "       [0.19183183]], dtype=float32)"
      ]
     },
     "execution_count": 72,
     "metadata": {},
     "output_type": "execute_result"
    }
   ],
   "source": [
    "ypred\n"
   ]
  },
  {
   "cell_type": "code",
   "execution_count": 73,
   "metadata": {},
   "outputs": [],
   "source": [
    "num_sold_min = 5\n",
    "num_sold_max = 5939\n",
    "y_pred_original = (ypred.squeeze() ** 2)  \n",
    "y_pred_original = np.expm1(y_pred_original)  \n",
    "y_pred_original = y_pred_original * num_sold_max + num_sold_min"
   ]
  },
  {
   "cell_type": "code",
   "execution_count": 77,
   "metadata": {},
   "outputs": [
    {
     "data": {
      "text/plain": [
       "numpy.ndarray"
      ]
     },
     "execution_count": 77,
     "metadata": {},
     "output_type": "execute_result"
    }
   ],
   "source": [
    "type(y_pred_original)\n"
   ]
  },
  {
   "cell_type": "code",
   "execution_count": null,
   "metadata": {},
   "outputs": [
    {
     "data": {
      "text/html": [
       "<div>\n",
       "<style scoped>\n",
       "    .dataframe tbody tr th:only-of-type {\n",
       "        vertical-align: middle;\n",
       "    }\n",
       "\n",
       "    .dataframe tbody tr th {\n",
       "        vertical-align: top;\n",
       "    }\n",
       "\n",
       "    .dataframe thead th {\n",
       "        text-align: right;\n",
       "    }\n",
       "</style>\n",
       "<table border=\"1\" class=\"dataframe\">\n",
       "  <thead>\n",
       "    <tr style=\"text-align: right;\">\n",
       "      <th></th>\n",
       "      <th>month</th>\n",
       "      <th>weekday</th>\n",
       "      <th>week</th>\n",
       "      <th>weekday_sin</th>\n",
       "      <th>weekday_cos</th>\n",
       "      <th>week_sin</th>\n",
       "      <th>week_cos</th>\n",
       "      <th>country_encoded</th>\n",
       "      <th>store_encoded</th>\n",
       "      <th>product_encoded</th>\n",
       "      <th>...</th>\n",
       "      <th>country_Norway</th>\n",
       "      <th>country_Singapore</th>\n",
       "      <th>store_Discount Stickers</th>\n",
       "      <th>store_Premium Sticker Mart</th>\n",
       "      <th>store_Stickers for Less</th>\n",
       "      <th>product_Holographic Goose</th>\n",
       "      <th>product_Kaggle</th>\n",
       "      <th>product_Kaggle Tiers</th>\n",
       "      <th>product_Kerneler</th>\n",
       "      <th>product_Kerneler Dark Mode</th>\n",
       "    </tr>\n",
       "  </thead>\n",
       "  <tbody>\n",
       "    <tr>\n",
       "      <th>0</th>\n",
       "      <td>1</td>\n",
       "      <td>6</td>\n",
       "      <td>52</td>\n",
       "      <td>-0.781831</td>\n",
       "      <td>0.62349</td>\n",
       "      <td>0.0</td>\n",
       "      <td>1.0</td>\n",
       "      <td>0.128028</td>\n",
       "      <td>0.070839</td>\n",
       "      <td>0.048322</td>\n",
       "      <td>...</td>\n",
       "      <td>False</td>\n",
       "      <td>False</td>\n",
       "      <td>True</td>\n",
       "      <td>False</td>\n",
       "      <td>False</td>\n",
       "      <td>True</td>\n",
       "      <td>False</td>\n",
       "      <td>False</td>\n",
       "      <td>False</td>\n",
       "      <td>False</td>\n",
       "    </tr>\n",
       "    <tr>\n",
       "      <th>1</th>\n",
       "      <td>1</td>\n",
       "      <td>6</td>\n",
       "      <td>52</td>\n",
       "      <td>-0.781831</td>\n",
       "      <td>0.62349</td>\n",
       "      <td>0.0</td>\n",
       "      <td>1.0</td>\n",
       "      <td>0.128028</td>\n",
       "      <td>0.070839</td>\n",
       "      <td>0.175174</td>\n",
       "      <td>...</td>\n",
       "      <td>False</td>\n",
       "      <td>False</td>\n",
       "      <td>True</td>\n",
       "      <td>False</td>\n",
       "      <td>False</td>\n",
       "      <td>False</td>\n",
       "      <td>True</td>\n",
       "      <td>False</td>\n",
       "      <td>False</td>\n",
       "      <td>False</td>\n",
       "    </tr>\n",
       "    <tr>\n",
       "      <th>2</th>\n",
       "      <td>1</td>\n",
       "      <td>6</td>\n",
       "      <td>52</td>\n",
       "      <td>-0.781831</td>\n",
       "      <td>0.62349</td>\n",
       "      <td>0.0</td>\n",
       "      <td>1.0</td>\n",
       "      <td>0.128028</td>\n",
       "      <td>0.070839</td>\n",
       "      <td>0.150693</td>\n",
       "      <td>...</td>\n",
       "      <td>False</td>\n",
       "      <td>False</td>\n",
       "      <td>True</td>\n",
       "      <td>False</td>\n",
       "      <td>False</td>\n",
       "      <td>False</td>\n",
       "      <td>False</td>\n",
       "      <td>True</td>\n",
       "      <td>False</td>\n",
       "      <td>False</td>\n",
       "    </tr>\n",
       "    <tr>\n",
       "      <th>3</th>\n",
       "      <td>1</td>\n",
       "      <td>6</td>\n",
       "      <td>52</td>\n",
       "      <td>-0.781831</td>\n",
       "      <td>0.62349</td>\n",
       "      <td>0.0</td>\n",
       "      <td>1.0</td>\n",
       "      <td>0.128028</td>\n",
       "      <td>0.070839</td>\n",
       "      <td>0.087045</td>\n",
       "      <td>...</td>\n",
       "      <td>False</td>\n",
       "      <td>False</td>\n",
       "      <td>True</td>\n",
       "      <td>False</td>\n",
       "      <td>False</td>\n",
       "      <td>False</td>\n",
       "      <td>False</td>\n",
       "      <td>False</td>\n",
       "      <td>True</td>\n",
       "      <td>False</td>\n",
       "    </tr>\n",
       "    <tr>\n",
       "      <th>4</th>\n",
       "      <td>1</td>\n",
       "      <td>6</td>\n",
       "      <td>52</td>\n",
       "      <td>-0.781831</td>\n",
       "      <td>0.62349</td>\n",
       "      <td>0.0</td>\n",
       "      <td>1.0</td>\n",
       "      <td>0.128028</td>\n",
       "      <td>0.070839</td>\n",
       "      <td>0.100696</td>\n",
       "      <td>...</td>\n",
       "      <td>False</td>\n",
       "      <td>False</td>\n",
       "      <td>True</td>\n",
       "      <td>False</td>\n",
       "      <td>False</td>\n",
       "      <td>False</td>\n",
       "      <td>False</td>\n",
       "      <td>False</td>\n",
       "      <td>False</td>\n",
       "      <td>True</td>\n",
       "    </tr>\n",
       "    <tr>\n",
       "      <th>...</th>\n",
       "      <td>...</td>\n",
       "      <td>...</td>\n",
       "      <td>...</td>\n",
       "      <td>...</td>\n",
       "      <td>...</td>\n",
       "      <td>...</td>\n",
       "      <td>...</td>\n",
       "      <td>...</td>\n",
       "      <td>...</td>\n",
       "      <td>...</td>\n",
       "      <td>...</td>\n",
       "      <td>...</td>\n",
       "      <td>...</td>\n",
       "      <td>...</td>\n",
       "      <td>...</td>\n",
       "      <td>...</td>\n",
       "      <td>...</td>\n",
       "      <td>...</td>\n",
       "      <td>...</td>\n",
       "      <td>...</td>\n",
       "      <td>...</td>\n",
       "    </tr>\n",
       "    <tr>\n",
       "      <th>98545</th>\n",
       "      <td>12</td>\n",
       "      <td>1</td>\n",
       "      <td>1</td>\n",
       "      <td>0.781831</td>\n",
       "      <td>0.62349</td>\n",
       "      <td>0.120537</td>\n",
       "      <td>0.992709</td>\n",
       "      <td>0.131622</td>\n",
       "      <td>0.141056</td>\n",
       "      <td>0.048322</td>\n",
       "      <td>...</td>\n",
       "      <td>False</td>\n",
       "      <td>True</td>\n",
       "      <td>False</td>\n",
       "      <td>True</td>\n",
       "      <td>False</td>\n",
       "      <td>True</td>\n",
       "      <td>False</td>\n",
       "      <td>False</td>\n",
       "      <td>False</td>\n",
       "      <td>False</td>\n",
       "    </tr>\n",
       "    <tr>\n",
       "      <th>98546</th>\n",
       "      <td>12</td>\n",
       "      <td>1</td>\n",
       "      <td>1</td>\n",
       "      <td>0.781831</td>\n",
       "      <td>0.62349</td>\n",
       "      <td>0.120537</td>\n",
       "      <td>0.992709</td>\n",
       "      <td>0.131622</td>\n",
       "      <td>0.141056</td>\n",
       "      <td>0.175174</td>\n",
       "      <td>...</td>\n",
       "      <td>False</td>\n",
       "      <td>True</td>\n",
       "      <td>False</td>\n",
       "      <td>True</td>\n",
       "      <td>False</td>\n",
       "      <td>False</td>\n",
       "      <td>True</td>\n",
       "      <td>False</td>\n",
       "      <td>False</td>\n",
       "      <td>False</td>\n",
       "    </tr>\n",
       "    <tr>\n",
       "      <th>98547</th>\n",
       "      <td>12</td>\n",
       "      <td>1</td>\n",
       "      <td>1</td>\n",
       "      <td>0.781831</td>\n",
       "      <td>0.62349</td>\n",
       "      <td>0.120537</td>\n",
       "      <td>0.992709</td>\n",
       "      <td>0.131622</td>\n",
       "      <td>0.141056</td>\n",
       "      <td>0.150693</td>\n",
       "      <td>...</td>\n",
       "      <td>False</td>\n",
       "      <td>True</td>\n",
       "      <td>False</td>\n",
       "      <td>True</td>\n",
       "      <td>False</td>\n",
       "      <td>False</td>\n",
       "      <td>False</td>\n",
       "      <td>True</td>\n",
       "      <td>False</td>\n",
       "      <td>False</td>\n",
       "    </tr>\n",
       "    <tr>\n",
       "      <th>98548</th>\n",
       "      <td>12</td>\n",
       "      <td>1</td>\n",
       "      <td>1</td>\n",
       "      <td>0.781831</td>\n",
       "      <td>0.62349</td>\n",
       "      <td>0.120537</td>\n",
       "      <td>0.992709</td>\n",
       "      <td>0.131622</td>\n",
       "      <td>0.141056</td>\n",
       "      <td>0.087045</td>\n",
       "      <td>...</td>\n",
       "      <td>False</td>\n",
       "      <td>True</td>\n",
       "      <td>False</td>\n",
       "      <td>True</td>\n",
       "      <td>False</td>\n",
       "      <td>False</td>\n",
       "      <td>False</td>\n",
       "      <td>False</td>\n",
       "      <td>True</td>\n",
       "      <td>False</td>\n",
       "    </tr>\n",
       "    <tr>\n",
       "      <th>98549</th>\n",
       "      <td>12</td>\n",
       "      <td>1</td>\n",
       "      <td>1</td>\n",
       "      <td>0.781831</td>\n",
       "      <td>0.62349</td>\n",
       "      <td>0.120537</td>\n",
       "      <td>0.992709</td>\n",
       "      <td>0.131622</td>\n",
       "      <td>0.141056</td>\n",
       "      <td>0.100696</td>\n",
       "      <td>...</td>\n",
       "      <td>False</td>\n",
       "      <td>True</td>\n",
       "      <td>False</td>\n",
       "      <td>True</td>\n",
       "      <td>False</td>\n",
       "      <td>False</td>\n",
       "      <td>False</td>\n",
       "      <td>False</td>\n",
       "      <td>False</td>\n",
       "      <td>True</td>\n",
       "    </tr>\n",
       "  </tbody>\n",
       "</table>\n",
       "<p>98550 rows × 87 columns</p>\n",
       "</div>"
      ],
      "text/plain": [
       "       month  weekday  week  weekday_sin  weekday_cos  week_sin  week_cos  \\\n",
       "0          1        6    52    -0.781831      0.62349       0.0       1.0   \n",
       "1          1        6    52    -0.781831      0.62349       0.0       1.0   \n",
       "2          1        6    52    -0.781831      0.62349       0.0       1.0   \n",
       "3          1        6    52    -0.781831      0.62349       0.0       1.0   \n",
       "4          1        6    52    -0.781831      0.62349       0.0       1.0   \n",
       "...      ...      ...   ...          ...          ...       ...       ...   \n",
       "98545     12        1     1     0.781831      0.62349  0.120537  0.992709   \n",
       "98546     12        1     1     0.781831      0.62349  0.120537  0.992709   \n",
       "98547     12        1     1     0.781831      0.62349  0.120537  0.992709   \n",
       "98548     12        1     1     0.781831      0.62349  0.120537  0.992709   \n",
       "98549     12        1     1     0.781831      0.62349  0.120537  0.992709   \n",
       "\n",
       "       country_encoded  store_encoded  product_encoded  ...  country_Norway  \\\n",
       "0             0.128028       0.070839         0.048322  ...           False   \n",
       "1             0.128028       0.070839         0.175174  ...           False   \n",
       "2             0.128028       0.070839         0.150693  ...           False   \n",
       "3             0.128028       0.070839         0.087045  ...           False   \n",
       "4             0.128028       0.070839         0.100696  ...           False   \n",
       "...                ...            ...              ...  ...             ...   \n",
       "98545         0.131622       0.141056         0.048322  ...           False   \n",
       "98546         0.131622       0.141056         0.175174  ...           False   \n",
       "98547         0.131622       0.141056         0.150693  ...           False   \n",
       "98548         0.131622       0.141056         0.087045  ...           False   \n",
       "98549         0.131622       0.141056         0.100696  ...           False   \n",
       "\n",
       "       country_Singapore  store_Discount Stickers  store_Premium Sticker Mart  \\\n",
       "0                  False                     True                       False   \n",
       "1                  False                     True                       False   \n",
       "2                  False                     True                       False   \n",
       "3                  False                     True                       False   \n",
       "4                  False                     True                       False   \n",
       "...                  ...                      ...                         ...   \n",
       "98545               True                    False                        True   \n",
       "98546               True                    False                        True   \n",
       "98547               True                    False                        True   \n",
       "98548               True                    False                        True   \n",
       "98549               True                    False                        True   \n",
       "\n",
       "       store_Stickers for Less  product_Holographic Goose  product_Kaggle  \\\n",
       "0                        False                       True           False   \n",
       "1                        False                      False            True   \n",
       "2                        False                      False           False   \n",
       "3                        False                      False           False   \n",
       "4                        False                      False           False   \n",
       "...                        ...                        ...             ...   \n",
       "98545                    False                       True           False   \n",
       "98546                    False                      False            True   \n",
       "98547                    False                      False           False   \n",
       "98548                    False                      False           False   \n",
       "98549                    False                      False           False   \n",
       "\n",
       "       product_Kaggle Tiers  product_Kerneler  product_Kerneler Dark Mode  \n",
       "0                     False             False                       False  \n",
       "1                     False             False                       False  \n",
       "2                      True             False                       False  \n",
       "3                     False              True                       False  \n",
       "4                     False             False                        True  \n",
       "...                     ...               ...                         ...  \n",
       "98545                 False             False                       False  \n",
       "98546                 False             False                       False  \n",
       "98547                  True             False                       False  \n",
       "98548                 False              True                       False  \n",
       "98549                 False             False                        True  \n",
       "\n",
       "[98550 rows x 87 columns]"
      ]
     },
     "execution_count": 81,
     "metadata": {},
     "output_type": "execute_result"
    }
   ],
   "source": []
  },
  {
   "cell_type": "code",
   "execution_count": 84,
   "metadata": {},
   "outputs": [],
   "source": [
    "# Create a submission DataFrame\n",
    "submission = pd.DataFrame({\n",
    "    'id': df_test['id'],            # Replace test_ids with the actual IDs\n",
    "    'num_sold': y_pred_original.flatten()  # Ensure predictions are 1D\n",
    "})"
   ]
  },
  {
   "cell_type": "code",
   "execution_count": 83,
   "metadata": {},
   "outputs": [
    {
     "data": {
      "text/html": [
       "<div>\n",
       "<style scoped>\n",
       "    .dataframe tbody tr th:only-of-type {\n",
       "        vertical-align: middle;\n",
       "    }\n",
       "\n",
       "    .dataframe tbody tr th {\n",
       "        vertical-align: top;\n",
       "    }\n",
       "\n",
       "    .dataframe thead th {\n",
       "        text-align: right;\n",
       "    }\n",
       "</style>\n",
       "<table border=\"1\" class=\"dataframe\">\n",
       "  <thead>\n",
       "    <tr style=\"text-align: right;\">\n",
       "      <th></th>\n",
       "      <th>id</th>\n",
       "      <th>date</th>\n",
       "      <th>country</th>\n",
       "      <th>store</th>\n",
       "      <th>product</th>\n",
       "    </tr>\n",
       "  </thead>\n",
       "  <tbody>\n",
       "    <tr>\n",
       "      <th>0</th>\n",
       "      <td>230130</td>\n",
       "      <td>2017-01-01</td>\n",
       "      <td>Canada</td>\n",
       "      <td>Discount Stickers</td>\n",
       "      <td>Holographic Goose</td>\n",
       "    </tr>\n",
       "    <tr>\n",
       "      <th>1</th>\n",
       "      <td>230131</td>\n",
       "      <td>2017-01-01</td>\n",
       "      <td>Canada</td>\n",
       "      <td>Discount Stickers</td>\n",
       "      <td>Kaggle</td>\n",
       "    </tr>\n",
       "    <tr>\n",
       "      <th>2</th>\n",
       "      <td>230132</td>\n",
       "      <td>2017-01-01</td>\n",
       "      <td>Canada</td>\n",
       "      <td>Discount Stickers</td>\n",
       "      <td>Kaggle Tiers</td>\n",
       "    </tr>\n",
       "    <tr>\n",
       "      <th>3</th>\n",
       "      <td>230133</td>\n",
       "      <td>2017-01-01</td>\n",
       "      <td>Canada</td>\n",
       "      <td>Discount Stickers</td>\n",
       "      <td>Kerneler</td>\n",
       "    </tr>\n",
       "    <tr>\n",
       "      <th>4</th>\n",
       "      <td>230134</td>\n",
       "      <td>2017-01-01</td>\n",
       "      <td>Canada</td>\n",
       "      <td>Discount Stickers</td>\n",
       "      <td>Kerneler Dark Mode</td>\n",
       "    </tr>\n",
       "    <tr>\n",
       "      <th>...</th>\n",
       "      <td>...</td>\n",
       "      <td>...</td>\n",
       "      <td>...</td>\n",
       "      <td>...</td>\n",
       "      <td>...</td>\n",
       "    </tr>\n",
       "    <tr>\n",
       "      <th>98545</th>\n",
       "      <td>328675</td>\n",
       "      <td>2019-12-31</td>\n",
       "      <td>Singapore</td>\n",
       "      <td>Premium Sticker Mart</td>\n",
       "      <td>Holographic Goose</td>\n",
       "    </tr>\n",
       "    <tr>\n",
       "      <th>98546</th>\n",
       "      <td>328676</td>\n",
       "      <td>2019-12-31</td>\n",
       "      <td>Singapore</td>\n",
       "      <td>Premium Sticker Mart</td>\n",
       "      <td>Kaggle</td>\n",
       "    </tr>\n",
       "    <tr>\n",
       "      <th>98547</th>\n",
       "      <td>328677</td>\n",
       "      <td>2019-12-31</td>\n",
       "      <td>Singapore</td>\n",
       "      <td>Premium Sticker Mart</td>\n",
       "      <td>Kaggle Tiers</td>\n",
       "    </tr>\n",
       "    <tr>\n",
       "      <th>98548</th>\n",
       "      <td>328678</td>\n",
       "      <td>2019-12-31</td>\n",
       "      <td>Singapore</td>\n",
       "      <td>Premium Sticker Mart</td>\n",
       "      <td>Kerneler</td>\n",
       "    </tr>\n",
       "    <tr>\n",
       "      <th>98549</th>\n",
       "      <td>328679</td>\n",
       "      <td>2019-12-31</td>\n",
       "      <td>Singapore</td>\n",
       "      <td>Premium Sticker Mart</td>\n",
       "      <td>Kerneler Dark Mode</td>\n",
       "    </tr>\n",
       "  </tbody>\n",
       "</table>\n",
       "<p>98550 rows × 5 columns</p>\n",
       "</div>"
      ],
      "text/plain": [
       "           id        date    country                 store             product\n",
       "0      230130  2017-01-01     Canada     Discount Stickers   Holographic Goose\n",
       "1      230131  2017-01-01     Canada     Discount Stickers              Kaggle\n",
       "2      230132  2017-01-01     Canada     Discount Stickers        Kaggle Tiers\n",
       "3      230133  2017-01-01     Canada     Discount Stickers            Kerneler\n",
       "4      230134  2017-01-01     Canada     Discount Stickers  Kerneler Dark Mode\n",
       "...       ...         ...        ...                   ...                 ...\n",
       "98545  328675  2019-12-31  Singapore  Premium Sticker Mart   Holographic Goose\n",
       "98546  328676  2019-12-31  Singapore  Premium Sticker Mart              Kaggle\n",
       "98547  328677  2019-12-31  Singapore  Premium Sticker Mart        Kaggle Tiers\n",
       "98548  328678  2019-12-31  Singapore  Premium Sticker Mart            Kerneler\n",
       "98549  328679  2019-12-31  Singapore  Premium Sticker Mart  Kerneler Dark Mode\n",
       "\n",
       "[98550 rows x 5 columns]"
      ]
     },
     "execution_count": 83,
     "metadata": {},
     "output_type": "execute_result"
    }
   ],
   "source": [
    "df_test"
   ]
  },
  {
   "cell_type": "code",
   "execution_count": 85,
   "metadata": {},
   "outputs": [
    {
     "name": "stdout",
     "output_type": "stream",
     "text": [
      "Submission file saved as 'submission.csv'.\n"
     ]
    }
   ],
   "source": [
    "# Save the submission to a CSV file\n",
    "submission.to_csv('submission11111.csv', index=False)\n",
    "print(\"Submission file saved as 'submission.csv'.\")"
   ]
  },
  {
   "cell_type": "code",
   "execution_count": null,
   "metadata": {},
   "outputs": [],
   "source": []
  }
 ],
 "metadata": {
  "kernelspec": {
   "display_name": "Python (venv)",
   "language": "python",
   "name": "venv"
  },
  "language_info": {
   "codemirror_mode": {
    "name": "ipython",
    "version": 3
   },
   "file_extension": ".py",
   "mimetype": "text/x-python",
   "name": "python",
   "nbconvert_exporter": "python",
   "pygments_lexer": "ipython3",
   "version": "3.12.3"
  }
 },
 "nbformat": 4,
 "nbformat_minor": 2
}
