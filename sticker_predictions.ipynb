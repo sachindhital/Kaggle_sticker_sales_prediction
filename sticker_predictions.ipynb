{
 "cells": [
  {
   "cell_type": "code",
   "execution_count": null,
   "metadata": {},
   "outputs": [],
   "source": []
  },
  {
   "cell_type": "code",
   "execution_count": 1,
   "metadata": {},
   "outputs": [
    {
     "name": "stdout",
     "output_type": "stream",
     "text": [
      "Train Data:\n",
      "   id        date country              store             product  num_sold\n",
      "0   0  2010-01-01  Canada  Discount Stickers   Holographic Goose       NaN\n",
      "1   1  2010-01-01  Canada  Discount Stickers              Kaggle     973.0\n",
      "2   2  2010-01-01  Canada  Discount Stickers        Kaggle Tiers     906.0\n",
      "3   3  2010-01-01  Canada  Discount Stickers            Kerneler     423.0\n",
      "4   4  2010-01-01  Canada  Discount Stickers  Kerneler Dark Mode     491.0\n",
      "\n",
      "Test Data:\n",
      "       id        date country              store             product\n",
      "0  230130  2017-01-01  Canada  Discount Stickers   Holographic Goose\n",
      "1  230131  2017-01-01  Canada  Discount Stickers              Kaggle\n",
      "2  230132  2017-01-01  Canada  Discount Stickers        Kaggle Tiers\n",
      "3  230133  2017-01-01  Canada  Discount Stickers            Kerneler\n",
      "4  230134  2017-01-01  Canada  Discount Stickers  Kerneler Dark Mode\n"
     ]
    }
   ],
   "source": [
    "\n",
    "import pandas as pd\n",
    "\n",
    "# Load the data\n",
    "train = pd.read_csv('C:\\\\Projects\\\\Kaggle\\\\playground-series-s5e1\\\\train.csv')\n",
    "test = pd.read_csv('C:\\\\Projects\\\\Kaggle\\\\playground-series-s5e1\\\\test.csv')\n",
    "\n",
    "# Preview the first few rows\n",
    "print(\"Train Data:\")\n",
    "print(train.head())\n",
    "\n",
    "print(\"\\nTest Data:\")\n",
    "print(test.head())\n"
   ]
  },
  {
   "cell_type": "code",
   "execution_count": 22,
   "metadata": {},
   "outputs": [
    {
     "data": {
      "text/html": [
       "<div>\n",
       "<style scoped>\n",
       "    .dataframe tbody tr th:only-of-type {\n",
       "        vertical-align: middle;\n",
       "    }\n",
       "\n",
       "    .dataframe tbody tr th {\n",
       "        vertical-align: top;\n",
       "    }\n",
       "\n",
       "    .dataframe thead th {\n",
       "        text-align: right;\n",
       "    }\n",
       "</style>\n",
       "<table border=\"1\" class=\"dataframe\">\n",
       "  <thead>\n",
       "    <tr style=\"text-align: right;\">\n",
       "      <th></th>\n",
       "      <th>id</th>\n",
       "      <th>date</th>\n",
       "      <th>country</th>\n",
       "      <th>store</th>\n",
       "      <th>product</th>\n",
       "      <th>num_sold</th>\n",
       "      <th>is_weekend</th>\n",
       "    </tr>\n",
       "  </thead>\n",
       "  <tbody>\n",
       "    <tr>\n",
       "      <th>0</th>\n",
       "      <td>0</td>\n",
       "      <td>2010-01-01 00:00:00</td>\n",
       "      <td>Canada</td>\n",
       "      <td>Discount Stickers</td>\n",
       "      <td>Holographic Goose</td>\n",
       "      <td>NaN</td>\n",
       "      <td>0.0</td>\n",
       "    </tr>\n",
       "    <tr>\n",
       "      <th>1</th>\n",
       "      <td>1</td>\n",
       "      <td>2010-01-01 00:00:00</td>\n",
       "      <td>Canada</td>\n",
       "      <td>Discount Stickers</td>\n",
       "      <td>Kaggle</td>\n",
       "      <td>973.0</td>\n",
       "      <td>0.0</td>\n",
       "    </tr>\n",
       "    <tr>\n",
       "      <th>2</th>\n",
       "      <td>2</td>\n",
       "      <td>2010-01-01 00:00:00</td>\n",
       "      <td>Canada</td>\n",
       "      <td>Discount Stickers</td>\n",
       "      <td>Kaggle Tiers</td>\n",
       "      <td>906.0</td>\n",
       "      <td>0.0</td>\n",
       "    </tr>\n",
       "    <tr>\n",
       "      <th>3</th>\n",
       "      <td>3</td>\n",
       "      <td>2010-01-01 00:00:00</td>\n",
       "      <td>Canada</td>\n",
       "      <td>Discount Stickers</td>\n",
       "      <td>Kerneler</td>\n",
       "      <td>423.0</td>\n",
       "      <td>0.0</td>\n",
       "    </tr>\n",
       "    <tr>\n",
       "      <th>4</th>\n",
       "      <td>4</td>\n",
       "      <td>2010-01-01 00:00:00</td>\n",
       "      <td>Canada</td>\n",
       "      <td>Discount Stickers</td>\n",
       "      <td>Kerneler Dark Mode</td>\n",
       "      <td>491.0</td>\n",
       "      <td>0.0</td>\n",
       "    </tr>\n",
       "  </tbody>\n",
       "</table>\n",
       "</div>"
      ],
      "text/plain": [
       "   id                 date country              store             product  \\\n",
       "0   0  2010-01-01 00:00:00  Canada  Discount Stickers   Holographic Goose   \n",
       "1   1  2010-01-01 00:00:00  Canada  Discount Stickers              Kaggle   \n",
       "2   2  2010-01-01 00:00:00  Canada  Discount Stickers        Kaggle Tiers   \n",
       "3   3  2010-01-01 00:00:00  Canada  Discount Stickers            Kerneler   \n",
       "4   4  2010-01-01 00:00:00  Canada  Discount Stickers  Kerneler Dark Mode   \n",
       "\n",
       "   num_sold  is_weekend  \n",
       "0       NaN         0.0  \n",
       "1     973.0         0.0  \n",
       "2     906.0         0.0  \n",
       "3     423.0         0.0  \n",
       "4     491.0         0.0  "
      ]
     },
     "execution_count": 22,
     "metadata": {},
     "output_type": "execute_result"
    }
   ],
   "source": [
    "if 'num_sold' not in test.columns:\n",
    "    test['num_sold'] = 0\n",
    "df = pd.concat([train, test], axis = 0)\n",
    "df.head()"
   ]
  },
  {
   "cell_type": "code",
   "execution_count": 23,
   "metadata": {},
   "outputs": [
    {
     "name": "stdout",
     "output_type": "stream",
     "text": [
      "Combined DataFrame Shape: (328680, 7)\n",
      "<class 'pandas.core.frame.DataFrame'>\n",
      "Index: 328680 entries, 0 to 98549\n",
      "Data columns (total 7 columns):\n",
      " #   Column      Non-Null Count   Dtype  \n",
      "---  ------      --------------   -----  \n",
      " 0   id          328680 non-null  int64  \n",
      " 1   date        328680 non-null  object \n",
      " 2   country     328680 non-null  object \n",
      " 3   store       328680 non-null  object \n",
      " 4   product     328680 non-null  object \n",
      " 5   num_sold    319809 non-null  float64\n",
      " 6   is_weekend  230130 non-null  float64\n",
      "dtypes: float64(2), int64(1), object(4)\n",
      "memory usage: 20.1+ MB\n",
      "None\n",
      "           id        date    country                 store  \\\n",
      "98545  328675  2019-12-31  Singapore  Premium Sticker Mart   \n",
      "98546  328676  2019-12-31  Singapore  Premium Sticker Mart   \n",
      "98547  328677  2019-12-31  Singapore  Premium Sticker Mart   \n",
      "98548  328678  2019-12-31  Singapore  Premium Sticker Mart   \n",
      "98549  328679  2019-12-31  Singapore  Premium Sticker Mart   \n",
      "\n",
      "                  product  num_sold  is_weekend  \n",
      "98545   Holographic Goose       0.0         NaN  \n",
      "98546              Kaggle       0.0         NaN  \n",
      "98547        Kaggle Tiers       0.0         NaN  \n",
      "98548            Kerneler       0.0         NaN  \n",
      "98549  Kerneler Dark Mode       0.0         NaN  \n"
     ]
    }
   ],
   "source": [
    "print(\"Combined DataFrame Shape:\", df.shape)\n",
    "print(df.info())  # Check column types and non-null counts\n",
    "print(df.tail())  # Verify the last rows come from the test dataset\n"
   ]
  },
  {
   "cell_type": "code",
   "execution_count": 24,
   "metadata": {},
   "outputs": [
    {
     "name": "stdout",
     "output_type": "stream",
     "text": [
      "        date  is_weekend\n",
      "0 2010-01-01           0\n",
      "1 2010-01-01           0\n",
      "2 2010-01-01           0\n",
      "3 2010-01-01           0\n",
      "4 2010-01-01           0\n",
      "Unique values in 'is_weekend': [0 1]\n"
     ]
    }
   ],
   "source": [
    "# Ensure 'date' is in datetime format\n",
    "df['date'] = pd.to_datetime(df['date'])\n",
    "\n",
    "# Create 'is_weekend' column # 0 for weekdays and 1 for weekend\n",
    "df['is_weekend'] = df['date'].dt.dayofweek.isin([5, 6]).astype(int)\n",
    "\n",
    "# Verify the column\n",
    "print(df[['date', 'is_weekend']].head())\n",
    "print(\"Unique values in 'is_weekend':\", df['is_weekend'].unique())\n",
    "\n"
   ]
  },
  {
   "cell_type": "code",
   "execution_count": 25,
   "metadata": {},
   "outputs": [
    {
     "name": "stdout",
     "output_type": "stream",
     "text": [
      "Combined DataFrame Shape: (328680, 7)\n",
      "<class 'pandas.core.frame.DataFrame'>\n",
      "Index: 328680 entries, 0 to 98549\n",
      "Data columns (total 7 columns):\n",
      " #   Column      Non-Null Count   Dtype         \n",
      "---  ------      --------------   -----         \n",
      " 0   id          328680 non-null  int64         \n",
      " 1   date        328680 non-null  datetime64[ns]\n",
      " 2   country     328680 non-null  object        \n",
      " 3   store       328680 non-null  object        \n",
      " 4   product     328680 non-null  object        \n",
      " 5   num_sold    319809 non-null  float64       \n",
      " 6   is_weekend  328680 non-null  int32         \n",
      "dtypes: datetime64[ns](1), float64(1), int32(1), int64(1), object(3)\n",
      "memory usage: 18.8+ MB\n",
      "None\n",
      "           id       date    country                 store             product  \\\n",
      "98545  328675 2019-12-31  Singapore  Premium Sticker Mart   Holographic Goose   \n",
      "98546  328676 2019-12-31  Singapore  Premium Sticker Mart              Kaggle   \n",
      "98547  328677 2019-12-31  Singapore  Premium Sticker Mart        Kaggle Tiers   \n",
      "98548  328678 2019-12-31  Singapore  Premium Sticker Mart            Kerneler   \n",
      "98549  328679 2019-12-31  Singapore  Premium Sticker Mart  Kerneler Dark Mode   \n",
      "\n",
      "       num_sold  is_weekend  \n",
      "98545       0.0           0  \n",
      "98546       0.0           0  \n",
      "98547       0.0           0  \n",
      "98548       0.0           0  \n",
      "98549       0.0           0  \n"
     ]
    }
   ],
   "source": [
    "print(\"Combined DataFrame Shape:\", df.shape)\n",
    "print(df.info())  # Check column types and non-null counts\n",
    "print(df.tail())  # Verify the last rows come from the test dataset\n"
   ]
  },
  {
   "cell_type": "code",
   "execution_count": 28,
   "metadata": {},
   "outputs": [
    {
     "name": "stdout",
     "output_type": "stream",
     "text": [
      "Unique years in the dataset: [2010 2011 2012 2013 2014 2015 2016 2017 2018 2019]\n",
      "Unique countries in the dataset: ['Canada' 'Finland' 'Italy' 'Kenya' 'Norway' 'Singapore']\n"
     ]
    }
   ],
   "source": [
    "unique_years = df['date'].dt.year.unique()\n",
    "print(\"Unique years in the dataset:\", unique_years)\n",
    "\n",
    "# Find unique country names\n",
    "unique_countries = df['country'].unique()\n",
    "\n",
    "# Print the unique countries\n",
    "print(\"Unique countries in the dataset:\", unique_countries)\n"
   ]
  },
  {
   "cell_type": "code",
   "execution_count": 30,
   "metadata": {},
   "outputs": [],
   "source": [
    "# Define special dates in 'MM-DD' format\n",
    "special_dates = {\n",
    "    'Canada': ['01-01', '07-01', '12-25', '12-26', '11-29'],  # New Year, Canada Day, Christmas, Boxing Day, Black Friday\n",
    "    'Finland': ['01-01', '12-06', '12-24', '06-24'],  # New Year, Independence Day, Christmas Eve, Midsummer\n",
    "    'Italy': ['01-01', '04-25', '12-25', '08-15'],  # New Year, Liberation Day, Christmas, Ferragosto\n",
    "    'Kenya': ['01-01', '06-01', '10-20', '12-25'],  # New Year, Madaraka Day, Mashujaa Day, Christmas\n",
    "    'Norway': ['01-01', '05-17', '06-23', '12-25'],  # New Year, Constitution Day, Midsummer Eve, Christmas\n",
    "    'Singapore': ['01-01', '02-14', '08-09', '12-25'],  # New Year, Chinese New Year, National Day, Christmas\n",
    "}\n",
    "# Function to check if a date is a special day for the given country\n",
    "def is_special_day(row):\n",
    "    country = row['country']\n",
    "    date_md = row['date'].strftime('%m-%d')  # Extract month and day\n",
    "    if country in special_dates and date_md in special_dates[country]:\n",
    "        return 1  # Mark as special day\n",
    "    return 0  # Not a special day\n"
   ]
  },
  {
   "cell_type": "code",
   "execution_count": 31,
   "metadata": {},
   "outputs": [
    {
     "name": "stdout",
     "output_type": "stream",
     "text": [
      "Unique values in 'is_special_day': [1 0]\n",
      "         date  country  is_special_day\n",
      "0  2010-01-01   Canada               1\n",
      "1  2010-01-01   Canada               1\n",
      "2  2010-01-01   Canada               1\n",
      "3  2010-01-01   Canada               1\n",
      "4  2010-01-01   Canada               1\n",
      "5  2010-01-01   Canada               1\n",
      "6  2010-01-01   Canada               1\n",
      "7  2010-01-01   Canada               1\n",
      "8  2010-01-01   Canada               1\n",
      "9  2010-01-01   Canada               1\n",
      "10 2010-01-01   Canada               1\n",
      "11 2010-01-01   Canada               1\n",
      "12 2010-01-01   Canada               1\n",
      "13 2010-01-01   Canada               1\n",
      "14 2010-01-01   Canada               1\n",
      "15 2010-01-01  Finland               1\n",
      "16 2010-01-01  Finland               1\n",
      "17 2010-01-01  Finland               1\n",
      "18 2010-01-01  Finland               1\n",
      "19 2010-01-01  Finland               1\n"
     ]
    }
   ],
   "source": [
    "\n",
    "# Apply the function to create 'is_special_day' column\n",
    "df['is_special_day'] = df.apply(is_special_day, axis=1)\n",
    "\n",
    "# Verify the column\n",
    "print(\"Unique values in 'is_special_day':\", df['is_special_day'].unique())\n",
    "print(df[['date', 'country', 'is_special_day']].head(20))\n",
    "\n",
    "\n"
   ]
  },
  {
   "cell_type": "code",
   "execution_count": 39,
   "metadata": {},
   "outputs": [
    {
     "name": "stdout",
     "output_type": "stream",
     "text": [
      "Unique seasons in the dataset: ['Winter' 'Spring' 'Summer' 'Autumn' 'Dry' 'Long Rains' 'Cool Dry'\n",
      " 'Short Rains']\n",
      "           date country  season\n",
      "0    2010-01-01  Canada  Winter\n",
      "90   2010-01-02  Canada  Winter\n",
      "180  2010-01-03  Canada  Winter\n",
      "270  2010-01-04  Canada  Winter\n",
      "360  2010-01-05  Canada  Winter\n",
      "450  2010-01-06  Canada  Winter\n",
      "540  2010-01-07  Canada  Winter\n",
      "630  2010-01-08  Canada  Winter\n",
      "720  2010-01-09  Canada  Winter\n",
      "810  2010-01-10  Canada  Winter\n",
      "900  2010-01-11  Canada  Winter\n",
      "990  2010-01-12  Canada  Winter\n",
      "1080 2010-01-13  Canada  Winter\n",
      "1170 2010-01-14  Canada  Winter\n",
      "1260 2010-01-15  Canada  Winter\n",
      "1350 2010-01-16  Canada  Winter\n",
      "1440 2010-01-17  Canada  Winter\n",
      "1530 2010-01-18  Canada  Winter\n",
      "1620 2010-01-19  Canada  Winter\n",
      "1710 2010-01-20  Canada  Winter\n"
     ]
    }
   ],
   "source": [
    "# Function to assign seasons based on the country and month\n",
    "def assign_season(row):\n",
    "    month = row['date'].month\n",
    "    country = row['country']\n",
    "    \n",
    "    # Example for Northern Hemisphere (Canada, Finland, Italy, Norway)\n",
    "    if country in ['Canada', 'Finland', 'Italy', 'Norway']:\n",
    "        if month in [12, 1, 2]:\n",
    "            return 'Winter'\n",
    "        elif month in [3, 4, 5]:\n",
    "            return 'Spring'\n",
    "        elif month in [6, 7, 8]:\n",
    "            return 'Summer'\n",
    "        elif month in [9, 10, 11]:\n",
    "            return 'Autumn'\n",
    "    \n",
    "    # Example for Equatorial or Southern Hemisphere (Kenya, Singapore)\n",
    "    elif country in ['Kenya', 'Singapore']:\n",
    "        if month in [12, 1, 2]:\n",
    "            return 'Dry'\n",
    "        elif month in [3, 4, 5]:\n",
    "            return 'Long Rains'\n",
    "        elif month in [6, 7, 8]:\n",
    "            return 'Cool Dry'\n",
    "        elif month in [9, 10, 11]:\n",
    "            return 'Short Rains'\n",
    "\n",
    "# Apply the function to create the 'season' column\n",
    "df['season'] = df.apply(assign_season, axis=1)\n",
    "\n",
    "# Verify the column\n",
    "print(\"Unique seasons in the dataset:\", df['season'].unique())\n",
    "print(df[['date', 'country', 'season']].head(20))\n"
   ]
  },
  {
   "cell_type": "code",
   "execution_count": 40,
   "metadata": {},
   "outputs": [
    {
     "name": "stdout",
     "output_type": "stream",
     "text": [
      "          date  day_of_week  day_of_week_sin  day_of_week_cos\n",
      "0   2010-01-01            4        -0.433884        -0.900969\n",
      "90  2010-01-02            5        -0.974928        -0.222521\n",
      "180 2010-01-03            6        -0.781831         0.623490\n",
      "270 2010-01-04            0         0.000000         1.000000\n",
      "360 2010-01-05            1         0.781831         0.623490\n",
      "450 2010-01-06            2         0.974928        -0.222521\n",
      "540 2010-01-07            3         0.433884        -0.900969\n",
      "630 2010-01-08            4        -0.433884        -0.900969\n",
      "720 2010-01-09            5        -0.974928        -0.222521\n",
      "810 2010-01-10            6        -0.781831         0.623490\n"
     ]
    }
   ],
   "source": [
    "import numpy as np\n",
    "\n",
    "# Extract the day of the week\n",
    "df['day_of_week'] = df['date'].dt.dayofweek\n",
    "\n",
    "# Cyclical encoding for day_of_week\n",
    "df['day_of_week_sin'] = np.sin(2 * np.pi * df['day_of_week'] / 7)\n",
    "df['day_of_week_cos'] = np.cos(2 * np.pi * df['day_of_week'] / 7)\n",
    "\n",
    "# Verify the new features\n",
    "print(df[['date', 'day_of_week', 'day_of_week_sin', 'day_of_week_cos']].head(10))\n",
    "\n"
   ]
  },
  {
   "cell_type": "code",
   "execution_count": 41,
   "metadata": {},
   "outputs": [
    {
     "name": "stdout",
     "output_type": "stream",
     "text": [
      "Unique values in 'day_of_week': [4 5 6 0 1 2 3]\n"
     ]
    }
   ],
   "source": [
    "# Check unique values\n",
    "print(\"Unique values in 'day_of_week':\", df['day_of_week'].unique())\n",
    "\n"
   ]
  },
  {
   "cell_type": "code",
   "execution_count": 42,
   "metadata": {},
   "outputs": [
    {
     "name": "stdout",
     "output_type": "stream",
     "text": [
      "Range of 'day_of_week_sin': -0.9749279121818236 - 0.9749279121818236\n",
      "Range of 'day_of_week_cos': -0.9009688679024191 - 1.0\n"
     ]
    }
   ],
   "source": [
    "# Check ranges of the cyclic features\n",
    "print(\"Range of 'day_of_week_sin':\", df['day_of_week_sin'].min(), \"-\", df['day_of_week_sin'].max())\n",
    "print(\"Range of 'day_of_week_cos':\", df['day_of_week_cos'].min(), \"-\", df['day_of_week_cos'].max())\n",
    "\n"
   ]
  },
  {
   "cell_type": "code",
   "execution_count": 43,
   "metadata": {},
   "outputs": [
    {
     "name": "stdout",
     "output_type": "stream",
     "text": [
      "             date  day_of_week  day_of_week_sin  day_of_week_cos\n",
      "90059  2012-09-27            3         0.433884        -0.900969\n",
      "56798  2018-09-24            0         0.000000         1.000000\n",
      "131017 2013-12-26            3         0.433884        -0.900969\n",
      "222211 2016-10-05            2         0.974928        -0.222521\n",
      "201969 2016-02-23            1         0.781831         0.623490\n",
      "217883 2016-08-17            2         0.974928        -0.222521\n",
      "37613  2018-02-22            3         0.433884        -0.900969\n",
      "74094  2019-04-04            3         0.433884        -0.900969\n",
      "180224 2015-06-26            4        -0.433884        -0.900969\n",
      "180766 2015-07-02            3         0.433884        -0.900969\n"
     ]
    }
   ],
   "source": [
    "# View sample rows\n",
    "print(df[['date', 'day_of_week', 'day_of_week_sin', 'day_of_week_cos']].sample(10))\n"
   ]
  },
  {
   "cell_type": "code",
   "execution_count": 44,
   "metadata": {},
   "outputs": [],
   "source": [
    "# Define public holidays as a dictionary\n",
    "public_holidays = {\n",
    "    'Canada': ['01-01', '07-01', '12-25', '12-26'],\n",
    "    'Finland': ['01-01', '12-06', '12-24', '06-24'],\n",
    "    'Italy': ['01-01', '04-25', '12-25', '08-15'],\n",
    "    'Kenya': ['01-01', '06-01', '10-20', '12-25'],\n",
    "    'Norway': ['01-01', '05-17', '06-23', '12-25'],\n",
    "    'Singapore': ['01-01', '02-14', '08-09', '12-25']\n",
    "}\n",
    "\n",
    "# Convert holidays to a DataFrame\n",
    "holiday_df = []\n",
    "for country, dates in public_holidays.items():\n",
    "    for md in dates:\n",
    "        holiday_df.append({'country': country, 'month_day': md})\n",
    "holiday_df = pd.DataFrame(holiday_df)\n"
   ]
  },
  {
   "cell_type": "code",
   "execution_count": 45,
   "metadata": {},
   "outputs": [],
   "source": [
    "# Extract 'month-day' from date for matching\n",
    "df['month_day'] = df['date'].dt.strftime('%m-%d')\n",
    "\n",
    "# Initialize proximity columns\n",
    "df['days_until_holiday'] = float('inf')  # Default to large value\n",
    "df['days_since_holiday'] = float('inf')\n",
    "\n",
    "# Iterate through each country and match holidays\n",
    "for country in public_holidays.keys():\n",
    "    # Filter dataset for the current country\n",
    "    country_df = df[df['country'] == country]\n",
    "    \n",
    "    # Get holidays for the current country\n",
    "    holidays = [pd.to_datetime(f\"{year}-{md}\") for year in range(2010, 2020) for md in public_holidays[country]]\n",
    "    \n",
    "    for date in country_df['date']:\n",
    "        # Calculate days until and since each holiday\n",
    "        days_until = [(holiday - date).days for holiday in holidays if holiday >= date]\n",
    "        days_since = [(date - holiday).days for holiday in holidays if holiday <= date]\n",
    "        \n",
    "        # Assign the minimum days until/since\n",
    "        df.loc[df['date'] == date, 'days_until_holiday'] = min(days_until, default=float('inf'))\n",
    "        df.loc[df['date'] == date, 'days_since_holiday'] = min(days_since, default=float('inf'))\n"
   ]
  },
  {
   "cell_type": "code",
   "execution_count": 46,
   "metadata": {},
   "outputs": [
    {
     "name": "stdout",
     "output_type": "stream",
     "text": [
      "             date    country month_day  days_until_holiday  days_since_holiday\n",
      "171988 2015-03-26  Singapore     03-26               136.0                40.0\n",
      "94598  2012-11-17     Canada     11-17                38.0               100.0\n",
      "71666  2012-03-07    Finland     03-07               155.0                22.0\n",
      "42031  2011-04-13     Canada     04-13               118.0                58.0\n",
      "85132  2019-08-04  Singapore     08-04                 5.0               171.0\n",
      "163224 2014-12-19      Kenya     12-19                 6.0               132.0\n",
      "125080 2013-10-21     Norway     10-21                65.0                73.0\n",
      "212526 2016-06-19      Italy     06-19                51.0               126.0\n",
      "208345 2016-05-03  Singapore     05-03                98.0                79.0\n",
      "61796  2011-11-18      Kenya     11-18                37.0               101.0\n"
     ]
    }
   ],
   "source": [
    "# View sample rows for validation\n",
    "print(df[['date', 'country', 'month_day', 'days_until_holiday', 'days_since_holiday']].sample(10))\n"
   ]
  },
  {
   "cell_type": "code",
   "execution_count": 47,
   "metadata": {},
   "outputs": [
    {
     "name": "stdout",
     "output_type": "stream",
     "text": [
      "Country-Product Interaction Feature:\n",
      "    country            product country_product_interaction\n",
      "0    Canada  Holographic Goose    Canada_Holographic Goose\n",
      "90   Canada  Holographic Goose    Canada_Holographic Goose\n",
      "180  Canada  Holographic Goose    Canada_Holographic Goose\n",
      "270  Canada  Holographic Goose    Canada_Holographic Goose\n",
      "360  Canada  Holographic Goose    Canada_Holographic Goose\n",
      "450  Canada  Holographic Goose    Canada_Holographic Goose\n",
      "540  Canada  Holographic Goose    Canada_Holographic Goose\n",
      "630  Canada  Holographic Goose    Canada_Holographic Goose\n",
      "720  Canada  Holographic Goose    Canada_Holographic Goose\n",
      "810  Canada  Holographic Goose    Canada_Holographic Goose\n"
     ]
    }
   ],
   "source": [
    "# Create the country-product interaction feature\n",
    "df['country_product_interaction'] = df['country'] + \"_\" + df['product']\n",
    "\n",
    "# Verify the new feature\n",
    "print(\"Country-Product Interaction Feature:\")\n",
    "print(df[['country', 'product', 'country_product_interaction']].head(10))\n"
   ]
  },
  {
   "cell_type": "code",
   "execution_count": 49,
   "metadata": {},
   "outputs": [
    {
     "name": "stdout",
     "output_type": "stream",
     "text": [
      "Unique Country-Product Interactions: 30\n",
      "       country             product country_product_interaction\n",
      "108343  Norway            Kerneler             Norway_Kerneler\n",
      "92210    Kenya   Holographic Goose     Kenya_Holographic Goose\n",
      "183602  Canada        Kaggle Tiers         Canada_Kaggle Tiers\n",
      "55143   Norway            Kerneler             Norway_Kerneler\n",
      "17791   Norway              Kaggle               Norway_Kaggle\n",
      "192939  Norway  Kerneler Dark Mode   Norway_Kerneler Dark Mode\n",
      "6878     Italy            Kerneler              Italy_Kerneler\n",
      "45146    Kenya              Kaggle                Kenya_Kaggle\n",
      "136399   Kenya  Kerneler Dark Mode    Kenya_Kerneler Dark Mode\n",
      "96753   Canada            Kerneler             Canada_Kerneler\n"
     ]
    }
   ],
   "source": [
    "# Check unique values in country-product interaction\n",
    "print(\"Unique Country-Product Interactions:\", df['country_product_interaction'].nunique())\n",
    "\n",
    "# Sample rows to ensure proper feature creation\n",
    "print(df[['country', 'product', 'country_product_interaction']].sample(10))\n",
    "\n"
   ]
  },
  {
   "cell_type": "code",
   "execution_count": 51,
   "metadata": {},
   "outputs": [
    {
     "name": "stdout",
     "output_type": "stream",
     "text": [
      "Remaining Columns in the Dataset:\n",
      "Index(['id', 'date', 'country', 'store', 'product', 'num_sold', 'is_weekend',\n",
      "       'is_special_day', 'season', 'day_of_week', 'day_of_week_sin',\n",
      "       'day_of_week_cos', 'month_day', 'days_until_holiday',\n",
      "       'days_since_holiday', 'country_product_interaction',\n",
      "       'sales_days_since_holiday'],\n",
      "      dtype='object')\n"
     ]
    }
   ],
   "source": [
    "# Columns to remove\n",
    "columns_to_remove = [\n",
    "    'lag_1', 'lag_7', 'lag_30',\n",
    "    'rolling_mean_7', 'rolling_std_7',\n",
    "    'rolling_mean_30', 'rolling_std_30',\n",
    "    'sales_days_until_holiday'\n",
    "]\n",
    "\n",
    "# Drop the columns\n",
    "df = df.drop(columns=columns_to_remove, axis=1)\n",
    "\n",
    "# Verify the columns are removed\n",
    "print(\"Remaining Columns in the Dataset:\")\n",
    "print(df.columns)\n"
   ]
  },
  {
   "cell_type": "code",
   "execution_count": 54,
   "metadata": {},
   "outputs": [],
   "source": [
    "df = df.drop(columns=\"sales_days_since_holiday\",axis=1)"
   ]
  },
  {
   "cell_type": "code",
   "execution_count": 55,
   "metadata": {},
   "outputs": [
    {
     "name": "stdout",
     "output_type": "stream",
     "text": [
      "Index(['id', 'date', 'country', 'store', 'product', 'num_sold', 'is_weekend',\n",
      "       'is_special_day', 'season', 'day_of_week', 'day_of_week_sin',\n",
      "       'day_of_week_cos', 'month_day', 'days_until_holiday',\n",
      "       'days_since_holiday', 'country_product_interaction'],\n",
      "      dtype='object')\n"
     ]
    }
   ],
   "source": [
    "print(df.columns)"
   ]
  },
  {
   "cell_type": "code",
   "execution_count": 57,
   "metadata": {},
   "outputs": [
    {
     "name": "stdout",
     "output_type": "stream",
     "text": [
      "Null Values in the Dataset:\n",
      "id                                0\n",
      "date                              0\n",
      "country                           0\n",
      "store                             0\n",
      "product                           0\n",
      "num_sold                       8871\n",
      "is_weekend                        0\n",
      "is_special_day                    0\n",
      "season                            0\n",
      "day_of_week                       0\n",
      "day_of_week_sin                   0\n",
      "day_of_week_cos                   0\n",
      "month_day                         0\n",
      "days_until_holiday                0\n",
      "days_since_holiday                0\n",
      "country_product_interaction       0\n",
      "dtype: int64\n",
      "\n",
      "Percentage of Missing Values:\n",
      "id                             0.000000\n",
      "date                           0.000000\n",
      "country                        0.000000\n",
      "store                          0.000000\n",
      "product                        0.000000\n",
      "num_sold                       2.698978\n",
      "is_weekend                     0.000000\n",
      "is_special_day                 0.000000\n",
      "season                         0.000000\n",
      "day_of_week                    0.000000\n",
      "day_of_week_sin                0.000000\n",
      "day_of_week_cos                0.000000\n",
      "month_day                      0.000000\n",
      "days_until_holiday             0.000000\n",
      "days_since_holiday             0.000000\n",
      "country_product_interaction    0.000000\n",
      "dtype: float64\n"
     ]
    }
   ],
   "source": [
    "# Check for null values in the dataset\n",
    "print(\"Null Values in the Dataset:\")\n",
    "print(df.isnull().sum())\n",
    "\n",
    "# Percentage of missing values\n",
    "print(\"\\nPercentage of Missing Values:\")\n",
    "print((df.isnull().sum() / len(df)) * 100)"
   ]
  },
  {
   "cell_type": "code",
   "execution_count": 58,
   "metadata": {},
   "outputs": [
    {
     "data": {
      "image/png": "[encoded data removed]",
      "text/plain": [
       "<Figure size 800x600 with 1 Axes>"
      ]
     },
     "metadata": {},
     "output_type": "display_data"
    },
    {
     "data": {
      "image/png": "[encoded data removed]",
      "text/plain": [
       "<Figure size 800x400 with 1 Axes>"
      ]
     },
     "metadata": {},
     "output_type": "display_data"
    }
   ],
   "source": [
    "import matplotlib.pyplot as plt\n",
    "import seaborn as sns\n",
    "\n",
    "# Plot histogram\n",
    "plt.figure(figsize=(8, 6))\n",
    "sns.histplot(df['num_sold'].dropna(), kde=True, bins=30, color='blue')\n",
    "plt.title('Distribution of num_sold')\n",
    "plt.show()\n",
    "\n",
    "# Plot boxplot to check for outliers\n",
    "plt.figure(figsize=(8, 4))\n",
    "sns.boxplot(df['num_sold'].dropna(), color='orange')\n",
    "plt.title('Boxplot of num_sold')\n",
    "plt.show()\n"
   ]
  },
  {
   "cell_type": "code",
   "execution_count": 59,
   "metadata": {},
   "outputs": [
    {
     "name": "stdout",
     "output_type": "stream",
     "text": [
      "Mean: 520.6340534506534\n",
      "Median: 248.0\n",
      "Mode: 0.0\n"
     ]
    }
   ],
   "source": [
    "mean_value = df['num_sold'].mean()\n",
    "median_value = df['num_sold'].median()\n",
    "mode_value = df['num_sold'].mode()[0]\n",
    "\n",
    "print(f\"Mean: {mean_value}\")\n",
    "print(f\"Median: {median_value}\")\n",
    "print(f\"Mode: {mode_value}\")\n"
   ]
  },
  {
   "cell_type": "markdown",
   "metadata": {},
   "source": [
    "Recommended Imputation Method\n",
    "Given the skewed distribution:\n",
    "\n",
    "Median is the best choice:\n",
    "It is robust to outliers and better reflects the central tendency of the majority of the data."
   ]
  },
  {
   "cell_type": "code",
   "execution_count": 61,
   "metadata": {},
   "outputs": [
    {
     "name": "stdout",
     "output_type": "stream",
     "text": [
      "Remaining null values in num_sold: 0\n"
     ]
    }
   ],
   "source": [
    "# Impute missing num_sold values with the median within each group\n",
    "df['num_sold'] = df.groupby(['country', 'store', 'product'])['num_sold'].transform(\n",
    "    lambda x: x.fillna(x.median())\n",
    ")\n",
    "\n",
    "# Verify if any null values remain\n",
    "print(f\"Remaining null values in num_sold: {df['num_sold'].isnull().sum()}\")\n",
    "\n"
   ]
  },
  {
   "cell_type": "code",
   "execution_count": 62,
   "metadata": {},
   "outputs": [
    {
     "name": "stdout",
     "output_type": "stream",
     "text": [
      "Sample Grouped Medians:\n",
      "country  store                 product           \n",
      "Canada   Discount Stickers     Holographic Goose      248.0\n",
      "                               Kaggle                 654.0\n",
      "                               Kaggle Tiers           541.5\n",
      "                               Kerneler               286.0\n",
      "                               Kerneler Dark Mode     326.0\n",
      "         Premium Sticker Mart  Holographic Goose      229.0\n",
      "                               Kaggle                1564.5\n",
      "                               Kaggle Tiers          1295.0\n",
      "                               Kerneler               683.0\n",
      "                               Kerneler Dark Mode     783.0\n",
      "Name: num_sold, dtype: float64\n"
     ]
    }
   ],
   "source": [
    "# Calculate the median num_sold for each group\n",
    "group_medians = df.groupby(['country', 'store', 'product'])['num_sold'].median()\n",
    "\n",
    "# Display a few sample groups and their medians\n",
    "print(\"Sample Grouped Medians:\")\n",
    "print(group_medians.head(10))\n"
   ]
  },
  {
   "cell_type": "code",
   "execution_count": 63,
   "metadata": {},
   "outputs": [
    {
     "data": {
      "image/png": "[encoded data removed]",
      "text/plain": [
       "<Figure size 800x600 with 1 Axes>"
      ]
     },
     "metadata": {},
     "output_type": "display_data"
    },
    {
     "data": {
      "image/png": "[encoded data removed]",
      "text/plain": [
       "<Figure size 800x400 with 1 Axes>"
      ]
     },
     "metadata": {},
     "output_type": "display_data"
    }
   ],
   "source": [
    "# Plot the updated histogram\n",
    "plt.figure(figsize=(8, 6))\n",
    "sns.histplot(df['num_sold'], kde=True, bins=30, color='green')\n",
    "plt.title('Updated Distribution of num_sold (After Imputation)')\n",
    "plt.show()\n",
    "\n",
    "# Plot the updated boxplot\n",
    "plt.figure(figsize=(8, 4))\n",
    "sns.boxplot(df['num_sold'], color='purple')\n",
    "plt.title('Updated Boxplot of num_sold (After Imputation)')\n",
    "plt.show()\n"
   ]
  },
  {
   "cell_type": "code",
   "execution_count": 64,
   "metadata": {},
   "outputs": [
    {
     "name": "stdout",
     "output_type": "stream",
     "text": [
      "Remaining null values in num_sold: 0\n"
     ]
    }
   ],
   "source": [
    "print(f\"Remaining null values in num_sold: {df['num_sold'].isnull().sum()}\")\n"
   ]
  },
  {
   "cell_type": "code",
   "execution_count": 75,
   "metadata": {},
   "outputs": [
    {
     "name": "stderr",
     "output_type": "stream",
     "text": [
      "C:\\Users\\sachi\\AppData\\Local\\Temp\\ipykernel_23776\\4086571256.py:2: FutureWarning: DataFrame.applymap has been deprecated. Use DataFrame.map instead.\n",
      "  inf_check = df[['days_until_holiday', 'days_since_holiday']].applymap(lambda x: x == float('inf') or x == float('-inf'))\n"
     ]
    },
    {
     "name": "stdout",
     "output_type": "stream",
     "text": [
      "Rows with Infinite Values:\n",
      "           id       date    country              store             product  \\\n",
      "98010  328140 2019-12-26     Canada  Discount Stickers   Holographic Goose   \n",
      "98100  328230 2019-12-27     Canada  Discount Stickers   Holographic Goose   \n",
      "98190  328320 2019-12-28     Canada  Discount Stickers   Holographic Goose   \n",
      "98280  328410 2019-12-29     Canada  Discount Stickers   Holographic Goose   \n",
      "98370  328500 2019-12-30     Canada  Discount Stickers   Holographic Goose   \n",
      "...       ...        ...        ...                ...                 ...   \n",
      "98184  328314 2019-12-27  Singapore  Stickers for Less  Kerneler Dark Mode   \n",
      "98274  328404 2019-12-28  Singapore  Stickers for Less  Kerneler Dark Mode   \n",
      "98364  328494 2019-12-29  Singapore  Stickers for Less  Kerneler Dark Mode   \n",
      "98454  328584 2019-12-30  Singapore  Stickers for Less  Kerneler Dark Mode   \n",
      "98544  328674 2019-12-31  Singapore  Stickers for Less  Kerneler Dark Mode   \n",
      "\n",
      "       num_sold  is_weekend  is_special_day  season  day_of_week  \\\n",
      "98010       0.0           0               1  Winter            3   \n",
      "98100       0.0           0               0  Winter            4   \n",
      "98190       0.0           1               0  Winter            5   \n",
      "98280       0.0           1               0  Winter            6   \n",
      "98370       0.0           0               0  Winter            0   \n",
      "...         ...         ...             ...     ...          ...   \n",
      "98184       0.0           0               0     Dry            4   \n",
      "98274       0.0           1               0     Dry            5   \n",
      "98364       0.0           1               0     Dry            6   \n",
      "98454       0.0           0               0     Dry            0   \n",
      "98544       0.0           0               0     Dry            1   \n",
      "\n",
      "       day_of_week_sin  day_of_week_cos month_day  days_until_holiday  \\\n",
      "98010         0.433884        -0.900969     12-26                 inf   \n",
      "98100        -0.433884        -0.900969     12-27                 inf   \n",
      "98190        -0.974928        -0.222521     12-28                 inf   \n",
      "98280        -0.781831         0.623490     12-29                 inf   \n",
      "98370         0.000000         1.000000     12-30                 inf   \n",
      "...                ...              ...       ...                 ...   \n",
      "98184        -0.433884        -0.900969     12-27                 inf   \n",
      "98274        -0.974928        -0.222521     12-28                 inf   \n",
      "98364        -0.781831         0.623490     12-29                 inf   \n",
      "98454         0.000000         1.000000     12-30                 inf   \n",
      "98544         0.781831         0.623490     12-31                 inf   \n",
      "\n",
      "       days_since_holiday   country_product_interaction  \n",
      "98010                 1.0      Canada_Holographic Goose  \n",
      "98100                 2.0      Canada_Holographic Goose  \n",
      "98190                 3.0      Canada_Holographic Goose  \n",
      "98280                 4.0      Canada_Holographic Goose  \n",
      "98370                 5.0      Canada_Holographic Goose  \n",
      "...                   ...                           ...  \n",
      "98184                 2.0  Singapore_Kerneler Dark Mode  \n",
      "98274                 3.0  Singapore_Kerneler Dark Mode  \n",
      "98364                 4.0  Singapore_Kerneler Dark Mode  \n",
      "98454                 5.0  Singapore_Kerneler Dark Mode  \n",
      "98544                 6.0  Singapore_Kerneler Dark Mode  \n",
      "\n",
      "[540 rows x 16 columns]\n"
     ]
    }
   ],
   "source": [
    "# Check for infinite values in the columns\n",
    "inf_check = df[['days_until_holiday', 'days_since_holiday']].applymap(lambda x: x == float('inf') or x == float('-inf'))\n",
    "\n",
    "# Display rows with infinite values\n",
    "print(\"Rows with Infinite Values:\")\n",
    "print(df[inf_check.any(axis=1)])\n",
    "\n",
    "# Replace infinite values with a default\n",
    "df['days_until_holiday'] = df['days_until_holiday'].replace([float('inf'), float('-inf')], 365)\n",
    "df['days_since_holiday'] = df['days_since_holiday'].replace([float('inf'), float('-inf')], 365)\n",
    "\n"
   ]
  },
  {
   "cell_type": "code",
   "execution_count": 76,
   "metadata": {},
   "outputs": [
    {
     "name": "stdout",
     "output_type": "stream",
     "text": [
      "Missing Values in 'days_until_holiday': 0\n",
      "Missing Values in 'days_since_holiday': 0\n"
     ]
    }
   ],
   "source": [
    "# Check for NaN values in the columns\n",
    "print(\"Missing Values in 'days_until_holiday':\", df['days_until_holiday'].isnull().sum())\n",
    "print(\"Missing Values in 'days_since_holiday':\", df['days_since_holiday'].isnull().sum())\n"
   ]
  },
  {
   "cell_type": "code",
   "execution_count": 78,
   "metadata": {},
   "outputs": [
    {
     "name": "stdout",
     "output_type": "stream",
     "text": [
      "Range of 'days_until_holiday': 0.0 - 365.0\n",
      "Range of 'days_since_holiday': 0.0 - 176.0\n"
     ]
    }
   ],
   "source": [
    "# Check the range of values in the columns\n",
    "print(\"Range of 'days_until_holiday':\", df['days_until_holiday'].min(), \"-\", df['days_until_holiday'].max())\n",
    "print(\"Range of 'days_since_holiday':\", df['days_since_holiday'].min(), \"-\", df['days_since_holiday'].max())\n"
   ]
  },
  {
   "cell_type": "code",
   "execution_count": 109,
   "metadata": {},
   "outputs": [],
   "source": [
    "from sklearn.preprocessing import LabelEncoder\n",
    "\n",
    "# Convert 'season' to numerical values using LabelEncoder\n",
    "le = LabelEncoder()\n",
    "df['season'] = le.fit_transform(df['season'])\n"
   ]
  },
  {
   "cell_type": "code",
   "execution_count": null,
   "metadata": {},
   "outputs": [],
   "source": []
  },
  {
   "cell_type": "code",
   "execution_count": 110,
   "metadata": {},
   "outputs": [
    {
     "data": {
      "text/html": [
       "<div>\n",
       "<style scoped>\n",
       "    .dataframe tbody tr th:only-of-type {\n",
       "        vertical-align: middle;\n",
       "    }\n",
       "\n",
       "    .dataframe tbody tr th {\n",
       "        vertical-align: top;\n",
       "    }\n",
       "\n",
       "    .dataframe thead th {\n",
       "        text-align: right;\n",
       "    }\n",
       "</style>\n",
       "<table border=\"1\" class=\"dataframe\">\n",
       "  <thead>\n",
       "    <tr style=\"text-align: right;\">\n",
       "      <th></th>\n",
       "      <th>id</th>\n",
       "      <th>date</th>\n",
       "      <th>country</th>\n",
       "      <th>store</th>\n",
       "      <th>product</th>\n",
       "      <th>num_sold</th>\n",
       "      <th>is_weekend</th>\n",
       "      <th>is_special_day</th>\n",
       "      <th>season</th>\n",
       "      <th>day_of_week</th>\n",
       "      <th>day_of_week_sin</th>\n",
       "      <th>day_of_week_cos</th>\n",
       "      <th>month_day</th>\n",
       "      <th>days_until_holiday</th>\n",
       "      <th>days_since_holiday</th>\n",
       "      <th>country_product_interaction</th>\n",
       "    </tr>\n",
       "  </thead>\n",
       "  <tbody>\n",
       "    <tr>\n",
       "      <th>0</th>\n",
       "      <td>0</td>\n",
       "      <td>2010-01-01</td>\n",
       "      <td>Canada</td>\n",
       "      <td>Discount Stickers</td>\n",
       "      <td>Holographic Goose</td>\n",
       "      <td>248.0</td>\n",
       "      <td>0</td>\n",
       "      <td>1</td>\n",
       "      <td>7</td>\n",
       "      <td>4</td>\n",
       "      <td>-0.433884</td>\n",
       "      <td>-0.900969</td>\n",
       "      <td>01-01</td>\n",
       "      <td>0.0</td>\n",
       "      <td>0.0</td>\n",
       "      <td>Canada_Holographic Goose</td>\n",
       "    </tr>\n",
       "    <tr>\n",
       "      <th>90</th>\n",
       "      <td>90</td>\n",
       "      <td>2010-01-02</td>\n",
       "      <td>Canada</td>\n",
       "      <td>Discount Stickers</td>\n",
       "      <td>Holographic Goose</td>\n",
       "      <td>248.0</td>\n",
       "      <td>1</td>\n",
       "      <td>0</td>\n",
       "      <td>7</td>\n",
       "      <td>5</td>\n",
       "      <td>-0.974928</td>\n",
       "      <td>-0.222521</td>\n",
       "      <td>01-02</td>\n",
       "      <td>43.0</td>\n",
       "      <td>1.0</td>\n",
       "      <td>Canada_Holographic Goose</td>\n",
       "    </tr>\n",
       "    <tr>\n",
       "      <th>180</th>\n",
       "      <td>180</td>\n",
       "      <td>2010-01-03</td>\n",
       "      <td>Canada</td>\n",
       "      <td>Discount Stickers</td>\n",
       "      <td>Holographic Goose</td>\n",
       "      <td>248.0</td>\n",
       "      <td>1</td>\n",
       "      <td>0</td>\n",
       "      <td>7</td>\n",
       "      <td>6</td>\n",
       "      <td>-0.781831</td>\n",
       "      <td>0.623490</td>\n",
       "      <td>01-03</td>\n",
       "      <td>42.0</td>\n",
       "      <td>2.0</td>\n",
       "      <td>Canada_Holographic Goose</td>\n",
       "    </tr>\n",
       "    <tr>\n",
       "      <th>270</th>\n",
       "      <td>270</td>\n",
       "      <td>2010-01-04</td>\n",
       "      <td>Canada</td>\n",
       "      <td>Discount Stickers</td>\n",
       "      <td>Holographic Goose</td>\n",
       "      <td>248.0</td>\n",
       "      <td>0</td>\n",
       "      <td>0</td>\n",
       "      <td>7</td>\n",
       "      <td>0</td>\n",
       "      <td>0.000000</td>\n",
       "      <td>1.000000</td>\n",
       "      <td>01-04</td>\n",
       "      <td>41.0</td>\n",
       "      <td>3.0</td>\n",
       "      <td>Canada_Holographic Goose</td>\n",
       "    </tr>\n",
       "    <tr>\n",
       "      <th>360</th>\n",
       "      <td>360</td>\n",
       "      <td>2010-01-05</td>\n",
       "      <td>Canada</td>\n",
       "      <td>Discount Stickers</td>\n",
       "      <td>Holographic Goose</td>\n",
       "      <td>248.0</td>\n",
       "      <td>0</td>\n",
       "      <td>0</td>\n",
       "      <td>7</td>\n",
       "      <td>1</td>\n",
       "      <td>0.781831</td>\n",
       "      <td>0.623490</td>\n",
       "      <td>01-05</td>\n",
       "      <td>40.0</td>\n",
       "      <td>4.0</td>\n",
       "      <td>Canada_Holographic Goose</td>\n",
       "    </tr>\n",
       "    <tr>\n",
       "      <th>...</th>\n",
       "      <td>...</td>\n",
       "      <td>...</td>\n",
       "      <td>...</td>\n",
       "      <td>...</td>\n",
       "      <td>...</td>\n",
       "      <td>...</td>\n",
       "      <td>...</td>\n",
       "      <td>...</td>\n",
       "      <td>...</td>\n",
       "      <td>...</td>\n",
       "      <td>...</td>\n",
       "      <td>...</td>\n",
       "      <td>...</td>\n",
       "      <td>...</td>\n",
       "      <td>...</td>\n",
       "      <td>...</td>\n",
       "    </tr>\n",
       "    <tr>\n",
       "      <th>4473</th>\n",
       "      <td>4473</td>\n",
       "      <td>2010-02-19</td>\n",
       "      <td>Norway</td>\n",
       "      <td>Discount Stickers</td>\n",
       "      <td>Kerneler</td>\n",
       "      <td>445.0</td>\n",
       "      <td>0</td>\n",
       "      <td>0</td>\n",
       "      <td>7</td>\n",
       "      <td>4</td>\n",
       "      <td>-0.433884</td>\n",
       "      <td>-0.900969</td>\n",
       "      <td>02-19</td>\n",
       "      <td>171.0</td>\n",
       "      <td>5.0</td>\n",
       "      <td>Norway_Kerneler</td>\n",
       "    </tr>\n",
       "    <tr>\n",
       "      <th>4563</th>\n",
       "      <td>4563</td>\n",
       "      <td>2010-02-20</td>\n",
       "      <td>Norway</td>\n",
       "      <td>Discount Stickers</td>\n",
       "      <td>Kerneler</td>\n",
       "      <td>541.0</td>\n",
       "      <td>1</td>\n",
       "      <td>0</td>\n",
       "      <td>7</td>\n",
       "      <td>5</td>\n",
       "      <td>-0.974928</td>\n",
       "      <td>-0.222521</td>\n",
       "      <td>02-20</td>\n",
       "      <td>170.0</td>\n",
       "      <td>6.0</td>\n",
       "      <td>Norway_Kerneler</td>\n",
       "    </tr>\n",
       "    <tr>\n",
       "      <th>4653</th>\n",
       "      <td>4653</td>\n",
       "      <td>2010-02-21</td>\n",
       "      <td>Norway</td>\n",
       "      <td>Discount Stickers</td>\n",
       "      <td>Kerneler</td>\n",
       "      <td>555.0</td>\n",
       "      <td>1</td>\n",
       "      <td>0</td>\n",
       "      <td>7</td>\n",
       "      <td>6</td>\n",
       "      <td>-0.781831</td>\n",
       "      <td>0.623490</td>\n",
       "      <td>02-21</td>\n",
       "      <td>169.0</td>\n",
       "      <td>7.0</td>\n",
       "      <td>Norway_Kerneler</td>\n",
       "    </tr>\n",
       "    <tr>\n",
       "      <th>4743</th>\n",
       "      <td>4743</td>\n",
       "      <td>2010-02-22</td>\n",
       "      <td>Norway</td>\n",
       "      <td>Discount Stickers</td>\n",
       "      <td>Kerneler</td>\n",
       "      <td>489.0</td>\n",
       "      <td>0</td>\n",
       "      <td>0</td>\n",
       "      <td>7</td>\n",
       "      <td>0</td>\n",
       "      <td>0.000000</td>\n",
       "      <td>1.000000</td>\n",
       "      <td>02-22</td>\n",
       "      <td>168.0</td>\n",
       "      <td>8.0</td>\n",
       "      <td>Norway_Kerneler</td>\n",
       "    </tr>\n",
       "    <tr>\n",
       "      <th>4833</th>\n",
       "      <td>4833</td>\n",
       "      <td>2010-02-23</td>\n",
       "      <td>Norway</td>\n",
       "      <td>Discount Stickers</td>\n",
       "      <td>Kerneler</td>\n",
       "      <td>434.0</td>\n",
       "      <td>0</td>\n",
       "      <td>0</td>\n",
       "      <td>7</td>\n",
       "      <td>1</td>\n",
       "      <td>0.781831</td>\n",
       "      <td>0.623490</td>\n",
       "      <td>02-23</td>\n",
       "      <td>167.0</td>\n",
       "      <td>9.0</td>\n",
       "      <td>Norway_Kerneler</td>\n",
       "    </tr>\n",
       "  </tbody>\n",
       "</table>\n",
       "<p>230130 rows × 16 columns</p>\n",
       "</div>"
      ],
      "text/plain": [
       "        id       date country              store            product  num_sold  \\\n",
       "0        0 2010-01-01  Canada  Discount Stickers  Holographic Goose     248.0   \n",
       "90      90 2010-01-02  Canada  Discount Stickers  Holographic Goose     248.0   \n",
       "180    180 2010-01-03  Canada  Discount Stickers  Holographic Goose     248.0   \n",
       "270    270 2010-01-04  Canada  Discount Stickers  Holographic Goose     248.0   \n",
       "360    360 2010-01-05  Canada  Discount Stickers  Holographic Goose     248.0   \n",
       "...    ...        ...     ...                ...                ...       ...   \n",
       "4473  4473 2010-02-19  Norway  Discount Stickers           Kerneler     445.0   \n",
       "4563  4563 2010-02-20  Norway  Discount Stickers           Kerneler     541.0   \n",
       "4653  4653 2010-02-21  Norway  Discount Stickers           Kerneler     555.0   \n",
       "4743  4743 2010-02-22  Norway  Discount Stickers           Kerneler     489.0   \n",
       "4833  4833 2010-02-23  Norway  Discount Stickers           Kerneler     434.0   \n",
       "\n",
       "      is_weekend  is_special_day  season  day_of_week  day_of_week_sin  \\\n",
       "0              0               1       7            4        -0.433884   \n",
       "90             1               0       7            5        -0.974928   \n",
       "180            1               0       7            6        -0.781831   \n",
       "270            0               0       7            0         0.000000   \n",
       "360            0               0       7            1         0.781831   \n",
       "...          ...             ...     ...          ...              ...   \n",
       "4473           0               0       7            4        -0.433884   \n",
       "4563           1               0       7            5        -0.974928   \n",
       "4653           1               0       7            6        -0.781831   \n",
       "4743           0               0       7            0         0.000000   \n",
       "4833           0               0       7            1         0.781831   \n",
       "\n",
       "      day_of_week_cos month_day  days_until_holiday  days_since_holiday  \\\n",
       "0           -0.900969     01-01                 0.0                 0.0   \n",
       "90          -0.222521     01-02                43.0                 1.0   \n",
       "180          0.623490     01-03                42.0                 2.0   \n",
       "270          1.000000     01-04                41.0                 3.0   \n",
       "360          0.623490     01-05                40.0                 4.0   \n",
       "...               ...       ...                 ...                 ...   \n",
       "4473        -0.900969     02-19               171.0                 5.0   \n",
       "4563        -0.222521     02-20               170.0                 6.0   \n",
       "4653         0.623490     02-21               169.0                 7.0   \n",
       "4743         1.000000     02-22               168.0                 8.0   \n",
       "4833         0.623490     02-23               167.0                 9.0   \n",
       "\n",
       "     country_product_interaction  \n",
       "0       Canada_Holographic Goose  \n",
       "90      Canada_Holographic Goose  \n",
       "180     Canada_Holographic Goose  \n",
       "270     Canada_Holographic Goose  \n",
       "360     Canada_Holographic Goose  \n",
       "...                          ...  \n",
       "4473             Norway_Kerneler  \n",
       "4563             Norway_Kerneler  \n",
       "4653             Norway_Kerneler  \n",
       "4743             Norway_Kerneler  \n",
       "4833             Norway_Kerneler  \n",
       "\n",
       "[230130 rows x 16 columns]"
      ]
     },
     "execution_count": 110,
     "metadata": {},
     "output_type": "execute_result"
    }
   ],
   "source": [
    "training_data = df[0:len(train)]\n",
    "testing_data = df[len(train):]\n",
    "\n",
    "training_data\n"
   ]
  },
  {
   "cell_type": "code",
   "execution_count": 111,
   "metadata": {},
   "outputs": [],
   "source": [
    "testing_data = testing_data.drop(columns='num_sold')"
   ]
  },
  {
   "cell_type": "code",
   "execution_count": 112,
   "metadata": {},
   "outputs": [
    {
     "name": "stdout",
     "output_type": "stream",
     "text": [
      "Train shape: (230130, 16), Test shape: (98550, 15)\n"
     ]
    }
   ],
   "source": [
    "print(f\"Train shape: {training_data.shape}, Test shape: {testing_data.shape}\")\n"
   ]
  },
  {
   "cell_type": "code",
   "execution_count": 113,
   "metadata": {},
   "outputs": [
    {
     "name": "stdout",
     "output_type": "stream",
     "text": [
      "Target Encoded Columns in Training Data:\n",
      "     country_encoded  store_encoded  product_encoded  \\\n",
      "0         542.280084     266.988245       123.256782   \n",
      "90        542.280084     266.988245       123.256782   \n",
      "180       542.280084     266.988245       123.256782   \n",
      "270       542.280084     266.988245       123.256782   \n",
      "360       542.280084     266.988245       123.256782   \n",
      "\n",
      "     country_product_interaction_encoded  \n",
      "0                             171.529755  \n",
      "90                            171.529755  \n",
      "180                           171.529755  \n",
      "270                           171.529755  \n",
      "360                           171.529755  \n"
     ]
    },
    {
     "name": "stderr",
     "output_type": "stream",
     "text": [
      "C:\\Users\\sachi\\AppData\\Local\\Temp\\ipykernel_23776\\1849437313.py:10: SettingWithCopyWarning: \n",
      "A value is trying to be set on a copy of a slice from a DataFrame.\n",
      "Try using .loc[row_indexer,col_indexer] = value instead\n",
      "\n",
      "See the caveats in the documentation: https://pandas.pydata.org/pandas-docs/stable/user_guide/indexing.html#returning-a-view-versus-a-copy\n",
      "  training_data[f'{col}_encoded'] = training_data[col].map(target_mean)\n",
      "C:\\Users\\sachi\\AppData\\Local\\Temp\\ipykernel_23776\\1849437313.py:10: SettingWithCopyWarning: \n",
      "A value is trying to be set on a copy of a slice from a DataFrame.\n",
      "Try using .loc[row_indexer,col_indexer] = value instead\n",
      "\n",
      "See the caveats in the documentation: https://pandas.pydata.org/pandas-docs/stable/user_guide/indexing.html#returning-a-view-versus-a-copy\n",
      "  training_data[f'{col}_encoded'] = training_data[col].map(target_mean)\n",
      "C:\\Users\\sachi\\AppData\\Local\\Temp\\ipykernel_23776\\1849437313.py:10: SettingWithCopyWarning: \n",
      "A value is trying to be set on a copy of a slice from a DataFrame.\n",
      "Try using .loc[row_indexer,col_indexer] = value instead\n",
      "\n",
      "See the caveats in the documentation: https://pandas.pydata.org/pandas-docs/stable/user_guide/indexing.html#returning-a-view-versus-a-copy\n",
      "  training_data[f'{col}_encoded'] = training_data[col].map(target_mean)\n",
      "C:\\Users\\sachi\\AppData\\Local\\Temp\\ipykernel_23776\\1849437313.py:10: SettingWithCopyWarning: \n",
      "A value is trying to be set on a copy of a slice from a DataFrame.\n",
      "Try using .loc[row_indexer,col_indexer] = value instead\n",
      "\n",
      "See the caveats in the documentation: https://pandas.pydata.org/pandas-docs/stable/user_guide/indexing.html#returning-a-view-versus-a-copy\n",
      "  training_data[f'{col}_encoded'] = training_data[col].map(target_mean)\n"
     ]
    }
   ],
   "source": [
    "# List of categorical columns to target encode\n",
    "categorical_columns = ['country', 'store', 'product', 'country_product_interaction']\n",
    "\n",
    "# Apply target encoding to the training set\n",
    "for col in categorical_columns:\n",
    "    # Compute the mean num_sold for each category in the training set\n",
    "    target_mean = training_data.groupby(col)['num_sold'].mean()\n",
    "    \n",
    "    # Map the mean to the training set\n",
    "    training_data[f'{col}_encoded'] = training_data[col].map(target_mean)\n",
    "\n",
    "# Verify the encoded columns\n",
    "print(\"Target Encoded Columns in Training Data:\")\n",
    "print(training_data[[f'{col}_encoded' for col in categorical_columns]].head())\n"
   ]
  },
  {
   "cell_type": "code",
   "execution_count": 114,
   "metadata": {},
   "outputs": [
    {
     "name": "stdout",
     "output_type": "stream",
     "text": [
      "Encoded Columns in Testing Data:\n",
      "      country_encoded  store_encoded  product_encoded  \\\n",
      "4923       381.504502     381.504502       381.504502   \n",
      "5013       381.504502     381.504502       381.504502   \n",
      "5103       381.504502     381.504502       381.504502   \n",
      "5193       381.504502     381.504502       381.504502   \n",
      "5283       381.504502     381.504502       381.504502   \n",
      "\n",
      "      country_product_interaction_encoded  \n",
      "4923                           520.240741  \n",
      "5013                           520.240741  \n",
      "5103                           520.240741  \n",
      "5193                           520.240741  \n",
      "5283                           520.240741  \n"
     ]
    }
   ],
   "source": [
    "# Global mean for handling unseen categories\n",
    "global_mean = training_data['num_sold'].mean()\n",
    "\n",
    "# Apply target encoding to the test set\n",
    "for col in categorical_columns:\n",
    "    # Map the training set means to the test set\n",
    "    testing_data[f'{col}_encoded'] = testing_data[col].map(target_mean).fillna(global_mean)\n",
    "\n",
    "# Verify the encoded columns in the test set\n",
    "print(\"Encoded Columns in Testing Data:\")\n",
    "print(testing_data[[f'{col}_encoded' for col in categorical_columns]].head())\n"
   ]
  },
  {
   "cell_type": "code",
   "execution_count": 115,
   "metadata": {},
   "outputs": [
    {
     "name": "stdout",
     "output_type": "stream",
     "text": [
      "Mean num_sold by country in training data:\n",
      "country\n",
      "Canada     542.280084\n",
      "Finland    523.893246\n",
      "Italy      379.658069\n",
      "Kenya       33.518456\n",
      "Norway     613.700817\n",
      "Name: num_sold, dtype: float64\n",
      "    country  country_encoded\n",
      "0    Canada       542.280084\n",
      "15  Finland       523.893246\n",
      "30    Italy       379.658069\n",
      "45    Kenya        33.518456\n",
      "60   Norway       613.700817\n"
     ]
    }
   ],
   "source": [
    "# Example: Verify target encoding for 'country' in training data\n",
    "print(\"Mean num_sold by country in training data:\")\n",
    "print(training_data.groupby('country')['num_sold'].mean())\n",
    "\n",
    "# Compare with encoded values\n",
    "print(training_data[['country', 'country_encoded']].drop_duplicates().head())\n"
   ]
  },
  {
   "cell_type": "code",
   "execution_count": 116,
   "metadata": {},
   "outputs": [
    {
     "name": "stdout",
     "output_type": "stream",
     "text": [
      "Null Values in Encoded Columns (Training Data):\n",
      "country_encoded                        0\n",
      "store_encoded                          0\n",
      "product_encoded                        0\n",
      "country_product_interaction_encoded    0\n",
      "dtype: int64\n",
      "Null Values in Encoded Columns (Testing Data):\n",
      "country_encoded                        0\n",
      "store_encoded                          0\n",
      "product_encoded                        0\n",
      "country_product_interaction_encoded    0\n",
      "dtype: int64\n"
     ]
    }
   ],
   "source": [
    "# Check for null values in the encoded columns\n",
    "encoded_columns = [f'{col}_encoded' for col in categorical_columns]\n",
    "print(\"Null Values in Encoded Columns (Training Data):\")\n",
    "print(training_data[encoded_columns].isnull().sum())\n",
    "\n",
    "print(\"Null Values in Encoded Columns (Testing Data):\")\n",
    "print(testing_data[encoded_columns].isnull().sum())\n"
   ]
  },
  {
   "cell_type": "code",
   "execution_count": 117,
   "metadata": {},
   "outputs": [
    {
     "data": {
      "text/html": [
       "<div>\n",
       "<style scoped>\n",
       "    .dataframe tbody tr th:only-of-type {\n",
       "        vertical-align: middle;\n",
       "    }\n",
       "\n",
       "    .dataframe tbody tr th {\n",
       "        vertical-align: top;\n",
       "    }\n",
       "\n",
       "    .dataframe thead th {\n",
       "        text-align: right;\n",
       "    }\n",
       "</style>\n",
       "<table border=\"1\" class=\"dataframe\">\n",
       "  <thead>\n",
       "    <tr style=\"text-align: right;\">\n",
       "      <th></th>\n",
       "      <th>country_encoded</th>\n",
       "      <th>store_encoded</th>\n",
       "      <th>product_encoded</th>\n",
       "      <th>country_product_interaction_encoded</th>\n",
       "      <th>is_weekend</th>\n",
       "      <th>days_until_holiday</th>\n",
       "      <th>days_since_holiday</th>\n",
       "      <th>season</th>\n",
       "      <th>day_of_week_sin</th>\n",
       "      <th>day_of_week_cos</th>\n",
       "    </tr>\n",
       "  </thead>\n",
       "  <tbody>\n",
       "    <tr>\n",
       "      <th>4923</th>\n",
       "      <td>381.504502</td>\n",
       "      <td>381.504502</td>\n",
       "      <td>381.504502</td>\n",
       "      <td>520.240741</td>\n",
       "      <td>0</td>\n",
       "      <td>166.0</td>\n",
       "      <td>10.0</td>\n",
       "      <td>7</td>\n",
       "      <td>0.974928</td>\n",
       "      <td>-0.222521</td>\n",
       "    </tr>\n",
       "    <tr>\n",
       "      <th>5013</th>\n",
       "      <td>381.504502</td>\n",
       "      <td>381.504502</td>\n",
       "      <td>381.504502</td>\n",
       "      <td>520.240741</td>\n",
       "      <td>0</td>\n",
       "      <td>165.0</td>\n",
       "      <td>11.0</td>\n",
       "      <td>7</td>\n",
       "      <td>0.433884</td>\n",
       "      <td>-0.900969</td>\n",
       "    </tr>\n",
       "    <tr>\n",
       "      <th>5103</th>\n",
       "      <td>381.504502</td>\n",
       "      <td>381.504502</td>\n",
       "      <td>381.504502</td>\n",
       "      <td>520.240741</td>\n",
       "      <td>0</td>\n",
       "      <td>164.0</td>\n",
       "      <td>12.0</td>\n",
       "      <td>7</td>\n",
       "      <td>-0.433884</td>\n",
       "      <td>-0.900969</td>\n",
       "    </tr>\n",
       "    <tr>\n",
       "      <th>5193</th>\n",
       "      <td>381.504502</td>\n",
       "      <td>381.504502</td>\n",
       "      <td>381.504502</td>\n",
       "      <td>520.240741</td>\n",
       "      <td>1</td>\n",
       "      <td>163.0</td>\n",
       "      <td>13.0</td>\n",
       "      <td>7</td>\n",
       "      <td>-0.974928</td>\n",
       "      <td>-0.222521</td>\n",
       "    </tr>\n",
       "    <tr>\n",
       "      <th>5283</th>\n",
       "      <td>381.504502</td>\n",
       "      <td>381.504502</td>\n",
       "      <td>381.504502</td>\n",
       "      <td>520.240741</td>\n",
       "      <td>1</td>\n",
       "      <td>162.0</td>\n",
       "      <td>14.0</td>\n",
       "      <td>7</td>\n",
       "      <td>-0.781831</td>\n",
       "      <td>0.623490</td>\n",
       "    </tr>\n",
       "    <tr>\n",
       "      <th>...</th>\n",
       "      <td>...</td>\n",
       "      <td>...</td>\n",
       "      <td>...</td>\n",
       "      <td>...</td>\n",
       "      <td>...</td>\n",
       "      <td>...</td>\n",
       "      <td>...</td>\n",
       "      <td>...</td>\n",
       "      <td>...</td>\n",
       "      <td>...</td>\n",
       "    </tr>\n",
       "    <tr>\n",
       "      <th>98184</th>\n",
       "      <td>381.504502</td>\n",
       "      <td>381.504502</td>\n",
       "      <td>381.504502</td>\n",
       "      <td>381.504502</td>\n",
       "      <td>0</td>\n",
       "      <td>365.0</td>\n",
       "      <td>2.0</td>\n",
       "      <td>2</td>\n",
       "      <td>-0.433884</td>\n",
       "      <td>-0.900969</td>\n",
       "    </tr>\n",
       "    <tr>\n",
       "      <th>98274</th>\n",
       "      <td>381.504502</td>\n",
       "      <td>381.504502</td>\n",
       "      <td>381.504502</td>\n",
       "      <td>381.504502</td>\n",
       "      <td>1</td>\n",
       "      <td>365.0</td>\n",
       "      <td>3.0</td>\n",
       "      <td>2</td>\n",
       "      <td>-0.974928</td>\n",
       "      <td>-0.222521</td>\n",
       "    </tr>\n",
       "    <tr>\n",
       "      <th>98364</th>\n",
       "      <td>381.504502</td>\n",
       "      <td>381.504502</td>\n",
       "      <td>381.504502</td>\n",
       "      <td>381.504502</td>\n",
       "      <td>1</td>\n",
       "      <td>365.0</td>\n",
       "      <td>4.0</td>\n",
       "      <td>2</td>\n",
       "      <td>-0.781831</td>\n",
       "      <td>0.623490</td>\n",
       "    </tr>\n",
       "    <tr>\n",
       "      <th>98454</th>\n",
       "      <td>381.504502</td>\n",
       "      <td>381.504502</td>\n",
       "      <td>381.504502</td>\n",
       "      <td>381.504502</td>\n",
       "      <td>0</td>\n",
       "      <td>365.0</td>\n",
       "      <td>5.0</td>\n",
       "      <td>2</td>\n",
       "      <td>0.000000</td>\n",
       "      <td>1.000000</td>\n",
       "    </tr>\n",
       "    <tr>\n",
       "      <th>98544</th>\n",
       "      <td>381.504502</td>\n",
       "      <td>381.504502</td>\n",
       "      <td>381.504502</td>\n",
       "      <td>381.504502</td>\n",
       "      <td>0</td>\n",
       "      <td>365.0</td>\n",
       "      <td>6.0</td>\n",
       "      <td>2</td>\n",
       "      <td>0.781831</td>\n",
       "      <td>0.623490</td>\n",
       "    </tr>\n",
       "  </tbody>\n",
       "</table>\n",
       "<p>98550 rows × 10 columns</p>\n",
       "</div>"
      ],
      "text/plain": [
       "       country_encoded  store_encoded  product_encoded  \\\n",
       "4923        381.504502     381.504502       381.504502   \n",
       "5013        381.504502     381.504502       381.504502   \n",
       "5103        381.504502     381.504502       381.504502   \n",
       "5193        381.504502     381.504502       381.504502   \n",
       "5283        381.504502     381.504502       381.504502   \n",
       "...                ...            ...              ...   \n",
       "98184       381.504502     381.504502       381.504502   \n",
       "98274       381.504502     381.504502       381.504502   \n",
       "98364       381.504502     381.504502       381.504502   \n",
       "98454       381.504502     381.504502       381.504502   \n",
       "98544       381.504502     381.504502       381.504502   \n",
       "\n",
       "       country_product_interaction_encoded  is_weekend  days_until_holiday  \\\n",
       "4923                            520.240741           0               166.0   \n",
       "5013                            520.240741           0               165.0   \n",
       "5103                            520.240741           0               164.0   \n",
       "5193                            520.240741           1               163.0   \n",
       "5283                            520.240741           1               162.0   \n",
       "...                                    ...         ...                 ...   \n",
       "98184                           381.504502           0               365.0   \n",
       "98274                           381.504502           1               365.0   \n",
       "98364                           381.504502           1               365.0   \n",
       "98454                           381.504502           0               365.0   \n",
       "98544                           381.504502           0               365.0   \n",
       "\n",
       "       days_since_holiday  season  day_of_week_sin  day_of_week_cos  \n",
       "4923                 10.0       7         0.974928        -0.222521  \n",
       "5013                 11.0       7         0.433884        -0.900969  \n",
       "5103                 12.0       7        -0.433884        -0.900969  \n",
       "5193                 13.0       7        -0.974928        -0.222521  \n",
       "5283                 14.0       7        -0.781831         0.623490  \n",
       "...                   ...     ...              ...              ...  \n",
       "98184                 2.0       2        -0.433884        -0.900969  \n",
       "98274                 3.0       2        -0.974928        -0.222521  \n",
       "98364                 4.0       2        -0.781831         0.623490  \n",
       "98454                 5.0       2         0.000000         1.000000  \n",
       "98544                 6.0       2         0.781831         0.623490  \n",
       "\n",
       "[98550 rows x 10 columns]"
      ]
     },
     "execution_count": 117,
     "metadata": {},
     "output_type": "execute_result"
    }
   ],
   "source": [
    "# Define the complete feature list\n",
    "features = [\n",
    "    # Target-encoded features\n",
    "    'country_encoded', 'store_encoded', 'product_encoded', 'country_product_interaction_encoded',\n",
    "\n",
    "    # Engineered numerical features\n",
    "    'is_weekend', 'days_until_holiday', 'days_since_holiday', 'season',\n",
    "\n",
    "    # Temporal features (cyclic encoding for day of the week)\n",
    "    'day_of_week_sin', 'day_of_week_cos',\n",
    "    \n",
    "    # Add lag/rolling features if already created\n",
    "    # 'lag_7', 'rolling_mean_7', 'rolling_mean_30', etc.\n",
    "]\n",
    "\n",
    "# Prepare feature and target sets for training\n",
    "X_train = training_data[features]\n",
    "y_train = training_data['num_sold']\n",
    "\n",
    "X_test = testing_data[features]  # Test data does not have 'num_sold'\n",
    "X_test\n"
   ]
  },
  {
   "cell_type": "code",
   "execution_count": 118,
   "metadata": {},
   "outputs": [
    {
     "name": "stdout",
     "output_type": "stream",
     "text": [
      "Training set: (184104, 10), Validation set: (46026, 10)\n"
     ]
    }
   ],
   "source": [
    "from sklearn.model_selection import train_test_split\n",
    "\n",
    "# Split training data into training and validation sets\n",
    "X_train_split, X_val, y_train_split, y_val = train_test_split(X_train, y_train, test_size=0.2, random_state=42)\n",
    "\n",
    "# Verify the shapes\n",
    "print(f\"Training set: {X_train_split.shape}, Validation set: {X_val.shape}\")\n"
   ]
  },
  {
   "cell_type": "code",
   "execution_count": 119,
   "metadata": {},
   "outputs": [
    {
     "name": "stdout",
     "output_type": "stream",
     "text": [
      "Training set shape: (184104, 10), Validation set shape: (46026, 10)\n",
      "[LightGBM] [Info] Auto-choosing row-wise multi-threading, the overhead of testing was 0.002361 seconds.\n",
      "You can set `force_row_wise=true` to remove the overhead.\n",
      "And if memory is not enough, you can set `force_col_wise=true`.\n",
      "[LightGBM] [Info] Total Bins 420\n",
      "[LightGBM] [Info] Number of data points in the train set: 184104, number of used features: 10\n",
      "[LightGBM] [Info] Start training from score 381.514877\n",
      "Validation MAPE: 36301726942791282688.00%\n",
      "Predictions saved to submission.csv!\n"
     ]
    },
    {
     "data": {
      "image/png": "[encoded data removed]",
      "text/plain": [
       "<Figure size 1000x600 with 1 Axes>"
      ]
     },
     "metadata": {},
     "output_type": "display_data"
    }
   ],
   "source": [
    "import lightgbm as lgb\n",
    "from sklearn.model_selection import train_test_split\n",
    "from sklearn.metrics import mean_absolute_percentage_error\n",
    "import pandas as pd\n",
    "import matplotlib.pyplot as plt\n",
    "\n",
    "# Step 1: Define the Features and Target\n",
    "features = [\n",
    "    # Target-encoded features\n",
    "    'country_encoded', 'store_encoded', 'product_encoded', 'country_product_interaction_encoded',\n",
    "\n",
    "    # Engineered numerical features\n",
    "    'is_weekend', 'days_until_holiday', 'days_since_holiday', 'season',\n",
    "\n",
    "    # Temporal features (cyclic encoding for day of the week)\n",
    "    'day_of_week_sin', 'day_of_week_cos',\n",
    "    \n",
    "    # Add any lag/rolling features if applicable\n",
    "    # 'lag_7', 'rolling_mean_7', 'rolling_mean_30', etc.\n",
    "]\n",
    "\n",
    "target = 'num_sold'\n",
    "\n",
    "X_train = training_data[features]\n",
    "y_train = training_data[target]\n",
    "X_test = testing_data[features]  # Test set does not have 'num_sold'\n",
    "\n",
    "# Step 2: Split the Training Data into Training and Validation Sets\n",
    "X_train_split, X_val, y_train_split, y_val = train_test_split(X_train, y_train, test_size=0.2, random_state=42)\n",
    "\n",
    "print(f\"Training set shape: {X_train_split.shape}, Validation set shape: {X_val.shape}\")\n",
    "\n",
    "# Step 3: Initialize and Train LGBMRegressor\n",
    "model = lgb.LGBMRegressor(\n",
    "    objective='regression',         # Regression task\n",
    "    metric='mape',                  # Mean Absolute Percentage Error\n",
    "    random_state=42,                # Random seed for reproducibility\n",
    "    learning_rate=0.1,              # Learning rate\n",
    "    n_estimators=1000,              # Maximum number of boosting iterations\n",
    "    max_depth=7                     # Maximum depth of each tree\n",
    ")\n",
    "\n",
    "# Train the model with early stopping\n",
    "model.fit(\n",
    "    X_train_split, y_train_split,\n",
    "    eval_set=[(X_val, y_val)],      # Validation set for monitoring\n",
    "    eval_metric='mape'            # Validation metric\n",
    "           # Stop if no improvement after 50 rounds\n",
    "                    # Log progress every 10 rounds\n",
    ")\n",
    "\n",
    "# Step 4: Validate the Model\n",
    "# Predict on the validation set\n",
    "y_val_pred = model.predict(X_val)\n",
    "\n",
    "# Evaluate the model's performance\n",
    "mape = mean_absolute_percentage_error(y_val, y_val_pred)\n",
    "print(f\"Validation MAPE: {mape * 100:.2f}%\")\n",
    "\n",
    "# Step 5: Predict on the Test Set\n",
    "# Predict the target variable (num_sold) for the test set\n",
    "test_predictions = model.predict(X_test)\n",
    "# Save predictions to a submission file\n",
    "testing_data['num_sold_pred'] = test_predictions\n",
    "testing_data[['id', 'num_sold_pred']].rename(columns={'num_sold_pred': 'num_sold'}).to_csv('submission.csv', index=False)\n",
    "print(\"Predictions saved to submission.csv!\")\n",
    "\n",
    "# Optional: Feature Importance\n",
    "# Plot feature importance\n",
    "lgb.plot_importance(model, importance_type='split', figsize=(10, 6))\n",
    "plt.title('Feature Importance')\n",
    "plt.show()\n",
    "\n"
   ]
  },
  {
   "cell_type": "code",
   "execution_count": 122,
   "metadata": {},
   "outputs": [
    {
     "name": "stdout",
     "output_type": "stream",
     "text": [
      "Submission file created successfully!\n"
     ]
    }
   ],
   "source": [
    "# Use the index from testing_data as the id column in the submission\n",
    "submission = pd.DataFrame({\n",
    "    'id':   test['id'],       # Use 'id' column from testing_data\n",
    "     # Use index from testing_data\n",
    "    'num_sold': test_predictions    # Predictions from the model\n",
    "})\n",
    "\n",
    "# Save the submission file\n",
    "submission.to_csv('submission123.csv', index=False)\n",
    "print(\"Submission file created successfully!\")"
   ]
  },
  {
   "cell_type": "code",
   "execution_count": 96,
   "metadata": {},
   "outputs": [
    {
     "name": "stdout",
     "output_type": "stream",
     "text": [
      "Defaulting to user installation because normal site-packages is not writeable\n",
      "Requirement already satisfied: lightgbm in c:\\users\\sachi\\appdata\\roaming\\python\\python312\\site-packages (4.5.0)\n",
      "Requirement already satisfied: numpy>=1.17.0 in c:\\users\\sachi\\appdata\\roaming\\python\\python312\\site-packages (from lightgbm) (1.26.4)\n",
      "Requirement already satisfied: scipy in c:\\programdata\\anaconda3\\lib\\site-packages (from lightgbm) (1.13.1)\n",
      "Note: you may need to restart the kernel to use updated packages.\n"
     ]
    }
   ],
   "source": []
  },
  {
   "cell_type": "code",
   "execution_count": null,
   "metadata": {},
   "outputs": [],
   "source": []
  }
 ],
 "metadata": {
  "kernelspec": {
   "display_name": "Python (venv)",
   "language": "python",
   "name": "venv"
  },
  "language_info": {
   "codemirror_mode": {
    "name": "ipython",
    "version": 3
   },
   "file_extension": ".py",
   "mimetype": "text/x-python",
   "name": "python",
   "nbconvert_exporter": "python",
   "pygments_lexer": "ipython3",
   "version": "3.12.3"
  }
 },
 "nbformat": 4,
 "nbformat_minor": 2
}
